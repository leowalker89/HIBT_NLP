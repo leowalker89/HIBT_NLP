{
 "cells": [
  {
   "cell_type": "code",
   "execution_count": 6,
   "metadata": {},
   "outputs": [
    {
     "name": "stdout",
     "output_type": "stream",
     "text": [
      "260\n"
     ]
    }
   ],
   "source": [
    "# I need to count how many text files are in podscribe_transcription/hibt_main\n",
    "\n",
    "import os\n",
    "import re\n",
    "\n",
    "# Set the directory you want to start from\n",
    "rootDir = 'podscribe_transcription/hibt_main'\n",
    "count = 0\n",
    "for dirName, subdirList, fileList in os.walk(rootDir):\n",
    "    for fname in fileList:\n",
    "        if fname.endswith('.txt'):\n",
    "            count += 1\n",
    "            # print('\\t%s' % fname)\n",
    "print(count)"
   ]
  },
  {
   "cell_type": "code",
   "execution_count": 7,
   "metadata": {},
   "outputs": [],
   "source": [
    "# Podscribe does a decent job labeling ads with the advertisers name, we'll remove these from the transcripts\n",
    "\n",
    "def remove_ads(transcript):\n",
    "    # Split the transcript into lines\n",
    "    lines = transcript.split('\\n')\n",
    "\n",
    "    # List to hold lines that are part of the main content, including speaker identifiers\n",
    "    content_lines = []\n",
    "\n",
    "    # Adjusted regular expression to match speaker identifiers with hours, minutes, and seconds\n",
    "    speaker_regex = r'^\\d+ \\((\\d+h )?(\\d+m )?\\d+s\\):'\n",
    "\n",
    "    # Loop through the lines with an index so we can look ahead\n",
    "    i = 0\n",
    "    while i < len(lines):\n",
    "        # Check if the line matches the pattern for a speaker\n",
    "        if re.match(speaker_regex, lines[i]):\n",
    "            # Include this line (speaker identifier)\n",
    "            content_lines.append(lines[i])\n",
    "            \n",
    "            # Check and include the next line if it exists\n",
    "            if i + 1 < len(lines):\n",
    "                content_lines.append(lines[i + 1])  # Include the next line (content)\n",
    "                content_lines.append(\"\")  # Add an empty line for separation\n",
    "                \n",
    "            i += 2  # Move past the next line since we've included it\n",
    "        else:\n",
    "            i += 1  # Increment to check the next line if this isn't a speaker\n",
    "\n",
    "    # Join the content lines back into a single string, ensuring separation\n",
    "    cleaned_transcript = '\\n'.join(content_lines)\n",
    "    return cleaned_transcript\n"
   ]
  },
  {
   "cell_type": "code",
   "execution_count": 12,
   "metadata": {},
   "outputs": [],
   "source": [
    "import re\n",
    "from collections import defaultdict\n",
    "\n",
    "def identify_host(transcript):\n",
    "    # Split the transcript into lines\n",
    "    lines = transcript.split('\\n')\n",
    "\n",
    "    # Dictionaries to hold counts\n",
    "    welcome_counts = defaultdict(int)\n",
    "    question_counts = defaultdict(int)\n",
    "\n",
    "    # Updated regular expression to match speaker identifiers with any timestamp\n",
    "    speaker_regex = r'^(\\d+) \\((\\d+h )?\\d+m \\d+s\\):'\n",
    "\n",
    "    current_speaker = None\n",
    "    for line in lines:\n",
    "        # Check if the line contains a speaker identifier\n",
    "        speaker_match = re.match(speaker_regex, line)\n",
    "        if speaker_match:\n",
    "            current_speaker = speaker_match.group(1)\n",
    "        else:\n",
    "            # If the line doesn't contain a speaker identifier, it's part of the current speaker's text\n",
    "            if current_speaker is not None:\n",
    "                # Count 'welcome to' and 'welcome back'\n",
    "                if 'welcome to' in line.lower() or 'welcome back' in line.lower():\n",
    "                    welcome_counts[current_speaker] += 1\n",
    "\n",
    "                # Count question marks\n",
    "                question_counts[current_speaker] += line.count('?')\n",
    "\n",
    "    # Identify the host and the speaker with the most questions\n",
    "    # If multiple speakers have the same welcome count, this method still picks one, \n",
    "    # which might need manual verification for accuracy\n",
    "    welcome_speaker = max(welcome_counts, key=welcome_counts.get) if welcome_counts else None\n",
    "    most_questions_speaker = max(question_counts, key=question_counts.get) if question_counts else None\n",
    "\n",
    "    # check if the welcome_speaker and most_questions_speaker is the same if they are then welcome_questions_match = True else False\n",
    "    if welcome_speaker == most_questions_speaker:\n",
    "        host_speaker = welcome_speaker\n",
    "        welcome_questions_match = True\n",
    "    elif welcome_speaker is None:\n",
    "        host_speaker = most_questions_speaker\n",
    "        welcome_questions_match = False\n",
    "    else:\n",
    "        host_speaker = welcome_speaker\n",
    "        welcome_questions_match = False\n",
    "\n",
    "    return host_speaker, welcome_questions_match\n"
   ]
  },
  {
   "cell_type": "code",
   "execution_count": 13,
   "metadata": {},
   "outputs": [],
   "source": [
    "def insert_marker_before_host(transcript, host_speaker):\n",
    "    # Split the transcript into lines\n",
    "    lines = transcript.split('\\n')\n",
    "\n",
    "    # Regular expression to match any speaker identifiers with timestamps\n",
    "    speaker_regex = r'^(\\d+) \\((\\d+h )?\\d+m \\d+s\\):'\n",
    "\n",
    "    # List to hold the modified lines\n",
    "    modified_lines = []\n",
    "\n",
    "    for line in lines:\n",
    "        speaker_match = re.match(speaker_regex, line)\n",
    "        if speaker_match:\n",
    "            current_speaker = speaker_match.group(1)\n",
    "            # If the current speaker is the host, insert the marker before adding the line\n",
    "            if current_speaker == host_speaker:\n",
    "                modified_lines.append(\"###\")  # Insert marker\n",
    "            modified_lines.append(line)\n",
    "        else:\n",
    "            modified_lines.append(line)\n",
    "\n",
    "    # Join the modified lines back into a single string\n",
    "    modified_transcript = '\\n'.join(modified_lines)\n",
    "    return modified_transcript\n"
   ]
  },
  {
   "cell_type": "code",
   "execution_count": 10,
   "metadata": {},
   "outputs": [],
   "source": [
    "# first we loop through the folder and remove the ads from the transcripts and place them in a new folder\n",
    "# for each file in hibt_test we will remove the ads and place them into hibt_test_cleaned\n",
    "for dirName, subdirList, fileList in os.walk('podscribe_transcription/hibt_test'):\n",
    "    for fname in fileList:\n",
    "        if fname.endswith('.txt'):\n",
    "            with open(dirName + '/' + fname, 'r') as file:\n",
    "                transcript = file.read()\n",
    "                cleaned_transcript = remove_ads(transcript)\n",
    "                with open('podscribe_transcription/hibt_test_cleaned/' + fname, 'w') as file:\n",
    "                    file.write(cleaned_transcript)"
   ]
  },
  {
   "cell_type": "code",
   "execution_count": 14,
   "metadata": {},
   "outputs": [
    {
     "name": "stdout",
     "output_type": "stream",
     "text": [
      "defaultdict(<function <lambda> at 0x1070cb490>, {'Orangetheory Fitness_ Ellen Latham-transcript.txt': {'host': '0', 'welcome_questions_match': True}, 'Mailchimp_ Ben Chestnut-transcript.txt': {'host': '0', 'welcome_questions_match': True}, 'reCAPTCHA and Duolingo_ Luis von Ahn-transcript.txt': {'host': '4', 'welcome_questions_match': True}, 'Fitbit_ James Park-transcript.txt': {'host': '3', 'welcome_questions_match': True}, 'Ring_ Jamie Siminoff-transcript.txt': {'host': '1', 'welcome_questions_match': True}, 'Patagonia_ Yvon Chouinard-transcript.txt': {'host': '0', 'welcome_questions_match': False}, 'Coinbase_ Brian Armstrong-transcript.txt': {'host': '3', 'welcome_questions_match': True}, 'Etsy_ Rob Kalin-transcript.txt': {'host': '0', 'welcome_questions_match': True}, 'Twitch_ Emmett Shear-transcript.txt': {'host': '1', 'welcome_questions_match': True}, 'Robinhood_ Vlad Tenev-transcript.txt': {'host': '3', 'welcome_questions_match': True}})\n"
     ]
    }
   ],
   "source": [
    "# Now lets create a default dictionary to hold the file name of each of the files in hibt_test_cleaned to help hold the host_speaker if the welcome_questions_match is True \n",
    "# We'll have a dictionary structure like {filename: {host: host_speaker, welcome_questions_match: True/False}}\n",
    "\n",
    "import os\n",
    "from collections import defaultdict\n",
    "\n",
    "# Initialize the defaultdict\n",
    "hibt_test_meta = defaultdict(lambda: {\"host\": None, \"welcome_questions_match\": False})\n",
    "\n",
    "# Directory path\n",
    "dir_path = \"podscribe_transcription/hibt_test_cleaned\"\n",
    "\n",
    "# Loop through each file in the directory\n",
    "for filename in os.listdir(dir_path):\n",
    "    # Open the file and read the transcript\n",
    "    with open(os.path.join(dir_path, filename), 'r') as file:\n",
    "        transcript = file.read()\n",
    "\n",
    "    # Identify the host and whether the welcome questions match\n",
    "    host_speaker, welcome_questions_match = identify_host(transcript)\n",
    "\n",
    "    # Add data to the dictionary\n",
    "    hibt_test_meta[filename][\"host\"] = host_speaker\n",
    "    hibt_test_meta[filename][\"welcome_questions_match\"] = welcome_questions_match\n",
    "\n",
    "print(hibt_test_meta)"
   ]
  },
  {
   "cell_type": "code",
   "execution_count": 15,
   "metadata": {},
   "outputs": [],
   "source": [
    "# Loop through the cleaned transcripts and insert markers for the host comments\n",
    "for dirName, subdirList, fileList in os.walk('podscribe_transcription/hibt_test_cleaned'):\n",
    "    for fname in fileList:\n",
    "        if fname.endswith('.txt'):\n",
    "            host_speaker = hibt_test_meta[fname]['host']  # Get the host speaker number for the file\n",
    "            with open(os.path.join(dirName, fname), 'r') as file:\n",
    "                transcript = file.read()\n",
    "                # Insert marker before host comments\n",
    "                marked_transcript = insert_marker_before_host(transcript, host_speaker)\n",
    "                # Save the marked transcript in the hibt_test_marked directory\n",
    "                marked_dir = 'podscribe_transcription/hibt_test_marked'\n",
    "                if not os.path.exists(marked_dir):\n",
    "                    os.makedirs(marked_dir)  # Create the directory if it doesn't exist\n",
    "                with open(os.path.join(marked_dir, fname), 'w') as file:\n",
    "                    file.write(marked_transcript)"
   ]
  },
  {
   "cell_type": "markdown",
   "metadata": {},
   "source": [
    "Working with MongoDB"
   ]
  },
  {
   "cell_type": "code",
   "execution_count": 24,
   "metadata": {},
   "outputs": [
    {
     "data": {
      "text/plain": [
       "True"
      ]
     },
     "execution_count": 24,
     "metadata": {},
     "output_type": "execute_result"
    }
   ],
   "source": [
    "import os\n",
    "from dotenv import load_dotenv\n",
    "import pymongo\n",
    "\n",
    "load_dotenv()"
   ]
  },
  {
   "cell_type": "code",
   "execution_count": null,
   "metadata": {},
   "outputs": [],
   "source": [
    "client = pymongo.MongoClient(os.getenv('mongodb_uri'))"
   ]
  },
  {
   "cell_type": "code",
   "execution_count": 28,
   "metadata": {},
   "outputs": [],
   "source": [
    "from langchain.prompts import PromptTemplate\n",
    "from langchain.output_parsers import PydanticOutputParser"
   ]
  },
  {
   "cell_type": "code",
   "execution_count": 60,
   "metadata": {},
   "outputs": [],
   "source": [
    "comp_guest_prompt = \"\"\"You are an expert at parsing things out of a file string. \n",
    "    You are given a file string that should contain a company name (could be multiple) and a guest name (could be multiple).\n",
    "    You are to parse these out of the string name.\n",
    "    ---\n",
    "    {response_template}\n",
    "    ---\n",
    "    Examples:\n",
    "    filename: \"A biometric smart gun with Kai Kloepfer of Biofire-transcript.txt\"\n",
    "    response: \"\"company\": [\"Biofire\"], \"guest\": [\"Kai Kloepfer\"]\"\n",
    "\n",
    "    filename: \"ActOne Group_ Janice Bryant Howroyd (2018)-transcript.txt\"\n",
    "    response: \"\"company\": [\"ActOne Group\"], \"guest\": [\"Janice Bryant Howroyd\"]\"\n",
    "\n",
    "    filename: \"HIBT/podscribe_transcription/hibt_main/McBride Sisters Wine (Part 1 of 2)_ Robin McBride and Andréa McBride John-transcript.txt\"\n",
    "    response: \"\"company\": [\"McBride Sisters Wine\"], \"guest\": [\"Robin McBride\", \"Andréa McBride John\"]\"\n",
    "\n",
    "    filename: \"HIBT/podscribe_transcription/hibt_main/reCAPTCHA and Duolingo_ Luis von Ahn-transcript.txt\"\n",
    "    response: \"\"company\": [\"reCAPTCHA\", \"Duolingo\"], \"guest\": [\"Luis von Ahn\"]\"\n",
    "    ---\n",
    "    Parse the company and guest names from the following file string:\n",
    "    {file_string}\n",
    "\"\"\""
   ]
  },
  {
   "cell_type": "code",
   "execution_count": 61,
   "metadata": {},
   "outputs": [],
   "source": [
    "from pydantic import BaseModel\n",
    "from typing import List, Optional\n",
    "import json\n",
    "\n",
    "class comp_guest(BaseModel):\n",
    "    company: List[str]\n",
    "    guest: List[str]\n",
    "\n",
    "parser = PydanticOutputParser(pydantic_object=comp_guest)\n",
    "parser.get_format_instructions()\n",
    "\n",
    "prompt_template = PromptTemplate(\n",
    "        template=comp_guest_prompt,\n",
    "        input_variables=[\"file_string\"],\n",
    "        partial_variables={\"response_template\": parser.get_format_instructions()},\n",
    "    )\n"
   ]
  },
  {
   "cell_type": "code",
   "execution_count": 64,
   "metadata": {},
   "outputs": [],
   "source": [
    "# import google.generativeai as genai\n",
    "# import os\n",
    "\n",
    "# genai.configure(api_key=os.environ.get(\"GOOGLE_API_KEY\"))\n",
    "\n",
    "# llm = genai.GenerativeModel(model_name = \"gemini-pro\")"
   ]
  },
  {
   "cell_type": "code",
   "execution_count": 65,
   "metadata": {},
   "outputs": [],
   "source": [
    "from langchain_google_genai import ChatGoogleGenerativeAI\n",
    "llm = ChatGoogleGenerativeAI(model=\"gemini-pro\", google_api_key=os.getenv(\"GOOGLE_API_KEY\"))\n",
    "\n",
    "# Initialize the defaultdict\n",
    "parsed_filenames = []\n",
    "\n",
    "# Directory path\n",
    "dir_path = \"podscribe_transcription/hibt_test_marked\"\n",
    "\n",
    "# Loop through each file in the directory\n",
    "for filename in os.listdir(dir_path):\n",
    "    # Open the file and read the transcript\n",
    "    formatted_input = prompt_template.format_prompt(file_string=filename)\n",
    "    response = llm.invoke(formatted_input.to_string())\n",
    "    parsed_output = json.loads(parser.parse(response.content).json())\n",
    "    # add the filename to the parsed output\n",
    "    parsed_output['filename'] = filename\n",
    "    parsed_filenames.append(parsed_output)\n",
    "\n",
    "parsed_filenames"
   ]
  },
  {
   "cell_type": "code",
   "execution_count": null,
   "metadata": {},
   "outputs": [],
   "source": []
  },
  {
   "cell_type": "code",
   "execution_count": null,
   "metadata": {},
   "outputs": [],
   "source": []
  },
  {
   "cell_type": "markdown",
   "metadata": {},
   "source": [
    "## Everything below this was inital tests for the different functions"
   ]
  },
  {
   "cell_type": "code",
   "execution_count": 26,
   "metadata": {},
   "outputs": [],
   "source": [
    "test_transcripts = [\"podscribe_transcription/hibt_main/Coinbase_ Brian Armstrong-transcript.txt\", \n",
    "                    \"podscribe_transcription/hibt_main/Casper_ Philip Krim-transcript.txt\",\n",
    "                    \"podscribe_transcription/hibt_main/Strava_ Mark Gainey and Michael Horvath-transcript.txt\",\n",
    "                    \"podscribe_transcription/hibt_main/Shopify_ Tobias Lütke-transcript.txt\"]\n",
    "\n",
    "for file_path in test_transcripts:\n",
    "    with open(file_path, 'r') as f:\n",
    "        transcript_example = f.read()\n",
    "        \n",
    "    cleaned_transcript = remove_ads(transcript_example)\n",
    "    \n",
    "    # Create a new file path by replacing 'hibt_main' with 'hibt_main_cleaned' in the original path\n",
    "    new_file_path = file_path.replace('hibt_main', 'hibt_main_cleaned')\n",
    "    with open(new_file_path, 'w') as f:\n",
    "        f.write(cleaned_transcript)"
   ]
  },
  {
   "cell_type": "code",
   "execution_count": 30,
   "metadata": {},
   "outputs": [
    {
     "name": "stdout",
     "output_type": "stream",
     "text": [
      "podscribe_transcription/hibt_main_cleaned/Coinbase_ Brian Armstrong-transcript.txt\n",
      "\t Host Speaker (based on 'welcome' phrases): 3\n",
      "\t Speaker with Most Questions: 3\n",
      "\t Welcome Counts: defaultdict(<class 'int'>, {'3': 2})\n",
      "\t Question Counts: defaultdict(<class 'int'>, {'3': 70, '2': 50, '4': 0, '0': 0})\n",
      "\n",
      "\n",
      "podscribe_transcription/hibt_main_cleaned/Casper_ Philip Krim-transcript.txt\n",
      "\t Host Speaker (based on 'welcome' phrases): 2\n",
      "\t Speaker with Most Questions: 2\n",
      "\t Welcome Counts: defaultdict(<class 'int'>, {'2': 2})\n",
      "\t Question Counts: defaultdict(<class 'int'>, {'2': 66, '1': 29, '3': 0, '4': 0, '5': 0, '0': 0, '6': 2})\n",
      "\n",
      "\n",
      "podscribe_transcription/hibt_main_cleaned/Strava_ Mark Gainey and Michael Horvath-transcript.txt\n",
      "\t Host Speaker (based on 'welcome' phrases): 6\n",
      "\t Speaker with Most Questions: 6\n",
      "\t Welcome Counts: defaultdict(<class 'int'>, {'6': 3})\n",
      "\t Question Counts: defaultdict(<class 'int'>, {'4': 21, '5': 10, '6': 71, '2': 0})\n",
      "\n",
      "\n",
      "podscribe_transcription/hibt_main_cleaned/Shopify_ Tobias Lütke-transcript.txt\n",
      "\t Host Speaker (based on 'welcome' phrases): 1\n",
      "\t Speaker with Most Questions: 1\n",
      "\t Welcome Counts: defaultdict(<class 'int'>, {'1': 1})\n",
      "\t Question Counts: defaultdict(<class 'int'>, {'2': 24, '1': 44})\n",
      "\n",
      "\n"
     ]
    }
   ],
   "source": [
    "test_transcripts = [\"podscribe_transcription/hibt_main_cleaned/Coinbase_ Brian Armstrong-transcript.txt\", \n",
    "                    \"podscribe_transcription/hibt_main_cleaned/Casper_ Philip Krim-transcript.txt\",\n",
    "                    \"podscribe_transcription/hibt_main_cleaned/Strava_ Mark Gainey and Michael Horvath-transcript.txt\",\n",
    "                    \"podscribe_transcription/hibt_main_cleaned/Shopify_ Tobias Lütke-transcript.txt\"]\n",
    "\n",
    "for file_path in test_transcripts:\n",
    "    with open(file_path, 'r') as f:\n",
    "        transcript_example = f.read()\n",
    "\n",
    "    host, most_questions, welcome_counts, question_counts = process_transcript(transcript_example)\n",
    "    print(file_path)\n",
    "    print(\"\\t Host Speaker (based on 'welcome' phrases):\", host)\n",
    "    print(\"\\t Speaker with Most Questions:\", most_questions)\n",
    "    print(\"\\t Welcome Counts:\", welcome_counts)\n",
    "    print(\"\\t Question Counts:\", question_counts)\n",
    "    print(\"\\n\")"
   ]
  },
  {
   "cell_type": "code",
   "execution_count": 33,
   "metadata": {},
   "outputs": [],
   "source": [
    "# read in \"podscribe_transcription/hibt_main_cleaned/Coinbase_ Brian Armstrong-transcript.txt\"\n",
    "\n",
    "with open('podscribe_transcription/hibt_main_cleaned/Coinbase_ Brian Armstrong-transcript.txt', 'r') as file:\n",
    "    transcript_text = file.read()\n",
    "\n",
    "# Example usage\n",
    "host_speaker = '3'  # Assuming '0' is the host's speaker number\n",
    "\n",
    "modified_transcript = insert_marker_before_host(transcript_text, host_speaker)\n",
    "\n",
    "with open('podscribe_transcription/hitb_main_marked/Coinbase_ Brian Armstrong-transcript.txt', 'w') as file:\n",
    "    file.write(modified_transcript)\n"
   ]
  },
  {
   "cell_type": "code",
   "execution_count": 42,
   "metadata": {},
   "outputs": [],
   "source": [
    "from langchain.text_splitter import CharacterTextSplitter\n",
    "\n",
    "text_splitter = CharacterTextSplitter(\n",
    "    separator=\"###\",\n",
    "    chunk_size=2000,\n",
    "    chunk_overlap=200,\n",
    "    length_function=len,\n",
    "    is_separator_regex=False,\n",
    ")\n"
   ]
  },
  {
   "cell_type": "code",
   "execution_count": 43,
   "metadata": {},
   "outputs": [
    {
     "name": "stderr",
     "output_type": "stream",
     "text": [
      "Created a chunk of size 2191, which is longer than the specified 2000\n",
      "Created a chunk of size 2109, which is longer than the specified 2000\n",
      "Created a chunk of size 2844, which is longer than the specified 2000\n",
      "Created a chunk of size 2085, which is longer than the specified 2000\n",
      "Created a chunk of size 2316, which is longer than the specified 2000\n",
      "Created a chunk of size 3950, which is longer than the specified 2000\n"
     ]
    },
    {
     "name": "stdout",
     "output_type": "stream",
     "text": [
      "page_content=\"3 (1m 35s):\\nThe stories we collectively believe in have made it possible to invent the idea of a nation or a people or even a faith. So let me ask you a question. What is the value of gold? Why does it cost almost $60 a gram? You might say it's pretty and shiny or that it's difficult to mine or that it's useful in certain industrial applications, but all of these factors apply to many other metals that are much cheaper. The reason we value gold is because we believe in a story about gold, a story that tells us it's valuable, same with diamonds, same with the dollar bills in your wallet.\\n\\n###\\n3 (2m 19s):\\nNone of these things have any intrinsic value, but they do have value because we all agree they do, which brings us to today's episode because we're going to be talking about something that is very challenging for many people to believe in, in part, because we can't see it or feel it digital ones and zeros with names like Bitcoin and Ethereum and polka dot and thousands more. In fact, there are more than 6,000 cryptocurrencies in the world right now with more being generated weekly and not a single one is issued by a central government. At least not as of this recording, but total value of these cryptocurrencies is hovering at around $3 trillion.\"\n",
      "page_content=\"3 (3m 7s):\\nAnd the reason you know, where I'm going with this, because lots of people believe they have value. And some of the most powerful forces in global finance are starting to come around to the idea that the future of finance is like cryptocurrency decentralized, untethered to any single government or central bank. Now, to be clear, there are still a lot of skeptics out there, but the people who are totally committed to crypto, at least for the moment seem to have seen something long before the rest of the world did Brian Armstrong is among them back in 2010, he was a talented computer coder with ambitions to start a new company that year he came across a mysterious document on the internet about a new peer-to-peer digital currency called Bitcoin.\\n\\n###\\n3 (3m 60s):\\nThat document envisioned a digital ledger that would guarantee the value of that currency. But we now call the blockchain. It's an idea that would change Brian Armstrong's life and lead him to develop a way for people to buy and sell cryptocurrency. In 2012, when he founded Coinbase, most of the people Brian came across were deeply skeptical, but when the company went public, nine years later, coin basis valuation hit $86 billion. And today the company is among the largest crypto exchanges in the world. Now it's possible. This is all a bubble. And then 20 or 30 or 50 years, we'll look back on this time and wonder how anyone could have placed a value on any of this stuff.\"\n",
      "page_content=\"3 (4m 49s):\\nBut Brian Armstrong is betting that he's right. Brian grew up in San Jose, California, the unofficial capital of Silicon valley, both of his parents were engineers. And as a kid, Brian would take apart computers and design websites for fun in college at rice university in Houston. He was always trying to figure out ways to start businesses.\\n\\n2 (5m 13s):\\nYou know, my roommate at that time, he and I were trying to think about how to make extra money around campus. And, you know, you could get a job at the library or the coffee shop and it paid, I don't know how much per hour, but one thing we realized, I think an upperclassmen told us this and they said, Hey, you know, if you tutor high school kids, you can make like $60 an hour. And I was like, what? That's crazy. How can you know, it was like six X, you know, the price of these other on-campus jobs. Yeah. And so I think we just put like a small classified ad in the rice university newspaper. We just said, we're rice university students we're available to tutor\\n\\n###\\n3 (5m 49s):\\nIn math or whatever, or,\\n\\n2 (5m 51s):\\nYeah, it was like high school algebra or things like that. And sure enough, it was pretty easy to do. And we made, we made good money. And so after doing that for three to six months, we were thinking, okay, why don't we expand this to other universities? So we tried to hire people at other good schools around the U S and I think we probably signed up 25 or 50 of those maybe. And we were trying to really just grow this thing.\\n\\n###\\n3 (6m 15s):\\nWhat was your roommate's name? That you're the other student that you found with?\\n\\n2 (6m 19s):\\nYeah, this was John Nelson. So\"\n",
      "page_content=\"3 (6m 15s):\\nWhat was your roommate's name? That you're the other student that you found with?\\n\\n2 (6m 19s):\\nYeah, this was John Nelson. So\\n\\n###\\n3 (6m 21s):\\nYou and John basically are like, Hey, we can recruit students at other universities. To me, it sounds like Facebook it's like the early days of Facebook they're like started one place and then they go to another place. Yeah. So how did you, where'd you go to next? Well,\\n\\n2 (6m 35s):\\nYeah, it was similar to Facebook's up. Just not anywhere near as big of a market, but yes. I mean, we, we basically went to Ivy league schools and just good schools in every state that we could like big state schools. Right. It was very amateurish. I mean, you know, there was times where I remember we set up a bank account and the bank one day called me and they were like, what are all these payments going through here? And, you know, I was just in my dorm room and there was like probably some party going on next door or something. And I was like, well, we're this tutoring company. And she basically didn't believe me over the phone. It was just like, this sounded know, I probably sounded like I was 12 years old or something.\"\n",
      "page_content=\"3 (7m 12s):\\nAll right. So you start to expand out and this seems like it's probably your overhead was like almost nothing. Right? So were you making a profit from the gecko? Well,\\n\\n2 (7m 22s):\\nIt sounds more glamorous than it was. I think probably net, we might've been making a thousand dollars or $2,000 at the most a month, you know? So it was not like a huge thing. Our cut on each of the tutoring transactions that was happening was quite small. And so it was puttering along, but it was not growing at all. Yeah, I guess at the time I felt like it was a failure, essentially because I had these aspirations of us doing, you know, millions of dollars of revenue a year or something. And it was doing tiny fraction of that. And so my hunch or my gut was telling me this is where my energy and my passion is as like, I like building these new products and entrepreneurial stuff, but I hadn't seen any really good results from it yet.\\n\\n2 (8m 4s):\\nAnd so I had a lot of doubt about it.\\n\\n###\\n3 (8m 6s):\\nAll right. So you, you eventually graduate from rice and you're living in Houston and you're still working on this, this tutoring business. And I read that, that you bought out your partner, John, and then, and then you spent a bunch of time, like updating the website and adding some new features. Were you able to get any traction?\\n\\n2 (8m 26s):\\nYeah, so we started to get to, to, but like now instead of having, you know, a hundred tutors or maybe a couple hundred tutors at various universities around us, we started to have thousands.\\n\\n###\\n3 (8m 36s):\\nWere you, were you making any like how much money it at its peak where you making an income from university tutor, like 20, 30, 40,000 bucks a year?\\n\\n2 (8m 45s):\\nI think at the peak, I was probably paying myself like $4,000 a month or something like that.\"\n",
      "page_content=\"3 (8m 52s):\\nIt's a great idea. And you ha it sounds like the website was pretty good, but you were just not blowing up. It wasn't really kind of like breaking through exactly.\\n\\n2 (9m 2s):\\nThere was some kind of a formula I could never quite crack. And that was one of the lessons I learned to actually building that was that when you're trying to get product market fit, you know, you're, you're just continually tweaking things and getting customer feedback and, and fixing bugs. And you never know if you're one more fixed from turning the corner and then boom, organic growth just starts to take off on its own, or maybe it's just never going to work. And you don't actually know. And not knowing is actually really kind of what gets people down in entrepreneurship because you're just sitting there like you're like three years in, you're kind of broke, you know, it's like, am I just like wasting my life here? Or is this my one more fix away from it really working? And I was very passionate about this idea of, I want to build this machine that can generate income and can grow.\\n\\n2 (9m 46s):\\nAnd then if I achieve some kind of financial freedom, my time will be freed up and I can then go pursue all kinds of new things and build new things. But I got to get some kind of, you know, ramen profitability. They would, they would call it.\"\n",
      "page_content=\"3 (9m 57s):\\nI mean, clearly you had certain ambitions for what, what you wanted it to be, but at the same time, like from the outside looking in, like somebody could have said, oh, you're not really taking this seriously. Cause like you moved to Argentina, I think for a year. And like went backpacking while you were running the business. And instantly I thought of Tim Ferris. Yeah. And of course his book, the four hour workweek came out in 2009, but you were basically doing this at the time. I, you, you were quoted by some publication called jet set citizen. I think they interviewed you on what you were doing. And he said, yeah, you know, I'm, I'm making less than I would if I had a full-time job in corporate America, but I have total freedom.\\n\\n###\\n3 (10m 38s):\\nSo this is a trade-off. That was what you were after. Right. You were after this kind of four hour workweek life or just to have that run.\\n\\n2 (10m 47s):\\nNo, that's right. I mean, when that book came out, I was actually very surprised and interested cause I was like, that's kind of what I've been doing the last few years. Yeah. And I mean, I wasn't really backpacking it, but I was, I moved to Argentina and I was just staying in Buenos ares trying to travel. And, but yeah, that's that's right. I was trying to hit since this financial freedom level where I could then travel around. I was very big on this idea of not having a boss. You know, I was like, kind of had this anti-authority streak. And the thing I didn't realize was that I actually love working and there's never going to be a world where I don't think where I'm just going to like sit on a beach or something. I that's just not who I am.\"\n",
      "page_content=\"3 (11m 25s):\\nI'm curious back then you go to Argentina from everything I've heard about you. You're super introverted. Like you're not, you're not the kind of person to go up to people randomly and say, Hey, I'm Brian, how are you doing? What are you doing here? Right. I mean, did you socialize with people? Were you lonely? What did you, who did you hang out with in Argentina?\\n\\n2 (11m 43s):\\nYeah. So part of the reason, so, so you're right. I was very introverted. I was not very confident with people, but one thing I did was I kept forcing myself to push myself into situations where I had to be more extroverted. You know, as an example, when I was in grad school, I was actually, I got a job bartending, randomly. And the part of the reason I got a job bartending was because I wanted to force myself to learn how to talk to people, which sounds kind of odd, but that's what I was doing at the time. I also, I remember I joined this club called Toastmasters where people practice public speaking. Cause I was like kind of nervous about that. And I was just, I was pushing myself into these uncomfortable situations as kind of a personal growth thing. And that's kinda what Argentina was for me too. I was like, alright, you know what?\\n\\n2 (12m 23s):\\nI'm just going to go to a foreign country by myself where I don't speak the language very well. And I'm not going to have any plan. I'm just going to show up and figure it out. Yeah. So I found a room to rent at this house that they were basically renting a bunch of rooms, different international people. I also, there was a small group of American ex-pats who were doing kind of various entrepreneurial things and I'd go to barbecues with them. But I would say overall, I actually was quite lonely. I was there almost a year. I think by the time I left, I felt like I had a, a group of friends and whatnot, but there was a six month period there where I was kind of homesick and it was pretty lonely. Yeah.\"\n",
      "page_content=\"3 (12m 59s):\\nAll right. So you're kind of living this, this ex-pat life in Argentina and, and I guess supporting yourself with some income from, from the university tutor business. But I guess eventually, I mean, you decided to move back to California to the bay area where you grew up, what was your plan around that time? Like what, what were you thinking that you'd do next?\\n\\n2 (13m 20s):\\nWell, I came to California and that's kind of an interesting story too, because I remember, I think I realized I, I was also, I was reading this book at that time. It was called the dip by Seth Godin. And it was this idea that what are you actually going to enjoy doing for the next 10 years? Even if you don't see any signs of success, you know, what's the thing that you're passionate about. Long-term not, not the thing that is just a hobby right now. And so I was kind of sitting there putting on a piece of paper, like what's the thing that I will actually still want to do in 10 years, whether I'm successful or not. And I, the only thing I could really think of was tech entrepreneurship. That was something that I'd been doing since I was a kid in high school. And I realized, okay, well, if that's what I'm going to focus on, why am I living in bonus artists?\\n\\n2 (14m 3s):\\nI want to go play in the major leagues, you know, go to Silicon valley. Like that's, if I want to be an actor, I should go to Hollywood. If I want to be in finance, I should go to New York, but I want it to be a tech entrepreneur. So what am I doing here? And I, and I decided at that point to move back to Silicon valley, I want to say 2000 late, 2009.\"\n",
      "page_content='3 (14m 20s):\\nAnd at this point, I guess, I mean to first get a feel for the startup world, you went and joined a startup, a company called car. Woo. I guess they were, they were helping people buy cars online. Yeah. And I guess, and you were there pretty short period of time. And then you got a job as a, as a software engineer at Airbnb, which is, which was kind of blowing up at that time. So what was that?\\n\\n2 (14m 43s):\\nYeah. So going from the university tutor, which was complete amateur hour to Carla, which was like pretty legit, Airbnb was like, they had caught lightning in a bottle. There was something magic happening there about the culture, the people that were joining and, and, you know, they had absolutely found product market fit. The thing was a rocket ship and it was growing incredibly fast. It was a, it was an incredibly exciting company to be at because we were always struggling to keep the website up just due to all the growth, all the demand. So, yeah.'\n",
      "page_content=\"3 (15m 14s):\\nSo you are now living in San Francisco, working for Airbnb. This was like 2011. And I think around this time, you'd come across this article that came out maybe a year or two before that I've tried to read to me as impenetrable, but it's written by a guy or somebody named Satoshi Nakamoto. And it's a white paper called Bitcoin a peer-to-peer electronic cash system. And he came out in 2008 maybe. And I'm assuming lots of people in your, sort of, that you were hanging out with were reading this or were talking about it.\\n\\n2 (15m 50s):\\nI would say a lot of people were reading about it actually at that time I happened to see it on hacker news. Just sort of reading things on the internet. Yeah. And I don't claim to have understood it the first time I read it. But I did have a degree in computer science and economics, and I write something about it grabbed my attention. I didn't fully understand it, but I said, whoa, this is really important. This is really ambitious. Something tells me that this is something I should look into more\"\n",
      "page_content=\"3 (16m 16s):\\nAnd everybody can access this it's easily available, but it's the language on there. Probably some of the words you, you knew as a computer programmer, basically the argument is, Hey, we should have a peer to peer currency, like electronic cash system that, you know, will live on this thing that we now call the blockchain. You don't think that term exists in the white paper, but that would be verified in this public ledger. But it's really like, you know, even now when I read it, you know, it's just, it's, there's a lot, it's very dense. There's a lot in there. Yeah.\\n\\n2 (16m 52s):\\nI mean, this is one of the challenges with cryptocurrency is that it is such a mind-bending concept that it's a lot of people have struggled to wrap their head around it. And it's kind of like if you go back and watch those early videos of the internet and people, you know, news, news reporters and stuff, like what is the at symbol in the email? And it's the internet, it's a series of tubes, you know, all this. So I certainly don't claim to have read it and then seeing the future and how everything would play out by any stretch. But I do remember distinctly reading it and thinking, wow, this might be the most important thing I've read in like five years. And I was so enamored with the internet. You know, I was like, the internet was probably the most important thing that had, had happened in my lifetime.\\n\\n2 (17m 34s):\\nAnd there was a little piece of me, actually, this might sound funny, but I was worried that I had missed my moment with the internet because I had seen these internet companies get created like Google and Amazon and PayPal and sort of naively. I thought at that time, maybe those, the biggest internet companies have already been created and I need to wait for some new technology revolution to happen. And so that turned out to be incorrect. But I think when I saw the Bitcoin white paper, my thought was, wow, this is kind of like the next internet. This is another global decentralized protocol. But instead of for moving information around us for moving value around and what, if this could build a financial system that's more free, more, more global.\"\n",
      "page_content=\"3 (18m 18s):\\nDid anybody, any of your friends, were they any of them into it? Like people who are like, yeah, that, that paper is amazing. This thing is really there's potential here. Like gloves are a lot of chatter around that.\\n\\n2 (18m 30s):\\nWell, I definitely went and talked to a couple of my friends about it and I was like, this Bitcoin thing seems kind of cool. And most of my friends who I talked to about it, they didn't get it at all. In fact, they thought it might be a scam or something like that. Like I, I felt like I was, I might be crazy or something because to me, I thought it was kind of cool and somethings was interesting here, but I couldn't really get any of my friends interested in it. So\"\n",
      "page_content=\"3 (18m 52s):\\nJust to kind of step back for a sec, I mean, you were around a lot of really smart people who were steeped in the world of technology around the startups and they were engineers and they did not understand Bitcoin. So when you explained it to them and they're like, I don't get it. It's ones and zeros. It's just like, how is it like a Fiat currency? I can't touch it. It's not like a a hundred dollar bill or a piece of gold. Exp Brian, please explain this to me. How is there any value in this thing? What would you say?\\n\\n2 (19m 24s):\\nSo I think there was technical people who got the idea that, oh, okay, they've created some kind of new algorithm that creates digital scarcity. So it's not like you can just make infinite copies of the thing that, you know, some of them got far enough in where they're like, I get the tactical part of it. There's a new algorithm here, but that's still never going to work. Why would anybody use like a new form of money that someone just invented randomly? You know, it has no trust behind it. It's not issued by a government. I mean, this is a preposterous idea. Like why would anybody use this over the U S dollar? You know, you'd have to be crazy. And one of the things they didn't realize was first of all, if you've only grown up in the U S you have this sense that, you know, the financial system more or less is trusted.\\n\\n2 (20m 6s):\\nRight. Okay. Yes. Inflation, is there a little bit in the U S maybe more nowadays and yes, it's annoying to do a bank transfer takes two to three business days. It's not open on the weekend. Why doesn't it arrive instantly? Every time I swipe my credit card, you have to pay two to 3% center, maybe 2%.\"\n",
      "page_content=\"3 (20m 22s):\\nAnd we trust the system. We know the dollar is stable. We've lived that way. We've grown up that way. Most of us are like, yep. The dollar it's cash. We don't even, there's no second thought. Right?\\n\\n2 (20m 32s):\\nI think that was the other piece that I had was I had studied economics. I had had some, at least high level understanding of monetary policy and inflation. And, you know, the understanding that actually a lot of places in the world, people don't have that security. And a lot of places in the world, people actually don't even have bank accounts. And the global financial system is incredibly broken. Right. And I had seen this in a number of ways. One of it was by living in Argentina and seeing a country that had gone through hyperinflation and all the ways that, that affected people in the culture and being afraid of their savings being wiped out and all this stuff. Another one was starting university tutor. I had seen how difficult it was to both collect payments and then pay out the tutors.\\n\\n2 (21m 15s):\\nThere was an enormous amount of pain and headache doing that. And the banks kind of always asking me these hostile questions. I felt like I was being accused of being a criminal or something that might running this company of all the checks that I had to go through. And then at Airbnb, the same thing, I mean, Airbnb was trying to operate in 190 countries around the world. There was delays, it was impossible to know how money was going to get moved and all these countries. And so I just had this sense that financial services is really holding back innovation in the world. And it's holding back human progress because people don't have the freedom to participate in this global economy because of all the barriers to innovation.\\n\\n2 (21m 55s):\\nImagine if you could unlock the level of innovation or the kind of trust in security that a society like the U S has, but put that into 190 countries just because they have good internet access, a cell phone, and now they have crypto. And what if I could help do that? And that, that just got me incredibly excited.\"\n",
      "page_content=\"3 (22m 13s):\\nAnd you start to think about that idea. Cause you had this job at Airbnb, you liked it. You could have probably had a lifetime career there and gotten shares and you know, and when they went, public made lots of money and all those things. When did you start to think, you know, maybe this is a thing I should pursue.\\n\\n2 (22m 32s):\\nSo I was having that exact thought that you mentioned that was like, maybe this is the thing I keep thinking about Bitcoin and cryptocurrency, but my friends don't think it's interesting. And I was filled with self doubt at this point, I was like, do I really want to be like the CR the Bitcoin guy? It seems like so weird. And everybody's not into it\\n\\n###\\n3 (22m 51s):\\nBy the way I read at that time that you, you're also going to start a tinker around like coding a prototype for, I get like a kind of a digital law.\\n\\n2 (23m 1s):\\nYeah. Basically. I mean, I was working nights and weekends on this prototype for what would eventually become Coinbase. It was a, it was a web app and it was a hosted, going to be a hosted service. And I was building that sort of nights and weekends and for maybe six, eight months, something like that.\"\n",
      "page_content=\"3 (23m 15s):\\nAnd the prototype, just to be clear, this was something that would enable people to safely store the Bitcoin they bought. Yeah.\\n\\n2 (23m 21s):\\nYeah. And I was putting in like pretty crazy hours, by the way, I was like, I'd worked till maybe 7:00 PM or something like that at Airbnb. And then from like 8:00 PM, till midnight, I would work on this prototype for what would it become Coinbase. And, you know, there's something about my personality is like, when I get excited about things, I just, I just start to build things. It's kind of an obsession. I don't know what you'd call it, but I kind of couldn't help myself. You know, I remember I was actually almost trying to talk myself out of it at a certain point. Cause I was like, if you'd go down this rabbit hole, you know, you're not going to be able to get out of it because this is not some kind of throwaway project you can do. This is going to be your, if you actually start storing people's money, you got to have like a whole team and funding and compliance and licenses.\\n\\n2 (24m 7s):\\nAnd I was, I knew that it was a crazy thing, but I couldn't, I was like, let me just tinker a little bit and see what happens. I kind of couldn't help myself. And so yeah, the prototype was getting a little farther along and I decided, I was like, all right, I want to apply to Y Combinator and try this idea. If I get into Y Combinator that would give me some amount of confidence to leave my job and go do this because then maybe I'm not crazy. And I was looking for a co-founder at that time as well. I was kind of, cause I knew that it would improve my chances of getting accepted.\"\n",
      "page_content=\"3 (24m 36s):\\nThat's right. Because Paul Graham, the founders of why come here famously says, one of his criteria is a co-founder he looks for co-founder when he makes investments. Yeah. And I'm just curious in your mind, what was your pitch going to be to them like, Hey, I'm building this thing that does watch.\\n\\n2 (24m 53s):\\nYeah. So the words I used, I said, I'm building a hosted Bitcoin wallet today. People are using Bitcoin. Maybe you've heard of it. I'll give you a quick primer if you haven't, but people are using it today with this desktop app on their computer. It's a really interesting new protocol, but it's way too difficult to use for the average person. So I'm going to make a hosted Bitcoin wallet. It's easy to sign up online. Kind of like Gmail is for email. And that was my analogy that I gave them. Got it.\\n\\n###\\n3 (25m 20s):\\nAnd you, from what I understand, you met this guy, Ben Reeves, who was also into Bitcoin clearly. Cause I think you guys met like on a Reddit side or read it, but some you met somehow, by the way, how did you meet him?\\n\\n2 (25m 36s):\\nI reached out to him cold. Yeah. Cause I was, I was trying to find a co-founder at that time. And I had seen, he had launched his site, blockchain.info and I was like, wow, this site has a lot of potential. There was something that exuded\\n\\n###\\n3 (25m 50s):\\nQuality to me. And it was doing roughly a similar thing that you were trying to do. Yeah.\\n\\n2 (25m 54s):\\nIt was a, it was another Bitcoin wallet. They weren't trying to store anybody's money. They were making a self custodial wallet and it seemed like it had some real talent behind it. And so I reached out to them cold catch it.\"\n",
      "page_content=\"3 (26m 6s):\\nSo he, he had the singling, you called email Ben and he he's based in the UK I think at that time. Right. Right. And what did he use? What would you say to him? Just say, Hey, I'd love to meet up or to talk or\\n\\n2 (26m 18s):\\nYeah. So I said, look, the site you built is really cool. I'm working on a similar prototype and I live in Silicon valley. I want to tell you about this thing called why competent or I think that this is going to be a big industry and has potential to change the world. But it means that we need to create a real company around it. I think this is a, this is one where we should really swing for the fences and make a real professional company out of it. And so there might be some opportunity where you and I should join forces here and we could be the winning\\n\\n###\\n3 (26m 49s):\\nTeam. So did you guys agree to meet in person?\\n\\n2 (26m 52s):\\nYeah. So I think we did a couple kind of Skype calls or something like that. And then this is kind of crazy, but we had basically like a shotgun wedding almost. I was like, I'm applying to this, this Y Combinator program,\"\n",
      "page_content=\"3 (27m 7s):\\nWhich he probably knew of, he had\\n\\n2 (27m 9s):\\nActually had not, he had never heard of it. It's not, it wasn't well known in the UK. And I was like, the application is due in two weeks and then there's an interview. So I want you to fly to San Francisco and let's apply together. And then we'll, we'll go to this interview. And if we get in, then we can talk about it basically. And we applied online first, we got invited to interview. He flew to San Francisco. We literally met for the first time, the day before the interview. And then we went in the next day to interview together as a founding team, which by the way in hindsight was a terrible idea. I would not recommend this to anybody. You know, you're having a co-founder is like getting married basically. Like it should be somebody that you have worked with for years and years.\\n\\n2 (27m 52s):\\nAt least maybe you've known them for years, ideally, but sometimes these things work out fortuitously sometimes they don't. Okay.\"\n",
      "page_content=\"3 (27m 58s):\\nYou guys were aligned on the vision, which was around Bitcoin. I'm curious when you went and pitched the folks at Y Combinator, I had to mention, some of them were like, I don't know about Bitcoin. I mean, was anybody skeptical about Bitcoin because you couldn't really spend it anywhere. It was just ones and zeros or were they all like, oh yeah, this is, this is going to be big. So\\n\\n2 (28m 20s):\\nI never got to know what the discussion was in the room after we interviewed. Right. So they discuss in private, but they did decide my hunches that yeah, some people were like, I don't know, I don't get it. But the way that Y Combinator works, which I think is a good model, is that if any of the partners choose to champion it, then it can get funded. It's it's, I think there's a real danger in consensus, especially when you're talking about real breakthrough innovation, because every breakthrough innovation looks like a bad idea, but it's actually a good idea. And so you, I think you really want to avoid like a committee that has to have unanimous yeses to cause you'll basically miss all the big stuff. Yeah. So they knew that, and I don't know who actually championed me in the room or if it was unanimous, but I suspect one of them was Paul Graham, because he seemed excited about it later when I went through the program.\\n\\n2 (29m 3s):\\nBut yeah. For whatever reason they decided to say yes,\"\n",
      "page_content=\"3 (29m 6s):\\nSo they say yes and they, and that means that they give you a check. It was like $150,000, something like that. Yeah. And they get a percentage cut of your business. And with that money that you got from Y Combinator, I'm assuming you, did you get an office or did you, were you able to hire anybody? Were you in band able to do anything beyond just the two of you kind of grinding away at the keyboard and starting to develop this app?\\n\\n2 (29m 33s):\\nYeah. So honestly, things didn't really work out with Ben even before we got the money, because Ben had flown back to the UK, we were kind of like getting all these things prepared. I was like, all right, when are you going to move here? Let's try to get this office. And then there's all this incorporation paperwork. And there was basically some red flags, right? Like he hadn't really bought his plane ticket. He missed a couple of meetings and I was like, he's not fully in it. You know, like I was kinda talking to the Y Combinator partners throughout this whole thing. And I was like, I'm trying to make this progress. And what do you think? And they were like, you need to go make a decision, basically. Like, do you want to co-found with this guy or not? Because if you're not, if it's not gonna work out, end it now.\\n\\n2 (30m 14s):\\nAnd so I basically took that to heart and had to go have a real difficult note to send him, which was like, I don't think we should co-found together. And we really only knew each other, I think like four weeks or something like starts from the moment we first spoke to getting accepted in. And then the whole thing didn't work. It was like a three or four week thing.\\n\\n###\\n3 (30m 34s):\\nAnd by the way, the name what's the name Coinbase at that point?\\n\\n2 (30m 37s):\\nNo. So the name that I had at that time was bit bank\"\n",
      "page_content=\"3 (30m 34s):\\nAnd by the way, the name what's the name Coinbase at that point?\\n\\n2 (30m 37s):\\nNo. So the name that I had at that time was bit bank\\n\\n###\\n3 (30m 40s):\\nPitt bank, which is a great name.\\n\\n2 (30m 42s):\\nYeah. I liked that name because it had a double B sound in it. Like I like PayPal and Coca-Cola like, it was a great name, but the problem with it was which one of the things that Y commenter does is they have a couple of lawyers on staff who just help you with all the corporate law law stuff. But they told me pretty quickly, they were like, you can't, it's illegal to have the word bank in your name if you're not an actual bank. And so you need to change that. And so that was a good piece of legal advice. They gave me along\\n\\n###\\n3 (31m 5s):\\nThe way. So how did Coinbase that name come up?\\n\\n2 (31m 8s):\\nYeah. So one of the first things I had to do in the program was come up with this new name. And so, you know, naming things is so hard for a variety of reasons. One is that every name sounds terrible when you haven't been associating it with something it's brand new it, and in your mind, you're comparing it to these things like Google and Coca-Cola, but you're just like that name really, that's a terrible name, but all names sound bad when you first hear them. Anyway, I just did an exhaustive search and I came back with a bunch of finalists and I pulled all of my friends and some of the people at Y Combinator and a member Coinbase sounds reasonable. And the domain was like maybe $2,000 to buy it. You might think this is funny, but I eventually was like, I don't like that name really, but all right, I'll just choose Coinbase for now.\\n\\n2 (31m 50s):\\nAnd then maybe like a year from now, I'll improve it and get an even better one. And then of course, after about a year or two, I was like, actually, I really like it. And so did everybody else. And so as with many things, you just, they stick a lot longer than you would have expected\"\n",
      "page_content=\"3 (32m 5s):\\nWhen we come back in just a moment, how Brian tries to convince skeptical investors to put real life cash into a crypto marketplace, stay with us. I'm guy Ross. And you're listening to how I built this from NPR Support for this podcast and the following message come from. Klayvio the email and text marketing platform that puts creators in control. If you're the creator of an e-commerce brand, you need a platform that hustles as hard as you do. Klayvio unlocks the power of your e-commerce data. So you can personalize and automate messages that keep customers coming back.\\n\\n###\\n3 (32m 49s):\\nCreators communicate with Klayvio get started for free@klaviyo.com slash NPR. This message comes from NPR sponsor GoDaddy with GoDaddy, you can sell anything anywhere, sell fried chicken for family gatherings, photography packages for parties and events. New stylish looks for day or night. Anything you can link your products to online marketplaces like Amazon, eBay, and Etsy, as well as social media platforms, book appointments online, and get paid safely and securely. The world's been waiting for what you do. So no matter what you're selling or where it's needed with GoDaddy, you can sell anything anywhere.\\n\\n4 (33m 39s):\\nThis message comes from NPR sponsor, crooked medias, America dissected Dr. Abdul outside dissects, the scientific discoveries, trillion dollar policies and cultural trends that shape our collective health check out America dissected every Tuesday, wherever you get your podcasts.\"\n",
      "page_content=\"3 (34m 4s):\\nHey, welcome back to how I built this I'm guy Roz. So it's mid 2012. Brian Armstrong launches his crypto currency, startup Coinbase and users start to sign up and he's going through the Y Combinator programs solo because things didn't work out with his first partner, Ben. So Brian is still searching for a co-founder and he reaches out to a number of different people, but finding the right fit is not easy. You know,\\n\\n2 (34m 34s):\\nI was kind of scarred, honestly, from this co-founder a search process. I was like, oh my gosh, I've tried to meet so many people and they never seem to work out. Maybe I'm just resigned to being a solo founder and that's my lot in life. And so I was like, let me just keep making progress on the business. Right. So I went through the white commenter program, solo. We went out and I tried to raise a seed round after that. Right. And I got a lot of notes, like nine nos for every one. Yes. But I managed to scrape together a 600 K seed round. And then I was in the early stages of trying to launch the buy feature on Coinbase and lo and behold, the right person reached out to me.\\n\\n2 (35m 14s):\\nRight. Which happened to be Fred arson. And he reached out cold, just over email. I had been putting out the prototype for Coinbase on, and I think he saw it on Reddit. You'd had\\n\\n###\\n3 (35m 23s):\\nPosted it on Reddit on like a Bitcoin board. Yeah.\\n\\n2 (35m 26s):\\nAnd by the way, there's, I think there's an important lesson. I've told a lot of people this, which is to how to find the right co-founder. It's like, I tried so hard and I could never get the right person. But once the product and the started to show signs of progress, like a seed round and a live demo, and going through Y Combinator, the right person found me. Right. So my lesson to a lot of people on that is if you're not finding the right, co-founder just keep making progress. And if you show signs of success, the right person will show up sometimes, but, and who is\"\n",
      "page_content=\"3 (35m 54s):\\nFred? What was he doing at the time? So\\n\\n2 (35m 56s):\\nHe had studied computer science and economics also at duke. He had then gone on to be a trader at Goldman. And so he had some kind of experience in financial services, which I liked. Cause I didn't really, and he had just moved to the bay area. So I was like, okay, on paper, this looks interesting enough for a coffee meeting. And that's exactly what we did.\"\n",
      "page_content=\"3 (36m 18s):\\nHow did you, did you guys get along right away? Did you like each other right away? Was it\\n\\n2 (36m 22s):\\nThat simple? Well, I think we were, we were kind of sizing each other up. Right. My first impression of him was this guy is smart. He's confident. His first impression of me was probably okay, this guy's very driven. When he saw the, the website, he was like, he assumed that it was some kind of accompany with like an, at least a handful of employees. Cause there was like a customer support line and a sales line and a press PR email address. And he showed up and it was like, it's just you. And I was like, yeah, I'm the only one. And he was like, okay, this guy has some real talent to create this thing. He's probably like a little unsure of himself and he's a little rough around the edges or whatever. But what I did was I said, why don't we try working together for two weeks?\\n\\n2 (37m 5s):\\nYou know, I'll pay you a couple thousand dollars or whatever, but the point would just be to see how we like working together. Then there was a few things that I really noticed about him. I mean, one was that like me, he had incredible work ethic. So we would work like 10:00 AM to midnight every day. Another thing was that he started to challenge my ideas and I realized this is not somebody who's just someone who's going to follow what I do. One of the things I remember Fred said when we were doing that week was I was getting ready to code up this feature. So people could have an easy way to buy Bitcoin on the site and connect their bank account. And he came to me at one point, he's like, I've been looking at this the last couple of hours and I'm pretty sure that we're going to lose money on every purchase the way it's currently set up.\\n\\n2 (37m 50s):\\nAnd I was like, that can't be right. Like walk me through it. And he walked me through it on the whiteboard and it turned out he was right.\"\n",
      "page_content=\"3 (37m 57s):\\nAt what point did you say, Hey, you know that like Fred could actually be the co-founder of no\\n\\n2 (38m 3s):\\nLooking for, at that point, I, after the two weeks, I was like, this is great. He's adding a lot of value. He's also just a Jack of all trades. Like he was like, okay, let me try and hire some people, let me do customer support. Let me go pick up the trash on the floor. Like, you know, and he was like, I'm going to do anything. Cause this is, this is huge. And I saw that fire in him, like the determination was really important and it wasn't until I think maybe three or four months later we were working together. And that's when I was like, okay, Fred is truly acting as the co-founder here. I need to make that official. And that's kinda, when I asked him be co-founder solidified and it ended up working incredibly well, basically for the next five or six years, we built the company together. And I don't think Coinbase would have been successful if I hadn't found Fred.\\n\\n2 (38m 46s):\\nSo I am eternally grateful to him on that.\"\n",
      "page_content=\"3 (38m 49s):\\nAll right. So Fred is part of the company. And I wonder at this time, 2012 coming into 2013, I mean, I know you were in San Francisco and you're in that environment around sort of first adopters and people who are excited about new things. Was there anyone around you, even people that you admired and respected, even people who were experienced, who are like, this is a total scam. This whole Bitcoin thing is not. I mean, there were people saying that Warren buffet was saying it, lots of people are saying it outside of Silicon valley, but people you were interacting with, what are people saying to you? I don't understand how this has any value. Explain that to me.\\n\\n2 (39m 27s):\\nYes. I mean, there was definitely a lot of skepticism. I remember it mostly during the fundraising process. So for those who have never done fundraising success in fundraising looks like nine out of 10 people saying no. And very smart people who you probably respect telling you why your idea will not work. So it's kind of this very emotional gut punch. That's what success looks like. Failure, failure. It looks like a hundred percent of people are or whatever saying no. So even the success case sucks. And these people were telling me, well, PayPal is already there. So how are you going to be better than PayPal? They would tell me things like, well, I mean, if this gets any kind of traction, like the U S government is just going to shut it down.\\n\\n2 (40m 12s):\\nAnd I remember actually there was one particular moment that stood out to me where I was during the Y Combinator demo day where you got kind of to go meet a bunch of investors. There was kind of like a happy hour afterwards where I was supposed to go around and kind of network and get meetings set up to go pitch them. And I remember talking to these investors about Coinbase and I was like, so I'm really excited about Bitcoin. I think it could be like the next payment method of the, of the whole world to make it more, you know, economically free and efficient. And I think they had had like a couple of beers or something at that point. And I was like, they were asking me these questions like, oh yeah. So, so you think it's going to like take over the global economy? Huh. And I realized at a certain point they were actually like making fun of me a little bit. And I, sometimes I'm not very good with sarcasm.\\n\\n2 (40m 55s):\\nLike I actually something I can't really read sarcasm and people for some reason, but I was like, okay, they're actually making fun of me. And that I was just like left and went to go talk to the next set of investors. So there was a lot of meetings like that where yeah. I was like, nobody, nobody really believes in this thing. But I, one out of 10 people, I got to say yes and write a small check and you know, it turned out great for them.\"\n",
      "page_content=\"3 (41m 17s):\\nI mean, I mean, going back to those skeptical investors for a moment, I mean, you can kind of understand why they were skeptical, right? Like why they would wonder why Bitcoin or any cryptocurrency would have any value. And, and I mean, I, you know, you can look at Bitcoin and say, well, there's a cap on how many will ever exist. I think it's like 21 million. So there's a scarcity issue there. But, but then there are other cryptocurrencies that, you know, don't have caps. And I guess you could, you could ask this question the same question about gold or the dollar bill. Right. Why does that have any value? But I'm just curious, like what, what's your answer when people ask that question, like when they say, Hey, why does it have any value at all?\\n\\n2 (41m 57s):\\nSo people have been debating this for years and I think there's some really complicated answers and there's some really simple answers. And I guess I'll tell you which one I think is right after I tell you a few of them. So Bitcoin, for instance, is this global decentralized ledger and the value of it is that it allows you to move. It allows you to have right access to this globally decentralized database, this ledger now, I mean, I think the more simple answer is probably that cryptocurrencies are provably scarce and people believe that they have some kind of legitimacy, especially like in the case of Bitcoin, just cause it's the first one that got created and there's a finite amount and like how it was created sort of fairly and who the person is that we don't really know.\\n\\n2 (42m 41s):\\nSo it has this kind of aura of legitimacy and it's scarce. And so that's the way, the reason it has value. And so another example you can think of is like a Picasso painting or something. The intrinsic value is really just like some canvas and paint on it. It's not the reason it's has value is because it's scarce and people think it's legitimate somehow. So that's the same thing for crypto\"\n",
      "page_content=\"3 (43m 1s):\\nEnough. People basically think it's worth something which makes it worth something, which is the answer to pretty much. Why does anything of value? Sure. Yep. Yeah. And by the way, how many people, people were just kind of like finding out about this. And I mean, I guess people in the Bitcoin community knew about this. And so you started getting some traction right off the bat.\\n\\n2 (43m 19s):\\nInitially the product didn't get traction because there was no way to buy and sell Bitcoin. Basically the, my initial idea was a hosted Bitcoin wallet, which was just going to be a wallet to store and send and receive. Right. And so I got some people to sign up just by posting it on Reddit, but none of them really stuck around. And so I did not have product market fit, but what I did was following the white commentator playbook of go talk to your customers, take their feedback and go improve the product. So I emailed five people who had signed up and I was like, Hey, I'm the founder of this thing. I'd love to get your advice. Can I call you? I got on the phone with him. And I was like, so I saw you signed up and we didn't come back any advice. And the person was like, well, I like the app, but I don't actually have any Bitcoin. And so I just left and I, and my thought was like, well, if there was a simple way to buy it in the app, would you have bought it and stuck around?\\n\\n2 (44m 5s):\\nAnd he, and he was like, yeah. So I was like, okay, I guess I need to make a simple buy button for Bitcoin. It sounds simple, but involved a lot of complicated stuff. I had to go get a bank partner to process payments. I had to get a very expensive, legal opinion letter written about for the bank to allow us to do this. That was even why this was even allowed to do this.\"\n",
      "page_content=\"3 (44m 25s):\\nI'm just curious though, it's my come, this may sound like a totally dumb question, but why wouldn't you have thought that from the beginning, like, I would think that that was how you were going to make money. That was like, yes, we're going to sell Bitcoin. That was the pain point. It was really hard to get it. So I'm just surprised that it, that you didn't think about that before. Yeah.\\n\\n2 (44m 44s):\\nI dunno if it seems obvious in hindsight or if we should have known in the, in the, in the past, because the people who I knew knew who wanted to get Bitcoin, they were like, oh, well, I guess it's hard to get, but nobody wants to really wants to get that much of it. Anyway. It wasn't a big thing. And so I guess I'll just wire money to Japan and yeah, it was complicated.\\n\\n###\\n3 (45m 2s):\\nAnd Japan was where you could was the only place you could get it from\\n\\n2 (45m 5s):\\nThere might've been one or two other small venues, but yeah. Mt. Gox was the biggest one at that time. Okay. And one thing I will tell you, by the way, I think one of the things I think that helped me make this work, it's basically just being determined. Like it wasn't that I had some brilliant insight that everybody else didn't have, or that I was smarter than everybody else. I was just so goddamned determined that I was going to keep beating my head against the wall. And this was an example of that, of just all right, call, call 10 people, see what they say, and then go back and add that. And then I was going to keep doing that forever until I found something that broke through.\"\n",
      "page_content=\"3 (45m 35s):\\nWere you ever worried that it wasn't gonna work? I mean, I guess, I guess you could have always gone back to being an, a software engineer somewhere else, but were you ever, did you ever have any doubts that cause there are lots of Y Combinator companies that didn't work that when nowhere?\\n\\n2 (45m 49s):\\nOh, absolutely. I mean, I knew basically that this was, I had been dealt a hand where I at least got to play a couple of rounds, you know, but I, this was by no means success, you know? And that was one of the messages they drilled into you at Y Combinator was, do not treat fundraising as success. Some people raise some money and then suddenly they think that they're like, they're going in advising all these other startups. It's like, so I w I was very much in the heads down. Let's try to keep making progress. I have, this is, we have no idea if we're going to be able to make this work, but we're going to make sure we give it our all in fact, around the end of Y Combinator, I was thinking, I'm going to work on this all out for two years. If after two years, nothing is working, then maybe I will contemplate, you know, trying something different, but I'm not going to give up before two years.\\n\\n2 (46m 35s):\\nCause there was other YC, Y Combinator companies I had seen where they try something and then three months later, you know, there's a bunch of co-founder fighting and the thing just blows up and, and they were like, I guess it didn't work well. It's like to me, no, that's nothing ever works the first time you try it. So three months in is way too early to quit. You gotta keep trying over and over and over again to see if something can break through.\"\n",
      "page_content=\"3 (46m 54s):\\nAll right. So you guys, you've got this business and how do you find people to work with you?\\n\\n2 (46m 60s):\\nYeah, so Fred and I started searching for employees and it was incredibly difficult to hire the first people in the early days. That the true answer is that you need to beg, borrow, and steal and just hustle and try to reach out to anybody who, you know, through, through LinkedIn, through your friends. I was just relentless. Like I, if I went to a networking event at, in Silicon valley, I'd walk up to every single person. Are you interested in crypto? I'm doing this company is early stage. Just rattled off my pitch. If you have any interest in joining, I'd love to catch up. Do you want to, can I get your email? No, no, no, no. I'd get one, one. Yes. After 10, I'd go do 30 more.\\n\\n2 (47m 40s):\\nI mean, somebody has to be a little crazy in a way to join something. So early stage where it's like, okay, it's two people with a laptop and a dream. And the only reason that somebody would come join is they're very passionate about what you're doing. They have pretty high risk tolerance and they value equity in a business. They want to get more equity early on. Cause that's the only thing that you can offer that Google doesn't like, you can't get 1% of Google if you join today. Right. But you could, if you join the very early stages of company,\"\n",
      "page_content=\"3 (48m 13s):\\nWhat were you looking for? Or are you looking for engineers per for marketing people for salespeople for pretty much just engineers at that point?\\n\\n2 (48m 21s):\\nWell, the first two hires were well, really Olof was the first employee and he and he joined us kind of, we needed somebody to jump into customer support is the very first thing, but he became, you know, this kind of Jack of all trades, really, who was Olaf. So Olof, Karlsson, we is somebody who, again, I believe reached out cold to us. Now we had interviewed a few people who were running like pretty large customer support teams at various established companies. And they seemed good on paper, but we just couldn't get excited about them when we met them in person and Olaf comes in, he's like completely unqualified. Okay. His, he had just graduated college. So he had written a, I guess, a thesis while in college about Bitcoin.\\n\\n2 (49m 2s):\\nHis professor had told him, this is crazy. Don't do it. It's a, it's a scam or whatever, but he he'd persisted anyway. And then after college, you know, all of his, kind of like a deep thinker, like as almost like a spiritual person, like, and he had gone to become a lumber Jack to basically be able to just be in nature and read books\"\n",
      "page_content=\"3 (49m 21s):\\nOff, you have to become a lumberjack.\\n\\n2 (49m 24s):\\nYeah. Some point. So anyway, he comes into this interview in our little loft apartment in San Francisco. And this kid is just kind of captivating. You know, he's like, I'll do anything. And I'm incredibly fast learner. He, by the way, he told me later that he didn't own any clothing really at that time that it was not covered in tree SAP. And anyway, he bought like a button down shirt and some black, he borrowed some black shoes from somebody or something to like come into the office. And so he wasn't wearing hiking boots. And after he left Fred and I were looked at each other and we're like, this kid is nuts, but like, we got to give him a shot, like his, his energy and enthusiasm and positivity was just off the charts.\\n\\n2 (50m 5s):\\nAnd there's something really important about that when you're in the early stages of a company, pessimism can really kill startups, you know, because you're attempting the impossible, like, you know what business do a couple of people in an apartment sitting around have to try to reinvent the global economy. I mean, that's a, that's an insane thing to do. And so you need to be incredibly optimistic just to kind of get through the days and not let people get on each other's nerves and fight with each other and whatnot. So we were just like something about them had this spark and we're like, let's, let's bring them on. And of course it turned out great.\"\n",
      "page_content=\"3 (50m 37s):\\nOkay. So your, your customers are signing up for this Coinbase wallet and they could buy and sell Bitcoin on your S on your site. Yeah. So, so, so when you just, just to get a sense of the revenue model, right? If someone was buying a Bitcoin, let's say for $300 in early 2013, they would pay you a transaction fee, which is a certain percentage of that $300. And would you get that money in us dollars? Or would it be pegged to Bitcoin?\\n\\n2 (51m 7s):\\nWe would get it in dollars and we would hold it in dollars. We weren't trying to become a hedge fund on top of all the risky stuff we were already doing. So yeah, we would get about 1% or something like that. And hold on to $3 up to 300 or something like,\"\n",
      "page_content=\"3 (51m 22s):\\nI mean, that seems like a great model for making money, right? Because you are always going to get a commission. You're always going to get a transaction fee. I mean, this is, this is how Stripe and, you know, these kinds of processing companies make money. Was it clear that you were going to hit profitability pretty quickly or, or was that way, way far away, away\\n\\n2 (51m 45s):\\nAs far away? And just to give you one reason of many. So fraud was an incredibly big challenge for us at that time and still to this day, by the way, I mean, so an example, you know, people have all kinds of stolen credit cards. You can buy on the internet. And so basically what would happen is somebody would get a stolen card. They'd come in, they'd buy $300 of Bitcoin. We would get our $3 of commission, but they would then send the $300 a Bitcoin off of our platform. Maybe 30 days later, we would get a charge back from the person who had gotten their credit card stolen. And we would have to give the $300 back to the bank. So we had, we had made $3 of profit, but we'd lost $300 on the transaction. And so I remember we burned this into our memory.\\n\\n2 (52m 27s):\\nWe said, it takes us a hundred legitimate transactions to make up for one fraudulent transaction. And so we put so much time and energy into building the fraud systems early\\n\\n###\\n3 (52m 37s):\\nOn, but that costs you a lot of money. Yeah. I mean,\\n\\n2 (52m 41s):\\nSo that was like literally causing me to wake up in the middle of the night in like terror, you know, like I couldn't sleep. There was some scary moments where, you know, somebody found a weakness in our system or another way to bypass it. We might go home on a Friday, come back Monday and the company could have been insolvent because enough fraud happened over the weekend that we could not cover it from our bank account. And we would have had to disco shutdown.\"\n",
      "page_content=\"3 (53m 4s):\\nYeah. I think in 2013, like somebody stole $250,000 out of a Coinbase wallets. And that made news. Right. I mean, I remember that story.\\n\\n2 (53m 14s):\\nYeah. I mean, actually I'm not even sure exactly which one you're referring to, but yeah, that, that was the other big challenge. It was, there was not only were there people putting in stolen credit cards, there was also hackers trying to just break into our systems and steal customer funds. That was incredibly stressful. You know, I think at that time, by the way, we also got our first threat of a lawsuit. You know, some other FinTech company had like threatened to Sue us over something, which I don't even remember what it was. I mean, there was all, this is, this is kind of the default state by the way of a new company. It's like, just get\\n\\n###\\n3 (53m 44s):\\nHit from every corner. Yeah. I\\n\\n2 (53m 46s):\\nThere's this phrase that I love, which is starting a company, is moving from one setback to the next, with enthusiasm. And that's really true. I mean, you basically just somebody quits, somebody sues you, you know, you lose a bunch of money. All your customers are pissed. You know, you have to kind of move through these things and just find the least bad option and then wake up the next day and fight the next thing. And, you know, there was customers that were upset with us on the internet. I, I had never had, I had never been in a situation where I had a thousand people angry at me at the same time. Like it was just kind of a new feeling, you know?\"\n",
      "page_content=\"3 (54m 18s):\\nSo you guys, from what I understand, like really by February of 2013, I read there was like a period of 30 days where your users bought or sold more than a million dollars for the Bitcoin. And that time, I mean, Bitcoin was, I don't know, maybe four, three, $400 per coin. And we'll talk about the price later that year. But I mean, that's, that's pretty great. I mean, it seems, I would imagine that by February of 2013, you're thinking, yeah, this is looking pretty good.\\n\\n2 (54m 45s):\\nYeah. So you're right. Once we launched the buy and sell feature for Bitcoin, we suddenly had product market fit. Like more people were coming in every day than the day before. And in some ways that was positive. We were like, okay, we might've got something to work here, but in some ways it was incredibly scary because we had this working capital issue where we had to front the money. When somebody went to buy, we had to use our own working capital to go buy the crypto at that price. So we locked in the price, but then we wouldn't receive the customer payment for two to three business days. And if there was like two to three business days, by the way, it can become five or six days if you include a weekend and maybe a bank holiday on Monday or something. And so we had to have enough cash on hand to fund, like sometimes six days of buy order flow.\\n\\n2 (55m 32s):\\nAnd like we had only raised 600 K and we were getting quickly to a point where we were using 500 K of the 600 K just to serve the day-to-day flow of funds on the site. And that's when we kind of pinned Paul Graham and we said, are we ready to go out and raise a series? A, he had told us previously, he's like, don't go out and raise a series a until you can honestly tell and make investors believe that this could someday become a public company. He's like, it's very easy to raise a seed round to raise a series a is, is a big deal. And I w I sent him the graphs and I was like, we're going to run out of working capital in like six weeks. If we don't raise money, he's like, he's like, go, you're ready.\"\n",
      "page_content=\"3 (56m 11s):\\nWhen we come back after the break, how Coinbase survives the first so-called crypto winter, a crash in the price of Bitcoin. And later Ryan explains a very controversial decision. He had to make about Coinbase is company culture, stay with us. I'm guy Ross. And you're listening to how I built this. This message comes from NPR sponsor, click up, meet a productivity solution.\\n\\n###\\n3 (56m 52s):\\nThat's guaranteed to save you one day every week. Click up brings all of your work into one place, tasks, docs, chat, and goals. So you can focus on work without switching apps. It's how companies like Uber, Google, and web Webflow save time with 10,005 star reviews and used by 200,000 plus teams click up is one place for all your work and it's free forever. So try click up today@clickup.com slash NPR. This message is brought to you by NPR sponsor, Airbnb millions of people earn extra income by hosting their extra space on Airbnb income that can help with home renovations paying for vacations or saving for retirement.\\n\\n###\\n3 (57m 39s):\\nMaybe you have questions about whether hosting might be right for you. You can now ask a Superhost and get free one on one help from Airbnb's most experienced hosts, go to airbnb.com/ask a Superhost and start asking, Hey, welcome back to how I built this I'm guy Roz. So it's the middle of 2013. Only about a year since Coinbase is launched. It already has around 130,000 users. And Brian's raised about $5 million in a series a round, but shortly after that, the price of Bitcoin is lots of people had been predicting, begins to tank.\"\n",
      "page_content=\"3 (58m 25s):\\nI'm looking at the historical price of Bitcoin. I think this is known as like the first Bitcoin or crypto winter. It was like an 80% drop in the value of Bitcoin. And I kind of remember that because I, I was kind of falling. And I remember there was a lot of in Freud and there's a lot of people saying, this is not Sensi. This is just here we go. And it actually, your business model and revenue was tied to Bitcoin's price, right? Like that, that had a huge impact on, on your business. What, what happened?\\n\\n2 (58m 57s):\\nYeah. So there was definitely some scary moments where the crypto was going through these bubbles and then these crashes. And I remember people coming up to me and being like, well, now that Bitcoin is over, like, what are you going to do next? And I was like, well, what do you mean? It's not over? And they were like, oh, oh, okay. I guess he still thinks it's going to work. And, you know, there was an another thing I had to kind of figure out, which was getting up in front of the employees, which I don't know how many people we had at that time, maybe 25 or something. And, you know, they were scared and morale, morale was kind of down. And frankly, I was kind of scared, you know, I was like, I don't know what's going on here. When are things going to come back or will they come back? And so I sort of had this sense of obligation, like, okay, I got to get in front of the company and like, tell them a good plan or like put on a good face.\\n\\n2 (59m 41s):\\nAnd eventually I realized there's great power in vulnerability, right? Like you don't have to be the person with all the answers to be a leader. I thought, I thought you had to be the one with all the answers. It's actually better to go up there and say like how you're really feeling. Right. Which is like, this sucks. I'm pissed. Like I'm, I'm scared. And one of the things that I just tried to drill into the team and into my own psychology is it's never as good as it seems. And it's never as bad as it seems. And so when crypto is way up and everyone in the press is writing about how we were geniuses and all this, he's like, you've got to ignore that stuff because it's not true. And also when crypto is down and everyone's talking about how this is over and it's a failure, you gotta ignore that stuff.\"\n",
      "page_content=\"3 (1h 0m 18s):\\nThere was a point, I guess, after that crypto winter, where you, you and Fred considered laughs right. Cause it had to take a huge hit on your, I mean, from what I understand, like your, your runway of cash was going to run out if you, if you didn't lay people off. So what happened? What was that conversation like? Well, I think\\n\\n2 (1h 0m 39s):\\nThere was, there was a couple of moments like that. I think one of them was sort of more, there was another crypto winter kind of in 2016. And yeah, there was definitely a moment there where we had been trying to build things for a couple of years. We, weren't seeing a lot of growth in crypto and we looked at our cash runway and we said, all right, if this goes on another month or two, we probably need to start cutting head count to extend our runway. And by the way, at that time, a lot of people were pivoting in crypto. They were, there was this kind of meme that developed on the east coast, which was like, well, I'm not into Bitcoin, but I'm into blockchain as an underlying technology. And there was all these bank consortium's had come together. Like our three, well, a lot of crypto companies had pivoted to sort of get out of Bitcoin and build blockchain enterprise solutions.\\n\\n2 (1h 1m 22s):\\nAnd Fred and I kind of looked at each other during that. And we were like, why did we get into this in the first place? You know, we got into this because we're excited about economic freedom. And so if we have to pivot this company to be an enterprise software company for banks, you know, it's kind of like, what's the point\"\n",
      "page_content=\"3 (1h 1m 39s):\\nYou actually had those conversations like, Hey, this, if this Bitcoin thing doesn't work out, cause I remember that companies were raising so much money, just console's blockchain companies. Yeah.\\n\\n2 (1h 1m 50s):\\nYeah. It's funny people look back on it now and be like, wow, you guys had such vision and you'd never wavered. And the reality is it was actually a little simpler than that. I mean, we were just sitting in the room thinking, I mean, if we have to pivot this company to be an enterprise software company, I think we maybe just want to shut it down and return capital to investors because I just didn't want to run that company. Like we really were in it for the mission. We were a mission-driven company. If we were just going to sell software to banks, I was like, I don't really want to do that.\"\n",
      "page_content=\"3 (1h 2m 17s):\\nSo, alright. In the meantime, I, the service you're providing, which is where your revenue is coming from buying and selling Bitcoin, that was still remains a hugely volatile currency. Right? I mean, there was a point where it was like down to 300 bucks and 2014, and then it went to 2000 and 5,000. Then it hits 20,000 and 2017. It goes down to 5,020. I mean, it's insanely volatile currency. How was it that it wasn't making your business volatile? There's no predictability about how much revenue we're going to be making.\\n\\n2 (1h 2m 55s):\\nTotally. And this was a huge challenge, I guess, disadvantage in our business was that the revenues were so volatile. I remember Dropbox, CEO, drew house. And one time he told me, he's like, we can predict our revenue quarter to quarter or within 1%, because it's a subscription product. And you know, it just the growth marketing and all that stuff. But yeah, we were having, like, we could predict our revenue within one order of magnitude up or down, which I always thought was funny. But what it meant was that we had to get really good at operating a business in uncertainty. So basically when things were good, we didn't overexpand, we kind of tried to stockpile cash when things were really good. And then when things were bad, we didn't cut things too much.\\n\\n2 (1h 3m 35s):\\nAnd I don't, I wouldn't say that we got it perfect. But I think that is one of the reasons we were successful is we just didn't die. We didn't die through all the ups and downs that thinned out the herd with a lot of the other crypto companies and the space.\"\n",
      "page_content=\"3 (1h 3m 48s):\\nAll right. So now we're in this, we're still like in the pretty early stages of crypto, but we're, we're in this place where these currencies are, are out into the world. One of the things that you thought when you started Coinbase that you thought that this would just become super popular for payments for everyday payments, like buy a cup of coffee or, you know, or to a house, are you surprised that it hasn't happened yet?\\n\\n2 (1h 4m 17s):\\nI definitely in the very early days of Coinbase, I thought payments would be a more early adopter use case. Yeah. And it always just seems so unfair to me that every time you swipe your credit card, the merchant is losing 2% of the transaction. You know, it's really just sending some bits over the internet, which is the same thing we do when we send an email or a text message, but those are free. But every time we swipe a credit card, it's 2% that doesn't make sense to me. And I think the reason is that there's essentially an oligopoly of payment processors who had to spend enormous capital to build those networks. And they were very valuable. So I'm not completely criticizing them. But the thing that we actually are seeing payments start to work in crypto, but they're, they didn't happen in the coffee shop on the corner.\\n\\n2 (1h 4m 58s):\\nIn fact, that's one of the things, if I, if I could go back to my mindset at the beginning of Coinbase, I was like thinking, oh, you know, three or four years, there's going to be hundreds of millions of people using this as a payment method. And the whole network is going to scale. And I would have been very surprised to learn that fast forwarding, you know, eight or nine years, there was a ton trading activity that had happened. And now there's things like defy and NFT is tons of activity happening, but the actual everyday payment use is not there. I actually misjudged that part and I would have thought that would have happened sooner. All right.\"\n",
      "page_content=\"3 (1h 5m 31s):\\nSo as Coinbase starts to get more and more traction and, and more and more attention, you start to, to understandably there's a, there's a lot more scrutiny, right? There's a regulatory scrutiny. There's scrutiny from the media. And one of the main areas of scrutiny around crypto was that a lot of it was, or some of it was being used for illicit transactions. And, and you and I have both seen the numbers on this and they're all over the map. And there's one study from 2019 where it says something like close to 50% of Bitcoin transactions were related to illegal activity. Obviously there are other numbers that are a lot lower than that, but the thing is that the way crypto is designed, it's more anonymous.\"\n",
      "page_content=\"3 (1h 6m 13s):\\nRight. And that, that makes it a lot more attractive to criminals. Right.\\n\\n2 (1h 6m 18s):\\nSo, yeah, this is an interesting topic that comes up a lot. When I talk with folks in government and DC and regulators and everything today, and, you know, I'm actually not familiar with that study that you mentioned. I have to say, I'm a little skeptical of it being that high 50%. And, you know, even today, people are using crypto for all kinds of things, you know, and if tea is and artwork and all this stuff. So I did, I occasionally run to somebody who said, Hey, you know, I got some magic mushrooms on silk road. Yes. But it's like, it's like 1% of people or something. And so the best data that I have on it today, like over the last couple of years is that crypto transactions it's, it's less than 1% are for illicit purposes. I think even if you were to go back to like 2014 or 15, you know, it could have been as high as five or 10% or something like that I could believe.\\n\\n2 (1h 7m 3s):\\nBut I guess maybe the broader point to make here is that this is actually a really key part of Coinbase to success. I think, which is that very early on, we decided to be a regulated company. We decided to proactively reach out to regulators. I have to say that was a very contrarian idea at the time amongst my, the crypto peers that I had, because they felt like, Hey, this is all about crypto anarchy. And we should build the anti, you know, anti-establishment financial system or whatever. And my view is like, actually the value creation here is we need to build a bridge between the traditional financial system and this new crypto economy and be a trusted bridge, meaning we have to go get licensed. We have to focus on cybersecurity. We have to focus on consumer protection and things like that.\\n\\n2 (1h 7m 43s):\\nSo that turned out to be a very important differentiator for Coinbase.\"\n",
      "page_content=\"3 (1h 7m 47s):\\nHere's what I'm wondering about. We touched on this a little bit earlier about disruptive technology, all disruptive technology, as you point out creates friction. But ultimately the argument is that are made are, you know, anything that is disruptive and that's, that brings progress, gets people scared at the beginning. And eventually people understand that it improves lives. I mean, I think that's true in, in lots of cases, but I also, I also think that there's sometimes too much optimism about the promise of technology. You know, I, I, I remember I interviewed mark Zuckerberg 2010. You can see this on YouTube. If you type in guy Ross, mark Zuckerberg in, but I remember asking him like, why should Facebook, why should you have all of this data?\\n\\n###\\n3 (1h 8m 32s):\\nAnd you know, his view then was like, look, the more open we are, the more transparent we are, the closer we'll become the better the world will be the more, you know, we'll know each other. And, and he was really earnest and believe that. But of course that didn't, that didn't pan out, right? That didn't happen. Right. It's a clearly, I'm trying to draw an analogy between the optimism of Facebook and the optimism of any new technology, right. Including crypto, which, which is the idea that there are downstream consequences that we can't fully know for sure. So, you know, from the standpoint of a consumer in five or 10 years, is there a world where we might be saying, oh, we should have done X or Y or Z.\"\n",
      "page_content=\"3 (1h 9m 13s):\\nWe should have regulated crypto more. We should have put more controls on it because lots of people lost a lot of money. For example,\\n\\n2 (1h 9m 22s):\\nI mean, look, so we are in favor of regulation in crypto. You know, I don't think there's any world where it gets to be that big and important, like we all want, and it's not some level of regulation around it. Now, one thing we always have to be cautious about is like people always call for sensible regulation. Right. But the problem is almost all regulations has great intentions, but it often has these unintended consequences. Right. You know, one of the ones that I look at a lot is like the accredited investor rules, right? Where it's like to invest in private companies that have not gone public yet. You know, you have to be an, a credit investor, which basically means you need to have a certain amount of net worth like a million dollars or have $250,000 a year of income.\\n\\n2 (1h 10m 3s):\\nAnd th th the idea behind it was good, which is like, let's protect, you know, less sophisticated investors from scams and things like that. But what they also did was they basically made it illegal to get rich off these private investments, unless you were already rich. And there's a bunch of regulations like that when Coinbase was first starting out, for instance, there's a morass of regulation out there. We had to figure out, and we went and got money transmitter licenses, which were kind of invented for the time when Western union was like moving money around and almost like stagecoaches with cash and stuff like that. So believe it or not, it's like we're sitting here in 2021. And the crypto industry is using all these rules, which like predate even the internet to sort of try to figure out how they apply to our business.\\n\\n2 (1h 10m 45s):\\nAnd the net result of it is that, you know, are consumers protected. Yes. In some cases it kind of helps, but it actually, in a lot of cases, it really harms consumers.\"\n",
      "page_content=\"3 (1h 10m 55s):\\nYou started this company when you were, I think, barely 30. Right. And it was just you and, and then you and Fred, and then, and then it grew, grew and grew and grew over time. Now you've got thousands of employees. How did you learn how to lead a business? I mean, your previous experience was running a business from your laptop and Buenos Iris more or less. I mean, there's no playbook. So how did you know, why don't you learn how to lead?\\n\\n2 (1h 11m 21s):\\nYeah. So, you know, I was never somebody who thought of myself as a natural leader. In fact, I was always kind of awkward, frankly, around people and trying to make decisions and like even just running a meeting to this day, I'm still kind of awkward sometimes. But I think one thing I realized was that if you just put yourself into slightly uncomfortable situations, you can basically grow your comfort zone. And over time you just get more and more comfortable with things which used to make you uncomfortable. So five or 10 years ago, actually, when I was first starting Coinbase, you know, I'd never had never managed a single person. I had never done an interview with the press. I had never gone out and raised money. I was never meeting with heads of government or any of this stuff, but I guess I got more comfortable in my own skin a little bit over time and just kind of embraced the introvert, you know, somewhere on the spectrum, probably personality that I have.\\n\\n2 (1h 12m 12s):\\nAnd I just realized by\"\n",
      "page_content=\"3 (1h 12m 14s):\\nThe way, some on the spectrum.\\n\\n2 (1h 12m 16s):\\nYeah. I mean, I've never been officially diagnosed, but I'm pretty sure. Yes. I'm like somewhere on the Asperger's kind of spectrum, but I basically just, I was okay. Putting myself in uncomfortable situations and I slowly grew my comfort, you know, and there was one of the things I just kind of learned over time. Whereas a lot of time when you're, when you're a young person and you hear all these people, like on how I built this, you know, and you're like, wow, they're, they're just like so incredible. And it's really great to sometimes go meet your heroes because you realize that they they're just normal people and they're flawed. And that actually everybody is just kind of making it up as they go. Right. It's like nobody has it all figured out. And that's kind of a brilliant thing to learn.\\n\\n2 (1h 12m 59s):\\nYeah.\\n\\n###\\n3 (1h 12m 60s):\\nOne of your big tests as a leader happened in 2020 before you guys went public, you publish a blog post called Coinbase is a mission focused company. And this happened after a pretty intense summer. Everybody will remember in the United States, racial justice protests and, you know, corporations around the U S were trying to figure out how to respond and to be responsive to strongly, to their employees of color. And one of the, essentially what I'm paraphrasing and you can fill in the blanks here, but you essentially put out a manifesto that said, look, we're focused on our company's mission, which is to advance cryptocurrency. And when it comes to questions or issues of politics, let's just leave it out of the work space.\\n\\n###\\n3 (1h 13m 44s):\\nIs that a fair description of what you, what you said?\\n\\n2 (1h 13m 48s):\\nI would say the mission was to increase economic freedom in the world, not just advanced crypto, but yet otherwise yes, totally. Correct.\"\n",
      "page_content='3 (1h 13m 55s):\\nAll right. So you put this out there and there was a, quite a bit of blowback to say the least certainly in the media and in the social media sphere, first of all, were you expecting that? Yeah.\\n\\n2 (1h 14m 7s):\\nFully expected it. Yeah.'\n",
      "page_content=\"3 (1h 14m 9s):\\nSo tell me, explain this, walk me through it. I mean, many leaders are kind of leaning into trying to, you know, kind of be responsive to employees who, you know, have various, some very legitimate political grievances and, and, but you decided to take an opposite position and to essentially push it away. Can you walk me through your, your thinking and why?\\n\\n2 (1h 14m 35s):\\nYeah, sure. I mean, this was definitely, there was a time period there for quite a while inside Coinbase, where I would say there was this growing tension and unrest, and, but something happened last year, which actually started to take a different tone. And I, I had this gut sense that was like something different is happening here. One of the things that would happen is that we would host these kind of weekly Q and a sessions with the company. You know, there's all kinds of challenges that are going on in the company. How do we improve our products? We've got these competitors, we've got these regulators coming after us, but it got to a place where like the majority of the questions at the weekly Q and a were about things that I didn't think were actually what the company should be focusing on. They were about various societal political issues, current events.\\n\\n2 (1h 15m 17s):\\nAnd, you know, these are very important things happening in the world, but they're not really related to what we're doing. And there was a, there was a tone in that that was happening there. That was different than what I had seen before, where employees were almost like, like grandstanding or holding the mic hostage, you know, it, it was almost became almost a game of like who can make the exec team squirmed the most onstage or something like that. And it kind of culminated with a walkout that happened actually,\"\n",
      "page_content=\"3 (1h 15m 42s):\\nAnd this is related to two social justice protests. And I mean, the, the employees wanted you to take a stand and make a statement about racial justice and injustice. And was it the issue\\n\\n2 (1h 15m 54s):\\nLike supporting BLM specifically, which, you know, I was still kind of getting an understanding of, and of course we, of course we support like equality for all people and everything, but like, you know, I later learned that BLM also supports defunding the police and like getting it, you know, you'd always just, there's one step further where it's like actually, okay, that's a more complicated thing. So anyway, I deferred and to kind of answer this person's question live about what we were going to do and a walkout ensued. And so, you know, three or 400 employees, I don't know the exact number, kind of close their laptops in a virtual environment and decided to leave, just stop working and protest. So the exec team sort of came back together with a little emergency meeting and it was an interesting moment.\\n\\n2 (1h 16m 36s):\\nIt was like, okay, that's never happened before. I guess we sort of like in a rush, kind of put out some statement and we got everybody back to work. And so the months kind of went by and, and in some ways it felt like everything is back to normal, but on the other hand, it's something just felt wrong to me. And it was like, there's a misunderstanding in the organization. Some percentage of people kind of believe that our mission is actually to go engage in broader societal issues. And so I was over the months, I was trying to find my words for this. I was like, I'm kind of like a white man of privilege, every privilege you can probably imagine. And so like, what voice should I even have on this? It was very scary. You know, I'm just, everybody's afraid of being called racist or whatever, all these kinds of terrible things.\\n\\n2 (1h 17m 19s):\\nAnd so I finally, you know, got sort of the confidence to say, you know, this doesn't feel right to me. Like, of course we believe in having a workforce where everybody can come and do their best work and it's inclusive and we treat everybody with respect and they can do these great things here. But does that mean that the company should be held hostage by a small group of employees to then dive into these issues, which are unrelated to our mission? No, I don't think that sounds right. And so I finally kind of put out that statement. Some, some people internally, you know, almost like begged me not to do it. They were like, this is going to destroy the company and you'll never have a person of color work here again and all this stuff. And what was surprising was that after we made it public, the, the media sort of stories, I would say definitely leaned negative, but internally the response was overwhelmingly positive.\\n\\n2 (1h 18m 10s):\\nIt turned out, it was about 5% of the company. We, we offered this exit package to people, anybody who was not on the same page and we wanted to make it all. Win-win about 5% of the company decided to take the exit package, but the vast majority of people internally were incredibly supportive. I can't tell you the number of CEOs that reached out of different companies. I can't tell you the number of employees by the way, many of them underrepresented groups from other top companies who reached out to us and said, thank God. Somebody finally stood up and said this because I don't want this in the company that I work at. I, you know, I just want to come to work at a company where I'm respected. I can do good work, I can learn things and I can work on an important mission.\\n\\n2 (1h 18m 50s):\\nI don't want to be in a workplace where everybody is having continuous conflict and tearing each other apart over these unrelated issues. And so I think it ended up being one of the best things actually that I've done as a leader. I can tell you the net result of it was actually quite good.\"\n",
      "page_content=\"3 (1h 19m 5s):\\nThe, the risk there, of course, right in any free market system is when you take a stand or you don't take a stand or you make a position clear, one side is going to potentially punish you. Right? And so there are potentially economic consequences to, to doing certain things. Did that ever cross your mind that there could be people vote with their wallets and that people would stop using your platform?\\n\\n2 (1h 19m 33s):\\nAbsolutely. I mean, th this was one of the concerns that was discussed in advance was, Hey, we're, we're getting ready to go public. And is this gonna scare everyone in scuttle the company from going public? Or, you know, is there going to be a delete Coinbase hashtag trending on social media and everyone's going to boycott us or whatever. This is where I think founders, CEOs sometimes have a little bit of a disproportionate advantage in the sense that founder CEOs, by the way, kind of, if you look at them as a cohort in public companies, they, they outperform professionals CEOs. And I think one of the reasons is that they have a bit higher risk, right? This is not some job where I'm doing for five or 10 years where I'm trying to get good, good scores from the market, and then go onto my next thing.\\n\\n2 (1h 20m 15s):\\nThis is a company that I built from nothing. I mean, I was the only employee with my laptop, and now it has thousands of employees. And, you know, if I need to start it over again or have a setback or whatever, I'm not afraid of doing that because I, I was there. I can do it again.\"\n",
      "page_content=\"3 (1h 20m 29s):\\nWhat about your future? I mean, if you were to guess, how long do you think you're going to run Coinbase before you move on, you do what bill gates didn't and you go run the fan family foundation or something.\\n\\n2 (1h 20m 41s):\\nI dunno. I I'd like to run it a long time. Look, I, one of the ways I think about it, like today, Coinbase is actually incredibly well-run. I have an amazing exact team. I have a COO president, Emily Choi. That's just like an amazing operator. And so what is my actual value? I mean, I sort of, a lot of my time is spent just kind of collecting information in the organization. You know, I'm like absorbing different reports of how things are doing, I'm going and doing employee lunches and traveling to different offices and stuff. I like to push the company on to think bigger and sort of to try bigger ideas. Like one of the failure modes that big companies have, even if they're very well run is, is basically incremental ism. They just continually like, you know, ship.\\n\\n2 (1h 21m 22s):\\nOkay. You got a tiny bit better every month, but okay. Let's think of big, new, disruptive stuff. You know, that's crazy bets that look like kind of a toy today, but could be the next big thing. And that's how you have a company that continually can reinvent itself. You know, like the classic examples, like Steve jobs with the iPhone or something, it's, I want to push us to try big bets. So I think that's where I'm adding value today. But if it ever in the future, I'm not, then I would totally be open to having somebody do it better.\"\n",
      "page_content=\"3 (1h 21m 49s):\\nHow high do you think crypto or Bitcoin could go?\\n\\n2 (1h 21m 53s):\\nYeah. I mean, I'm, I'm not an investment advisor here, so we'd have to disclaim all that. But so today the, the market cap of Bitcoin is about a trillion dollars. One comparable people talk about a lot as gold, which is about $10 trillion. But I think in many ways, Bitcoin is actually better than gold because it's portable. You can send it anywhere in the world instantly, you know? And so could Bitcoin be as big as gold? I think absolutely. Could it be 10 X gold? Probably. It's actually pretty hard for me to imagine that there's not more people using crypto in 10 years. And the reason is that, you know, think about all the trends that are correlated with that. There's are there going to be more people using the internet or they're going to be more people doing e-commerce and online games, you know, crypto is much bigger than just digital gold.\\n\\n2 (1h 22m 37s):\\nIt's, it's an entirely new economy. I mean, so crypto as a whole industry, I think could become 10, 20% of global GDP, like in maybe 10 or 20 years, something like that. That's what the internet did. I mean, e-commerce was tiny in 1999 and now it's about 15% of global GDP. So I think, I think the crypto economy could follow a similar path.\"\n",
      "page_content=\"3 (1h 22m 59s):\\nWhen you think about the success of what you created, how much do you think it has to do with, with how hard you worked and your intelligence and how much do you think it had to do with luck?\\n\\n2 (1h 23m 10s):\\nIt's probably 50 50. Look, I, I actually, so I think every CEO who I've met, they have some minimum level of intelligence, right. But they're oftentimes not the smartest person in the room. And I, I would put myself in that category too. Like, I'm, you know, I met some minimum bar, but I'm not the smartest person. What I am is probably quite determined. There is a part of my personality. This might be a little bit like that being on the spectrum thing or whatever, but it's just like, whether it's like a really good day or a really bad day, I'm sort of even keeled. And I'm often just like, okay, well what's the next step? How do we fix it? And let's keep making progress even over like a decade or more. I can be quite resilient in that regard. But I guess the other thing I would say just about luck, absolutely luck played a big role in Coinbase.\\n\\n2 (1h 23m 53s):\\nI mean, there were certain moments early on in our history where if a coin had flipped the other way we might not be here. I think we got very lucky with sort of the timing of when the company decided to launch and when crypto decided to grow, I think that I kind of just kept trying things until eventually one of them hit. Right. Which is, it's a way of unifying those two ideas. It's, it's definitely a lot of luck when it works. But if you just keep trying, you can kind of make your own luck.\"\n",
      "page_content=\"3 (1h 24m 22s):\\nThat's Brian Armstrong, co-founder CEO of Coinbase recently, Forbes ranked Brian, number one on its crypto rich list magazine, estimated his net worth to be more than six and a half billion dollars, by the way, there's so much suspicion around cryptocurrency. Why do they call it crypto crypto? Just sense of dodgy and like secretly, like what do they call it? Like transparency, currency or something like that.\\n\\n2 (1h 24m 50s):\\nYou know, it's funny. Cause I, in the early days I had always thought about that too. And I was like, we should call it digital currency. Digital currency sounds better than crypto, but you know, you can't control these things like the internet and the memes of the world. They just spread, you know, and they get away from you sometimes. So that's what it ended up being called.\\n\\n###\\n3 (1h 25m 8s):\\nHey, thanks so much for listening to the show this week. If you're not yet a subscriber, please do subscribe wherever you get your podcasts. If you want to write to us, our email address is H ibt@npr.org. And if you want to follow us on Twitter or at guy Roz or at how I built this, you can also find us on Instagram. That's at how I built this NPR on my personal account at guide dot Ross. This episode was produced by Casey Herman with music composed by Rob teen Arab Louis. It was edited by Neeva grant with research help from Claire. Morishima our audio engineer with Stu Rushfield. Our production staff includes JC Howard, James DeLuise, Rachel Faulkner, Liz Metzger, Julia Carney, Ferris safari, Elaine coats, and Elise Ober and Harrison BJ Choi.\"\n",
      "page_content=\"3 (1h 25m 55s):\\nOur intern is Katie cipher. Jeff Rogers is our executive producer and guy Roz. And you've been listening to how I built.\\n\\n0 (1h 26m 7s):\\nThis is NPR. This message comes from NPR sponsor, click up a productivity tool that saving people one day a week by bringing all your work into one place loved by 200,000 plus teams and companies like Uber it's free forever. So sign up today at kickup.com/npr.\"\n"
     ]
    }
   ],
   "source": [
    "texts = text_splitter.create_documents([modified_transcript])\n",
    "for text in texts:\n",
    "    print(text)"
   ]
  },
  {
   "cell_type": "code",
   "execution_count": 22,
   "metadata": {},
   "outputs": [],
   "source": [
    "# load the text file \"/podscribe_transcription/hibt_main/Rivian_ RJ Scaringe-transcript.txt\" as the transcript example\n",
    "\n",
    "\n",
    "with open('podscribe_transcription/hibt_main/Aviator Nation_ Paige Mycoskie-transcript.txt', 'r') as file:\n",
    "    transcript_example = file.read()\n",
    "\n",
    "# apply the remove_ads() function to the transcript\n",
    "# save the cleaned transcript to /podscribe_transcription/hibt_main_cleaned folder\n",
    "\n",
    "cleaned_transcript = remove_ads(transcript_example)\n",
    "\n",
    "with open('podscribe_transcription/hibt_main_cleaned/Aviator Nation_ Paige Mycoskie-transcript', 'w') as file:\n",
    "    file.write(cleaned_transcript)"
   ]
  },
  {
   "cell_type": "code",
   "execution_count": null,
   "metadata": {},
   "outputs": [],
   "source": []
  }
 ],
 "metadata": {
  "kernelspec": {
   "display_name": "interviewEnv",
   "language": "python",
   "name": "python3"
  },
  "language_info": {
   "codemirror_mode": {
    "name": "ipython",
    "version": 3
   },
   "file_extension": ".py",
   "mimetype": "text/x-python",
   "name": "python",
   "nbconvert_exporter": "python",
   "pygments_lexer": "ipython3",
   "version": "3.10.13"
  }
 },
 "nbformat": 4,
 "nbformat_minor": 2
}
