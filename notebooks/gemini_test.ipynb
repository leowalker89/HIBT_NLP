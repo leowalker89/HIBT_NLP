{
 "cells": [
  {
   "cell_type": "code",
   "execution_count": 3,
   "metadata": {},
   "outputs": [
    {
     "data": {
      "text/plain": [
       "True"
      ]
     },
     "execution_count": 3,
     "metadata": {},
     "output_type": "execute_result"
    }
   ],
   "source": [
    "import google.generativeai as genai\n",
    "from dotenv import load_dotenv\n",
    "import os\n",
    "load_dotenv()"
   ]
  },
  {
   "cell_type": "code",
   "execution_count": 4,
   "metadata": {},
   "outputs": [],
   "source": [
    "# Or use `os.getenv('GOOGLE_API_KEY')` to fetch an environment variable.\n",
    "GOOGLE_API_KEY=os.getenv('GOOGLE_AISTUDIO_API_KEY')\n",
    "\n",
    "genai.configure(api_key=GOOGLE_API_KEY)"
   ]
  },
  {
   "cell_type": "code",
   "execution_count": 3,
   "metadata": {},
   "outputs": [
    {
     "name": "stdout",
     "output_type": "stream",
     "text": [
      "models/gemini-1.0-pro\n",
      "models/gemini-1.0-pro-001\n",
      "models/gemini-1.0-pro-latest\n",
      "models/gemini-1.0-pro-vision-latest\n",
      "models/gemini-pro\n",
      "models/gemini-pro-vision\n"
     ]
    }
   ],
   "source": [
    "import google.generativeai as genai\n",
    "\n",
    "for m in genai.list_models():\n",
    "  if 'generateContent' in m.supported_generation_methods:\n",
    "    print(m.name)"
   ]
  },
  {
   "cell_type": "code",
   "execution_count": 14,
   "metadata": {},
   "outputs": [],
   "source": [
    "from google.generativeai.types import HarmCategory, HarmBlockThreshold\n",
    "safe = {\n",
    "        HarmCategory.HARM_CATEGORY_HATE_SPEECH: HarmBlockThreshold.BLOCK_NONE,\n",
    "        HarmCategory.HARM_CATEGORY_HARASSMENT: HarmBlockThreshold.BLOCK_NONE,\n",
    "        HarmCategory.HARM_CATEGORY_SEXUALLY_EXPLICIT: HarmBlockThreshold.BLOCK_NONE,\n",
    "        HarmCategory.HARM_CATEGORY_DANGEROUS_CONTENT: HarmBlockThreshold.BLOCK_NONE,\n",
    "    }"
   ]
  },
  {
   "cell_type": "code",
   "execution_count": 15,
   "metadata": {},
   "outputs": [],
   "source": [
    "model = genai.GenerativeModel('gemini-pro', safety_settings=safe)\n",
    "\n"
   ]
  },
  {
   "cell_type": "code",
   "execution_count": 16,
   "metadata": {},
   "outputs": [],
   "source": [
    "prompt = \"\"\"AMP Robotics\n",
    "\n",
    "    You are a transcription analyst assistant. You are given portions of a transcription in order to extract the guests answer.\n",
    "    We are working with transcriptions from the podcast \"How I Built This\" where the host Guy Raz interviews entrepreneurs. \n",
    "    Typically towards the end of the interview he will ask a question regarding to what extent the entrepreneur attributes their success to skill, hard work, and/or intelligence versus luck.\n",
    "    Your task is to extract the answer from the transcriptions. Remember that these are transcriptions so words can be mispelled like \"lock\" instead of \"luck\" or \"intelligents\" instead of \"intelligence\".\n",
    "\n",
    "    The answer is typically a few sentences long and can be found in the same paragraph or in the following paragraphs depending on their thoughts.\n",
    "\n",
    "    <Examples>\n",
    "    \n",
    "    Example Question: When you think about the success of what you created, how much do you think it has to do with, with how hard you worked and your intelligence and how much do you think it had to do with luck?\n",
    "    Example Answer: It's probably 50 50. Look, I, I actually, so I think every CEO who I've met, they have some minimum level of intelligence, right. But they're oftentimes not the smartest person in the room. And I, I would put myself in that category too. Like, I'm, you know, I met some minimum bar, but I'm not the smartest person. What I am is probably quite determined. There is a part of my personality. This might be a little bit like that being on the spectrum thing or whatever, but it's just like, whether it's like a really good day or a really bad day, I'm sort of even keeled. And I'm often just like, okay, well what's the next step? How do we fix it? And let's keep making progress even over like a decade or more. I can be quite resilient in that regard. But I guess the other thing I would say just about luck, absolutely luck played a big role in Coinbase. I mean, there were certain moments early on in our history where if a coin had flipped the other way we might not be here. I think we got very lucky with sort of the timing of when the company decided to launch and when crypto decided to grow, I think that I kind of just kept trying things until eventually one of them hit. Right. Which is, it's a way of unifying those two ideas. It's, it's definitely a lot of luck when it works. But if you just keep trying, you can kind of make your own luck.\n",
    "\n",
    "    Example Question: Do you, I mean, obviously worked extremely hard making this happen, but I think you did have some incredibly fortunate breaks that you'd like, you couldn't control like male camp. Do you, are, are you a believer in luck or do you think that what happened really has to do with just how strategic and smart you guys were?\n",
    "    Example Answer: I totally believe in luck. I mean, but I think it comes from constantly striving and looking for that silver bullet. And when I look back on my 20 years, it felt like I was always looking for the answer, always looking for what is the playbook that I'm missing? You know, it's constantly searching. And then all along the way, stumbling upon something that actually does better than my wildest dreams. I don't know. It, it, I, I, I always had in my mind that I was just a bumbling idiot from of a Georgia who stumbled into business. And somewhere out there, someone knew the right answer of how to run my business. Right. And these days, these days, you know, MailChimp is much bigger. And I get invited to ritzy events with some really great business leaders. And I remember being in one recently where a head of one of Microsoft's cloud units, he was, he was speaking about his, how he hosts executive leadership meetings. And he says, we're still winging it. We have no idea. You know, he didn't say it that way, but he's like, we're still experimenting. You know? And this is Microsoft. And they've been around a very, very long time and they know what they're doing. So, you know, it was that moment. I realized, oh my God, nobody has the answer. We're all just winging it. Every one of us is just winging it. I don't know if that's hopeful or horrifying, but that's what I've learned.\n",
    "    \n",
    "    Example Question ...do you think it has more to do with just your intelligence and your skill or do you think that luck was a bigger factor in everything that's happened to you\n",
    "    Example Answer: so the thing I always say about lock I think it is it's the lottery and so you get sort of lottery tickets for how you know it's like how good your idea is how good your team is and how hard you work and so you take those like factors and I think how hard you work in your team or probably even bigger factors than the the idea but you still need to have something that actually would work and so you take those three things together and you get for each sort of our of production or work you get a lottery ticket and so just like the lottery if you unless you own every ticket you're not guaranteed to win because I've seen people that have are smarter than me better than me better idea than me fail because of things like luck like things not going their way and I've seen again the opposite of that and so we have been fortunate to have been have lots of Lucky breaks in our Direction but we also continue to work to get more tickets so that we could win the lottery\n",
    "    </Examples>\n",
    "\n",
    "    Transcript to extract answers from:\n",
    "    <transcript>\n",
    "    \n",
    "0 (26m 54s):\n",
    "Welcome back to How I Built This lab. I'm speaking with Matanya Horowitz founder and c e of AMP Robotics. It's a company that's using artificial intelligence and Robotics to make recycling more efficient and economically viable. So when you were working on this and you got grants and you were starting to get some traction, what did you expect to happen that didn't happen? In other words, did, I mean I, I think, and this is case with most entrepreneurs interview, you think that it's going to be easier to solve faster than it actually is. Was that the case for you?\n",
    "\n",
    "1 (27m 30s):\n",
    "Absolutely. The tough thing ended up not being the technology. Like it did take a while. I thought it would take maybe six months. It ended up taking more like two years to have something that was good. But the hardest problem ends up being matching that technology to the business problem and having something that people really love. So when we got something working, I was like, okay, great. Hard work's done. And then I found out that the real hard work was beginning, which was to go sell a ton of these things and go visit the recycling facilities, understand how to price it, you know, and all of this sort of work. But I think it was surprising to me the extent to which, you know, even if you have great technology, you just really gotta make sure that you position it right to have a catch fire.\n",
    "\n",
    "\n",
    "0 (28m 13s):\n",
    "So tell me a little bit about how this would work with existing recycling facilities. The idea is your equipment and technology would essentially be installed and automate it.\n",
    "\n",
    "1 (28m 25s):\n",
    "Yeah, that's right. So we'll go into an existing facility and we can deploy now several different types of robots and we can get these recycling facilities to be almost fully automated. So just a handful of people pulling out the stuff that's not supposed to be there, like bicycles and garden hoses. And what's really key there is we do it with very little change to their existing operations. Most of that equipment gets installed over weekends when people aren't running anyway. And so you have this very like low friction path to automation. What you see is recycling facilities can use their lower cost structure to go after more material. They'll start running second shifts, they'll start expanding recycling programs. And those are a set of solutions we have for the existing infrastructure.\n",
    "\n",
    "1 (29m 7s):\n",
    "We've now gone on to start building recycling facilities around our technology new greenfield sites built from the ground up around ai. What you find is you can do, you can go a step further, you can have facilities that'll run 24 7 facilities that can have even higher rates of material capture, higher purities be much more flexible and crucially they can be fully automated. And so now you're starting to really kinda like see this cost per ton of sorting starting to drop significantly and really kind of changing what is profitable to recycle versus what's not.\n",
    "\n",
    "0 (1s):\n",
    "Hey Prime members You can listen to how I built this early and ad free on Amazon. Music Download the app today. It's Sky Ross here on the Wisdom from the Top podcast, I talked to leadership experts and some of the world's greatest business leaders about how they lead, innovate, and transform the people around them. If you're trying to make it in business or just wanna think more like a leader, this show's probably for you. Listen now to the Wisdom from the Top podcast. From Luminary and npr. As an entrepreneur. You don't just create things and make content. You embody a lifestyle. Shouldn't your website embody it too? Well A Life URL is a polished and personalized place for your business.\n",
    "\n",
    "0 (43s):\n",
    "A life domain is unique and memorable. Just like what you're building, life gives you a URL with a point of view as strong as your own. And name.com makes it simple to find the right domain and connect it to your favorite products. Own a web address that's as inspiring as your content Get a life. Learn more at name.com/life and use promo code built 25 for 25% off the first year of your life domain. This episode is brought to you in part by Microsoft Clarity to build a successful product. The biggest advice I give to product teams is to know your users by seeing how users truly experience your product.\n",
    "\n",
    "\n",
    "0 (1m 26s):\n",
    "You can identify product opportunities and prioritize changes that matter. Microsoft Clarity makes all of this possible with simple yet powerful features. Watch session replays to discover what works with users and where they struggle. View heat maps to see where there's engagement and what content gets ignored. Pinpoint what's really bothering users with frustration Metrics like rage, clicks, dead clicks and more. You'll be blown away by how simple and easy Clarity is to use. So stop guessing, get Clarity. Oh yeah, did I mention it's completely free and works across apps and websites? Check out Clarity at Clarity dot microsoft.com.\n",
    "\n",
    "\n",
    "0 (14m 17s):\n",
    "So tell me about the idea that you decided to come up with.\n",
    "\n",
    "1 (14m 20s):\n",
    "Yeah, well I was focused on where is a spot where this artificial intelligence technology was the, the core linchpin to building a new product. So I, I started focusing on recycling and I liked it because it seemed like you could use robots that had already been around for decades if you could pair them with this vision system. And I thought that was really good. You should have one hard technical problem that was gonna be the vision system. You didn't wanna have to innovate on the robotic side at least not too much. That was at least the idea. So started kind of zeroing in on this idea of building a robot that could be bolted onto a conveyor belt and just pick stuff like that's really all we're trying to do is pick a bottle and pick a can.\n",
    "\n",
    "1 (15m 1s):\n",
    "I applied for a grant from the National Science Foundation. There's a program called the S B I R, small Business Innovations Research Program that gave me some seed funding to get started and started building a little prototype. There was, you know, a lot of kind of good fortune on the way initially I couldn't afford a conveyor belt and got a grant from Oscar Blues, the brewing company they had Oh yeah. For recycling stuff. And, you know, I was applying for these grants, I was visiting recycling facilities. I didn't know the industry that well and so I was honestly saying a lot of dumb stuff, asking a lot of dumb questions and you know, I'm kind of amazed looking back that people would gimme the time of day. But, but yeah, started kind of building this robot the first data sets for the vision system.\n",
    "\n",
    "1 (15m 44s):\n",
    "So you, you sort of need examples of bottles of cans to train this artificial intelligence stuff. Yeah, I did dumpster diving for 'em, was gonna recycling centers and pulling out bottles and cans and yeah. Just started hacking away at it.\n",
    "\n",
    "\n",
    "0 (15m 57s):\n",
    "I mean this is a hardware and a software challenge, right? Because yes, you've gotta build the hardware to be physically resilient, right? Because there's a lot of just grossness that it's gonna deal with and you know, there's probably gonna be rotten milk or rotten\n",
    "\n",
    "1 (16m 13s):\n",
    "Oh, so much rotten\n",
    "\n",
    "\n",
    "    </transcript>\n",
    "\n",
    "    If you don't see a relevant question and answer in the transcript, respond with \"Question/Answer not found.\" \n",
    "    Only respond with the answer to the question.\"\"\""
   ]
  },
  {
   "cell_type": "code",
   "execution_count": 17,
   "metadata": {},
   "outputs": [],
   "source": [
    "response = model.generate_content(prompt)"
   ]
  },
  {
   "cell_type": "code",
   "execution_count": 19,
   "metadata": {},
   "outputs": [
    {
     "data": {
      "text/plain": [
       "'Question/Answer not found.'"
      ]
     },
     "execution_count": 19,
     "metadata": {},
     "output_type": "execute_result"
    }
   ],
   "source": [
    "response.text"
   ]
  },
  {
   "cell_type": "code",
   "execution_count": null,
   "metadata": {},
   "outputs": [],
   "source": []
  }
 ],
 "metadata": {
  "kernelspec": {
   "display_name": "interviewEnv",
   "language": "python",
   "name": "python3"
  },
  "language_info": {
   "codemirror_mode": {
    "name": "ipython",
    "version": 3
   },
   "file_extension": ".py",
   "mimetype": "text/x-python",
   "name": "python",
   "nbconvert_exporter": "python",
   "pygments_lexer": "ipython3",
   "version": "3.10.13"
  }
 },
 "nbformat": 4,
 "nbformat_minor": 2
}
