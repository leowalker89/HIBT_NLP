{
 "cells": [
  {
   "cell_type": "code",
   "execution_count": 77,
   "metadata": {},
   "outputs": [
    {
     "data": {
      "text/plain": [
       "True"
      ]
     },
     "execution_count": 77,
     "metadata": {},
     "output_type": "execute_result"
    }
   ],
   "source": [
    "import pymongo\n",
    "from dotenv import load_dotenv\n",
    "import os\n",
    "\n",
    "from utils.preprocess_transcription import remove_ads, identify_host, insert_marker_before_host\n",
    "from utils.extract_comp_guest import re_extract_comp_guest\n",
    "\n",
    "from langchain_openai import OpenAIEmbeddings\n",
    "from langchain_google_genai import GoogleGenerativeAIEmbeddings\n",
    "from langchain_google_genai import ChatGoogleGenerativeAI\n",
    "from langchain_community.chat_models import ChatAnthropic\n",
    "\n",
    "from langchain.prompts import PromptTemplate\n",
    "from langchain.output_parsers import PydanticOutputParser\n",
    "\n",
    "load_dotenv()"
   ]
  },
  {
   "cell_type": "code",
   "execution_count": 2,
   "metadata": {},
   "outputs": [],
   "source": [
    "\n",
    "client = pymongo.MongoClient(os.getenv('mdb_uri'))\n",
    "DB_NAME = \"hibt_prod_db\"\n",
    "COLLECTION_NAME = \"hibt_prod_collection\"\n",
    "# ATLAS_VECTOR_SEARCH_INDEX_NAME = \"openai_large_index\"\n",
    "MONGODB_COLLECTION = client[DB_NAME][COLLECTION_NAME]\n",
    "# MONGODB_ANSWER_COLLECTION = client[DB_NAME][\"hibt_answer_collection\"]"
   ]
  },
  {
   "cell_type": "code",
   "execution_count": 3,
   "metadata": {},
   "outputs": [],
   "source": [
    "# embeddings = GoogleGenerativeAIEmbeddings(model=\"models/embedding-001\")\n",
    "\n",
    "# embedded_chunk = embeddings.embed_query(transcript_chunks[0])"
   ]
  },
  {
   "cell_type": "code",
   "execution_count": 11,
   "metadata": {},
   "outputs": [
    {
     "name": "stdout",
     "output_type": "stream",
     "text": [
      "254\n"
     ]
    }
   ],
   "source": [
    "org_filenames = MONGODB_COLLECTION.distinct(\"org_filename\")\n",
    "print(len(org_filenames))\n"
   ]
  },
  {
   "cell_type": "code",
   "execution_count": 6,
   "metadata": {},
   "outputs": [],
   "source": [
    "from pymongo.collection import Collection\n",
    "\n",
    "def transcript_pipeline(path: str, filename: str, collection: Collection) -> bool:\n",
    "    with open(path + filename, 'r') as file:\n",
    "        transcript = file.read()\n",
    "\n",
    "    transcript = remove_ads(transcript)\n",
    "    (host, match) = identify_host(transcript)\n",
    "    transcript = insert_marker_before_host(transcript, host)\n",
    "    transcript_chunks = transcript.split('###')\n",
    "    # embeddings = GoogleGenerativeAIEmbeddings(model=\"models/embedding-001\")\n",
    "    embeddings = OpenAIEmbeddings(model=\"text-embedding-3-small\")\n",
    "    meta_data = re_extract_comp_guest(filename)\n",
    "    meta_data['org_filename'] = filename\n",
    "    for i, doc in enumerate(transcript_chunks):\n",
    "        if doc.strip():\n",
    "            document = meta_data.copy()\n",
    "            document['transcript'] = doc\n",
    "            document['embedding'] = embeddings.embed_query(doc)\n",
    "            document['trans_chunk_num'] = i\n",
    "            collection.insert_one(document)\n",
    "    \n",
    "    return True"
   ]
  },
  {
   "cell_type": "code",
   "execution_count": 9,
   "metadata": {},
   "outputs": [
    {
     "name": "stdout",
     "output_type": "stream",
     "text": [
      "257\n"
     ]
    }
   ],
   "source": [
    "# count the number of files in path = '../podscribe_transcription/hibt_main/'\n",
    "path = '../podscribe_transcription/hibt_main/'\n",
    "filenames = os.listdir(path)\n",
    "print(len(filenames))"
   ]
  },
  {
   "cell_type": "code",
   "execution_count": 8,
   "metadata": {},
   "outputs": [
    {
     "name": "stderr",
     "output_type": "stream",
     "text": [
      "Processing files:   0%|          | 0/257 [00:00<?, ?it/s]"
     ]
    },
    {
     "name": "stdout",
     "output_type": "stream",
     "text": [
      "Processing file: Nov.02 2021, Hear Don Katz on the Amazing Story of Audible’s Founding-transcript.txt\n",
      "Processing file: Remembering Jake Burton Carpenter-transcript.txt\n",
      "Processing file: Discord_ Jason Citron-transcript.txt\n",
      "Processing file: Charging up the electric vehicle market with RJ Scaringe of Rivian-transcript.txt\n"
     ]
    },
    {
     "name": "stderr",
     "output_type": "stream",
     "text": [
      "Processing files:   2%|▏         | 4/257 [00:16<16:59,  4.03s/it]"
     ]
    },
    {
     "name": "stdout",
     "output_type": "stream",
     "text": [
      "Processing file: Wayfair_ Niraj Shah & Steve Conine (2018)-transcript.txt\n"
     ]
    },
    {
     "name": "stderr",
     "output_type": "stream",
     "text": [
      "Processing files:   2%|▏         | 5/257 [00:53<53:41, 12.78s/it]"
     ]
    },
    {
     "name": "stdout",
     "output_type": "stream",
     "text": [
      "Processing file: The future of driving is autonomous with Dmitri Dolgov of Waymo-transcript.txt\n"
     ]
    },
    {
     "name": "stderr",
     "output_type": "stream",
     "text": [
      "Processing files:   2%|▏         | 6/257 [01:13<1:01:45, 14.76s/it]"
     ]
    },
    {
     "name": "stdout",
     "output_type": "stream",
     "text": [
      "Processing file: Numi Organic Tea_ Reem Hassani and Ahmed Rahim-transcript.txt\n"
     ]
    },
    {
     "name": "stderr",
     "output_type": "stream",
     "text": [
      "Processing files:   3%|▎         | 7/257 [01:49<1:26:20, 20.72s/it]"
     ]
    },
    {
     "name": "stdout",
     "output_type": "stream",
     "text": [
      "Processing file: Ring_ Jamie Siminoff-transcript.txt\n"
     ]
    },
    {
     "name": "stderr",
     "output_type": "stream",
     "text": [
      "Processing files:   3%|▎         | 8/257 [02:46<2:09:21, 31.17s/it]"
     ]
    },
    {
     "name": "stdout",
     "output_type": "stream",
     "text": [
      "Processing file: Full body preventive health care with Andrew Lacy of Prenuvo-transcript.txt\n"
     ]
    },
    {
     "name": "stderr",
     "output_type": "stream",
     "text": [
      "Processing files:   4%|▎         | 9/257 [03:05<1:53:57, 27.57s/it]"
     ]
    },
    {
     "name": "stdout",
     "output_type": "stream",
     "text": [
      "Processing file: Author and Podcaster_ Tim Ferriss-transcript.txt\n"
     ]
    },
    {
     "name": "stderr",
     "output_type": "stream",
     "text": [
      "Processing files:   4%|▍         | 10/257 [03:17<1:35:11, 23.12s/it]"
     ]
    },
    {
     "name": "stdout",
     "output_type": "stream",
     "text": [
      "Processing file: Liquid Death_ Mike Cessario-transcript.txt\n"
     ]
    },
    {
     "name": "stderr",
     "output_type": "stream",
     "text": [
      "Processing files:   4%|▍         | 11/257 [04:03<2:02:01, 29.76s/it]"
     ]
    },
    {
     "name": "stdout",
     "output_type": "stream",
     "text": [
      "Processing file: Tate's Bake Shop_ Kathleen King-transcript.txt\n"
     ]
    },
    {
     "name": "stderr",
     "output_type": "stream",
     "text": [
      "Processing files:   5%|▍         | 12/257 [04:50<2:21:55, 34.76s/it]"
     ]
    },
    {
     "name": "stdout",
     "output_type": "stream",
     "text": [
      "Processing file: HOORAE_ Issa Rae-transcript.txt\n"
     ]
    },
    {
     "name": "stderr",
     "output_type": "stream",
     "text": [
      "Processing files:   5%|▌         | 13/257 [05:35<2:34:11, 37.91s/it]"
     ]
    },
    {
     "name": "stdout",
     "output_type": "stream",
     "text": [
      "Processing file: Shake Shack_ Danny Meyer-transcript.txt\n"
     ]
    },
    {
     "name": "stderr",
     "output_type": "stream",
     "text": [
      "Processing files:   5%|▌         | 14/257 [06:05<2:24:14, 35.61s/it]"
     ]
    },
    {
     "name": "stdout",
     "output_type": "stream",
     "text": [
      "Processing file: Chilewich_ Sandy Chilewich-transcript.txt\n"
     ]
    },
    {
     "name": "stderr",
     "output_type": "stream",
     "text": [
      "Processing files:   6%|▌         | 15/257 [06:36<2:17:43, 34.15s/it]"
     ]
    },
    {
     "name": "stdout",
     "output_type": "stream",
     "text": [
      "Processing file: Zumiez_ Tom Campion-transcript.txt\n"
     ]
    },
    {
     "name": "stderr",
     "output_type": "stream",
     "text": [
      "Processing files:   6%|▌         | 16/257 [07:10<2:16:42, 34.04s/it]"
     ]
    },
    {
     "name": "stdout",
     "output_type": "stream",
     "text": [
      "Processing file: Impossible Foods_ Pat Brown-transcript.txt\n"
     ]
    },
    {
     "name": "stderr",
     "output_type": "stream",
     "text": [
      "Processing files:   7%|▋         | 17/257 [07:34<2:04:26, 31.11s/it]"
     ]
    },
    {
     "name": "stdout",
     "output_type": "stream",
     "text": [
      "Processing file: Walker & Company_ Tristan Walker-transcript.txt\n"
     ]
    },
    {
     "name": "stderr",
     "output_type": "stream",
     "text": [
      "Processing files:   7%|▋         | 18/257 [08:10<2:09:24, 32.49s/it]"
     ]
    },
    {
     "name": "stdout",
     "output_type": "stream",
     "text": [
      "Processing file: Sub Pop Records_ Bruce Pavitt and Jonathan Poneman-transcript.txt\n"
     ]
    },
    {
     "name": "stderr",
     "output_type": "stream",
     "text": [
      "Processing files:   7%|▋         | 19/257 [08:57<2:26:34, 36.95s/it]"
     ]
    },
    {
     "name": "stdout",
     "output_type": "stream",
     "text": [
      "Processing file: The Life Is Good Company_ Bert and John Jacobs-transcript.txt\n"
     ]
    },
    {
     "name": "stderr",
     "output_type": "stream",
     "text": [
      "Processing files:   8%|▊         | 20/257 [09:24<2:14:40, 34.09s/it]"
     ]
    },
    {
     "name": "stdout",
     "output_type": "stream",
     "text": [
      "Processing file: Burt's Bees_ Roxanne Quimby (2019)-transcript.txt\n"
     ]
    },
    {
     "name": "stderr",
     "output_type": "stream",
     "text": [
      "Processing files:   8%|▊         | 21/257 [09:58<2:13:01, 33.82s/it]"
     ]
    },
    {
     "name": "stdout",
     "output_type": "stream",
     "text": [
      "Processing file: Lynda.com_ Lynda Weinman and Bruce Heavin-transcript.txt\n"
     ]
    },
    {
     "name": "stderr",
     "output_type": "stream",
     "text": [
      "Processing files:   9%|▊         | 22/257 [10:33<2:14:44, 34.40s/it]"
     ]
    },
    {
     "name": "stdout",
     "output_type": "stream",
     "text": [
      "Processing file: Stripe_ Patrick and John Collison (2018)-transcript.txt\n"
     ]
    },
    {
     "name": "stderr",
     "output_type": "stream",
     "text": [
      "Processing files:   9%|▉         | 23/257 [10:53<1:57:05, 30.02s/it]"
     ]
    },
    {
     "name": "stdout",
     "output_type": "stream",
     "text": [
      "Processing file: Mielle Organics_ Monique Rodriguez-transcript.txt\n"
     ]
    },
    {
     "name": "stderr",
     "output_type": "stream",
     "text": [
      "Processing files:   9%|▉         | 24/257 [11:38<2:14:20, 34.59s/it]"
     ]
    },
    {
     "name": "stdout",
     "output_type": "stream",
     "text": [
      "Processing file: Air Lease Corporation_ Steven Udvar-Hazy-transcript.txt\n"
     ]
    },
    {
     "name": "stderr",
     "output_type": "stream",
     "text": [
      "Processing files:  10%|▉         | 25/257 [12:32<2:35:23, 40.19s/it]"
     ]
    },
    {
     "name": "stdout",
     "output_type": "stream",
     "text": [
      "Processing file: Wisdom From The Top_ Bonus Episode-transcript.txt\n"
     ]
    },
    {
     "name": "stderr",
     "output_type": "stream",
     "text": [
      "Processing files:  10%|█         | 26/257 [12:54<2:14:20, 34.89s/it]"
     ]
    },
    {
     "name": "stdout",
     "output_type": "stream",
     "text": [
      "Processing file: Gimlet Media_ Alex Blumberg and Matt Lieber-transcript.txt\n"
     ]
    },
    {
     "name": "stderr",
     "output_type": "stream",
     "text": [
      "Processing files:  11%|█         | 27/257 [13:51<2:38:46, 41.42s/it]"
     ]
    },
    {
     "name": "stdout",
     "output_type": "stream",
     "text": [
      "Processing file: Patagonia_ Yvon Chouinard-transcript.txt\n"
     ]
    },
    {
     "name": "stderr",
     "output_type": "stream",
     "text": [
      "Processing files:  11%|█         | 28/257 [14:05<2:06:21, 33.11s/it]"
     ]
    },
    {
     "name": "stdout",
     "output_type": "stream",
     "text": [
      "Processing file: Briogeo_ Nancy Twine-transcript.txt\n"
     ]
    },
    {
     "name": "stderr",
     "output_type": "stream",
     "text": [
      "Processing files:  11%|█▏        | 29/257 [14:43<2:12:25, 34.85s/it]"
     ]
    },
    {
     "name": "stdout",
     "output_type": "stream",
     "text": [
      "Processing file: Unlocking the renewable energy revolution with Ramya Swaminathan of Malta Inc.-transcript.txt\n"
     ]
    },
    {
     "name": "stderr",
     "output_type": "stream",
     "text": [
      "Processing files:  12%|█▏        | 30/257 [15:01<1:52:26, 29.72s/it]"
     ]
    },
    {
     "name": "stdout",
     "output_type": "stream",
     "text": [
      "Processing file: Delivering the future in drones with Keller Rinaudo Cliffton of Zipline-transcript.txt\n"
     ]
    },
    {
     "name": "stderr",
     "output_type": "stream",
     "text": [
      "Processing files:  12%|█▏        | 31/257 [15:15<1:33:48, 24.90s/it]"
     ]
    },
    {
     "name": "stdout",
     "output_type": "stream",
     "text": [
      "Processing file: Uncle Nearest Premium Whiskey_ Fawn Weaver-transcript.txt\n"
     ]
    },
    {
     "name": "stderr",
     "output_type": "stream",
     "text": [
      "Processing files:  12%|█▏        | 32/257 [15:50<1:44:32, 27.88s/it]"
     ]
    },
    {
     "name": "stdout",
     "output_type": "stream",
     "text": [
      "Processing file: Affirm_ Max Levchin (Part 2 of 2)-transcript.txt\n"
     ]
    },
    {
     "name": "stderr",
     "output_type": "stream",
     "text": [
      "Processing files:  13%|█▎        | 33/257 [16:14<1:40:21, 26.88s/it]"
     ]
    },
    {
     "name": "stdout",
     "output_type": "stream",
     "text": [
      "Processing file: Chobani_ Hamdi Ulukaya-transcript.txt\n"
     ]
    },
    {
     "name": "stderr",
     "output_type": "stream",
     "text": [
      "Processing files:  13%|█▎        | 34/257 [17:23<2:27:05, 39.58s/it]"
     ]
    },
    {
     "name": "stdout",
     "output_type": "stream",
     "text": [
      "Processing file: Policygenius_ Jennifer Fitzgerald-transcript.txt\n"
     ]
    },
    {
     "name": "stderr",
     "output_type": "stream",
     "text": [
      "Processing files:  14%|█▎        | 35/257 [18:02<2:25:38, 39.36s/it]"
     ]
    },
    {
     "name": "stdout",
     "output_type": "stream",
     "text": [
      "Processing file: Angie's BOOMCHICKAPOP_ Angie & Dan Bastian (2019)-transcript.txt\n"
     ]
    },
    {
     "name": "stderr",
     "output_type": "stream",
     "text": [
      "Processing files:  14%|█▍        | 36/257 [18:51<2:35:37, 42.25s/it]"
     ]
    },
    {
     "name": "stdout",
     "output_type": "stream",
     "text": [
      "Processing file: When AI is your personal tutor with Sal Khan of Khan Academy-transcript.txt\n"
     ]
    },
    {
     "name": "stderr",
     "output_type": "stream",
     "text": [
      "Processing files:  14%|█▍        | 37/257 [19:04<2:02:07, 33.31s/it]"
     ]
    },
    {
     "name": "stdout",
     "output_type": "stream",
     "text": [
      "Processing file: Spin Master_PAW Patrol_ Ronnen Harary-transcript.txt\n"
     ]
    },
    {
     "name": "stderr",
     "output_type": "stream",
     "text": [
      "Processing files:  15%|█▍        | 38/257 [20:03<2:30:05, 41.12s/it]"
     ]
    },
    {
     "name": "stdout",
     "output_type": "stream",
     "text": [
      "Processing file: The surprise that's saving food with Lucie Basch of Too Good To Go (2023)-transcript.txt\n"
     ]
    },
    {
     "name": "stderr",
     "output_type": "stream",
     "text": [
      "Processing files:  15%|█▌        | 39/257 [20:20<2:02:38, 33.75s/it]"
     ]
    },
    {
     "name": "stdout",
     "output_type": "stream",
     "text": [
      "Processing file: Riot Games_ Brandon Beck and Marc Merrill-transcript.txt\n"
     ]
    },
    {
     "name": "stderr",
     "output_type": "stream",
     "text": [
      "Processing files:  16%|█▌        | 40/257 [20:34<1:40:51, 27.89s/it]"
     ]
    },
    {
     "name": "stdout",
     "output_type": "stream",
     "text": [
      "Processing file: Sun Bum_ Tom Rinks-transcript.txt\n"
     ]
    },
    {
     "name": "stderr",
     "output_type": "stream",
     "text": [
      "Processing files:  16%|█▌        | 41/257 [21:35<2:15:54, 37.75s/it]"
     ]
    },
    {
     "name": "stdout",
     "output_type": "stream",
     "text": [
      "Processing file: Seventh Generation_ Alan Newman and Jeffrey Hollender-transcript.txt\n"
     ]
    },
    {
     "name": "stderr",
     "output_type": "stream",
     "text": [
      "Processing files:  16%|█▋        | 42/257 [21:46<1:46:55, 29.84s/it]"
     ]
    },
    {
     "name": "stdout",
     "output_type": "stream",
     "text": [
      "Processing file: FUBU_ Daymond John (2018)-transcript.txt\n"
     ]
    },
    {
     "name": "stderr",
     "output_type": "stream",
     "text": [
      "Processing files:  17%|█▋        | 43/257 [22:14<1:44:53, 29.41s/it]"
     ]
    },
    {
     "name": "stdout",
     "output_type": "stream",
     "text": [
      "Processing file: A climate-resilient ancient grain with Pierre Thiam of Yolélé (2022)-transcript.txt\n"
     ]
    },
    {
     "name": "stderr",
     "output_type": "stream",
     "text": [
      "Processing files:  17%|█▋        | 44/257 [22:30<1:30:02, 25.36s/it]"
     ]
    },
    {
     "name": "stdout",
     "output_type": "stream",
     "text": [
      "Processing file: Vita Coco_ Michael Kirban-transcript.txt\n"
     ]
    },
    {
     "name": "stderr",
     "output_type": "stream",
     "text": [
      "Processing files:  18%|█▊        | 45/257 [23:06<1:40:19, 28.40s/it]"
     ]
    },
    {
     "name": "stdout",
     "output_type": "stream",
     "text": [
      "Processing file: Moderna and Flagship Pioneering_ Noubar Afeyan-transcript.txt\n"
     ]
    },
    {
     "name": "stderr",
     "output_type": "stream",
     "text": [
      "Processing files:  18%|█▊        | 46/257 [23:30<1:35:26, 27.14s/it]"
     ]
    },
    {
     "name": "stdout",
     "output_type": "stream",
     "text": [
      "Processing file: Harry’s Razors_ Andy Katz-Mayfield and Jeff Raider-transcript.txt\n"
     ]
    },
    {
     "name": "stderr",
     "output_type": "stream",
     "text": [
      "Processing files:  18%|█▊        | 47/257 [24:06<1:43:48, 29.66s/it]"
     ]
    },
    {
     "name": "stdout",
     "output_type": "stream",
     "text": [
      "Processing file: Bumble_ Whitney Wolfe (2017)-transcript.txt\n"
     ]
    },
    {
     "name": "stderr",
     "output_type": "stream",
     "text": [
      "Processing files:  19%|█▊        | 48/257 [24:30<1:37:55, 28.11s/it]"
     ]
    },
    {
     "name": "stdout",
     "output_type": "stream",
     "text": [
      "Processing file: inov-8_ Wayne Edy-transcript.txt\n"
     ]
    },
    {
     "name": "stderr",
     "output_type": "stream",
     "text": [
      "Processing files:  19%|█▉        | 49/257 [24:59<1:38:01, 28.27s/it]"
     ]
    },
    {
     "name": "stdout",
     "output_type": "stream",
     "text": [
      "Processing file: Noom_ Saeju Jeong-transcript.txt\n"
     ]
    },
    {
     "name": "stderr",
     "output_type": "stream",
     "text": [
      "Processing files:  19%|█▉        | 50/257 [25:45<1:55:49, 33.57s/it]"
     ]
    },
    {
     "name": "stdout",
     "output_type": "stream",
     "text": [
      "Processing file: Sir Kensington's_ Scott Norton and Mark Ramadan-transcript.txt\n"
     ]
    },
    {
     "name": "stderr",
     "output_type": "stream",
     "text": [
      "Processing files:  20%|█▉        | 51/257 [26:36<2:14:01, 39.04s/it]"
     ]
    },
    {
     "name": "stdout",
     "output_type": "stream",
     "text": [
      "Processing file: Reinvesting in our cities with renewable energy with Donnel Baird of BlocPower (2022)-transcript.txt\n"
     ]
    },
    {
     "name": "stderr",
     "output_type": "stream",
     "text": [
      "Processing files:  20%|██        | 52/257 [26:56<1:53:46, 33.30s/it]"
     ]
    },
    {
     "name": "stdout",
     "output_type": "stream",
     "text": [
      "Processing file: Goodreads_ Otis and Elizabeth  Chandler-transcript.txt\n"
     ]
    },
    {
     "name": "stderr",
     "output_type": "stream",
     "text": [
      "Processing files:  21%|██        | 53/257 [27:30<1:53:10, 33.29s/it]"
     ]
    },
    {
     "name": "stdout",
     "output_type": "stream",
     "text": [
      "Processing file: Leading through radical change with Julia Hartz of Eventbrite-transcript.txt\n"
     ]
    },
    {
     "name": "stderr",
     "output_type": "stream",
     "text": [
      "Processing files:  21%|██        | 54/257 [27:47<1:36:37, 28.56s/it]"
     ]
    },
    {
     "name": "stdout",
     "output_type": "stream",
     "text": [
      "Processing file: ClassPass_ Payal Kadakia-transcript.txt\n"
     ]
    },
    {
     "name": "stderr",
     "output_type": "stream",
     "text": [
      "Processing files:  21%|██▏       | 55/257 [28:34<1:54:52, 34.12s/it]"
     ]
    },
    {
     "name": "stdout",
     "output_type": "stream",
     "text": [
      "Processing file: Designing shoes for women's feet with Wes and Allyson Felix of Saysh (2023)-transcript.txt\n"
     ]
    },
    {
     "name": "stderr",
     "output_type": "stream",
     "text": [
      "Processing files:  22%|██▏       | 56/257 [28:49<1:34:55, 28.34s/it]"
     ]
    },
    {
     "name": "stdout",
     "output_type": "stream",
     "text": [
      "Processing file: Diapers.com & Jet.com_ Marc Lore-transcript.txt\n"
     ]
    },
    {
     "name": "stderr",
     "output_type": "stream",
     "text": [
      "Processing files:  22%|██▏       | 57/257 [29:49<2:06:10, 37.85s/it]"
     ]
    },
    {
     "name": "stdout",
     "output_type": "stream",
     "text": [
      "Processing file: Discovery Channel and Curiosity Stream_ John Hendricks-transcript.txt\n"
     ]
    },
    {
     "name": "stderr",
     "output_type": "stream",
     "text": [
      "Processing files:  23%|██▎       | 58/257 [30:26<2:05:01, 37.70s/it]"
     ]
    },
    {
     "name": "stdout",
     "output_type": "stream",
     "text": [
      "Processing file: Wondery_ Hernan Lopez-transcript.txt\n"
     ]
    },
    {
     "name": "stderr",
     "output_type": "stream",
     "text": [
      "Processing files:  23%|██▎       | 59/257 [30:27<1:27:56, 26.65s/it]"
     ]
    },
    {
     "name": "stdout",
     "output_type": "stream",
     "text": [
      "Processing file: Love’s next chapter with Whitney Wolfe Herd of Bumble-transcript.txt\n"
     ]
    },
    {
     "name": "stderr",
     "output_type": "stream",
     "text": [
      "Processing files:  23%|██▎       | 60/257 [30:40<1:14:01, 22.55s/it]"
     ]
    },
    {
     "name": "stdout",
     "output_type": "stream",
     "text": [
      "Processing file: Osprey Packs_ Mike Pfotenhauer-transcript.txt\n"
     ]
    },
    {
     "name": "stderr",
     "output_type": "stream",
     "text": [
      "Processing files:  24%|██▎       | 61/257 [31:19<1:29:59, 27.55s/it]"
     ]
    },
    {
     "name": "stdout",
     "output_type": "stream",
     "text": [
      "Processing file: The Tetris Company_ Henk Rogers-transcript.txt\n"
     ]
    },
    {
     "name": "stderr",
     "output_type": "stream",
     "text": [
      "Processing files:  24%|██▍       | 62/257 [32:13<1:54:23, 35.20s/it]"
     ]
    },
    {
     "name": "stdout",
     "output_type": "stream",
     "text": [
      "Processing file: CAVA_ Ted Xenohristos and Brett Schulman-transcript.txt\n"
     ]
    },
    {
     "name": "stderr",
     "output_type": "stream",
     "text": [
      "Processing files:  25%|██▍       | 63/257 [32:55<2:00:26, 37.25s/it]"
     ]
    },
    {
     "name": "stdout",
     "output_type": "stream",
     "text": [
      "Processing file: I.R.S. Records_ Miles Copeland-transcript.txt\n"
     ]
    },
    {
     "name": "stderr",
     "output_type": "stream",
     "text": [
      "Processing files:  25%|██▍       | 64/257 [33:23<1:51:47, 34.75s/it]"
     ]
    },
    {
     "name": "stdout",
     "output_type": "stream",
     "text": [
      "Processing file: Saving the f#$%ing rainforests with Shara Ticku of C16 Biosciences-transcript.txt\n"
     ]
    },
    {
     "name": "stderr",
     "output_type": "stream",
     "text": [
      "Processing files:  25%|██▌       | 65/257 [33:44<1:37:34, 30.49s/it]"
     ]
    },
    {
     "name": "stdout",
     "output_type": "stream",
     "text": [
      "Processing file: Doing the bees’ work with Thai Sade of BloomX-transcript.txt\n"
     ]
    },
    {
     "name": "stderr",
     "output_type": "stream",
     "text": [
      "Processing files:  26%|██▌       | 66/257 [34:02<1:24:57, 26.69s/it]"
     ]
    },
    {
     "name": "stdout",
     "output_type": "stream",
     "text": [
      "Processing file: Manduka_ Peter Sterios-transcript.txt\n"
     ]
    },
    {
     "name": "stderr",
     "output_type": "stream",
     "text": [
      "Processing files:  26%|██▌       | 67/257 [34:43<1:38:00, 30.95s/it]"
     ]
    },
    {
     "name": "stdout",
     "output_type": "stream",
     "text": [
      "Processing file: Halo Top Ice Cream_ Justin Woolverton-transcript.txt\n"
     ]
    },
    {
     "name": "stderr",
     "output_type": "stream",
     "text": [
      "Processing files:  26%|██▋       | 68/257 [35:42<2:04:16, 39.45s/it]"
     ]
    },
    {
     "name": "stdout",
     "output_type": "stream",
     "text": [
      "Processing file: Evite_ Selina Tobaccowala-transcript.txt\n"
     ]
    },
    {
     "name": "stderr",
     "output_type": "stream",
     "text": [
      "Processing files:  27%|██▋       | 69/257 [36:25<2:06:48, 40.47s/it]"
     ]
    },
    {
     "name": "stdout",
     "output_type": "stream",
     "text": [
      "Processing file: Spanx_ Sara Blakely-transcript.txt\n"
     ]
    },
    {
     "name": "stderr",
     "output_type": "stream",
     "text": [
      "Processing files:  27%|██▋       | 70/257 [36:41<1:43:10, 33.10s/it]"
     ]
    },
    {
     "name": "stdout",
     "output_type": "stream",
     "text": [
      "Processing file: Rivian_ RJ Scaringe-transcript.txt\n"
     ]
    },
    {
     "name": "stderr",
     "output_type": "stream",
     "text": [
      "Processing files:  28%|██▊       | 71/257 [36:43<1:14:07, 23.91s/it]"
     ]
    },
    {
     "name": "stdout",
     "output_type": "stream",
     "text": [
      "Processing file: Audible_ Don Katz-transcript.txt\n"
     ]
    },
    {
     "name": "stderr",
     "output_type": "stream",
     "text": [
      "Processing files:  28%|██▊       | 72/257 [37:17<1:22:49, 26.86s/it]"
     ]
    },
    {
     "name": "stdout",
     "output_type": "stream",
     "text": [
      "Processing file: Michael Kors_ Michael Kors-transcript.txt\n"
     ]
    },
    {
     "name": "stderr",
     "output_type": "stream",
     "text": [
      "Processing files:  28%|██▊       | 73/257 [37:52<1:30:08, 29.39s/it]"
     ]
    },
    {
     "name": "stdout",
     "output_type": "stream",
     "text": [
      "Processing file: Sweetgreen_ Nicolas Jammet and Jonathan Neman-transcript.txt\n"
     ]
    },
    {
     "name": "stderr",
     "output_type": "stream",
     "text": [
      "Processing files:  29%|██▉       | 74/257 [38:17<1:25:21, 27.98s/it]"
     ]
    },
    {
     "name": "stdout",
     "output_type": "stream",
     "text": [
      "Processing file: S'well_ Sarah Kauss-transcript.txt\n"
     ]
    },
    {
     "name": "stderr",
     "output_type": "stream",
     "text": [
      "Processing files:  29%|██▉       | 75/257 [38:51<1:30:18, 29.77s/it]"
     ]
    },
    {
     "name": "stdout",
     "output_type": "stream",
     "text": [
      "Processing file: Solo Stove_ Spencer and Jeff Jan-transcript.txt\n"
     ]
    },
    {
     "name": "stderr",
     "output_type": "stream",
     "text": [
      "Processing files:  30%|██▉       | 76/257 [39:26<1:35:01, 31.50s/it]"
     ]
    },
    {
     "name": "stdout",
     "output_type": "stream",
     "text": [
      "Processing file: When your headphones listen to you with Ramses Alcaide of Neurable-transcript.txt\n"
     ]
    },
    {
     "name": "stderr",
     "output_type": "stream",
     "text": [
      "Processing files:  30%|██▉       | 77/257 [39:43<1:21:27, 27.15s/it]"
     ]
    },
    {
     "name": "stdout",
     "output_type": "stream",
     "text": [
      "Processing file: Steve Madden_ Steve Madden (2018)-transcript.txt\n"
     ]
    },
    {
     "name": "stderr",
     "output_type": "stream",
     "text": [
      "Processing files:  30%|███       | 78/257 [40:32<1:39:58, 33.51s/it]"
     ]
    },
    {
     "name": "stdout",
     "output_type": "stream",
     "text": [
      "Processing file: Jack Black Skin Care_ Curran and Jeff Dandurand-transcript.txt\n"
     ]
    },
    {
     "name": "stderr",
     "output_type": "stream",
     "text": [
      "Processing files:  31%|███       | 79/257 [41:19<1:51:31, 37.59s/it]"
     ]
    },
    {
     "name": "stdout",
     "output_type": "stream",
     "text": [
      "Processing file: Sukhi’s Gourmet Indian Food_ Sukhi Singh and Dalbir Singh-transcript.txt\n"
     ]
    },
    {
     "name": "stderr",
     "output_type": "stream",
     "text": [
      "Processing files:  31%|███       | 80/257 [41:51<1:46:16, 36.02s/it]"
     ]
    },
    {
     "name": "stdout",
     "output_type": "stream",
     "text": [
      "Processing file: Bombas_ David Heath and Randy Goldberg-transcript.txt\n"
     ]
    },
    {
     "name": "stderr",
     "output_type": "stream",
     "text": [
      "Processing files:  32%|███▏      | 81/257 [42:42<1:58:19, 40.34s/it]"
     ]
    },
    {
     "name": "stdout",
     "output_type": "stream",
     "text": [
      "Processing file: Supergoop!_ Holly Thaggard-transcript.txt\n"
     ]
    },
    {
     "name": "stderr",
     "output_type": "stream",
     "text": [
      "Processing files:  32%|███▏      | 82/257 [43:38<2:11:58, 45.25s/it]"
     ]
    },
    {
     "name": "stdout",
     "output_type": "stream",
     "text": [
      "Processing file: Tempur-Pedic_ Bobby Trussell (2018)-transcript.txt\n"
     ]
    },
    {
     "name": "stderr",
     "output_type": "stream",
     "text": [
      "Processing files:  32%|███▏      | 83/257 [44:20<2:08:24, 44.28s/it]"
     ]
    },
    {
     "name": "stdout",
     "output_type": "stream",
     "text": [
      "Processing file: Florentine Films_ Ken Burns-transcript.txt\n"
     ]
    },
    {
     "name": "stderr",
     "output_type": "stream",
     "text": [
      "Processing files:  33%|███▎      | 84/257 [45:04<2:07:03, 44.07s/it]"
     ]
    },
    {
     "name": "stdout",
     "output_type": "stream",
     "text": [
      "Processing file: Merge Records_ Laura Ballance and Mac McCaughan-transcript.txt\n"
     ]
    },
    {
     "name": "stderr",
     "output_type": "stream",
     "text": [
      "Processing files:  33%|███▎      | 85/257 [45:45<2:03:28, 43.07s/it]"
     ]
    },
    {
     "name": "stdout",
     "output_type": "stream",
     "text": [
      "Processing file: Away_ Jen Rubio-transcript.txt\n"
     ]
    },
    {
     "name": "stderr",
     "output_type": "stream",
     "text": [
      "Processing files:  33%|███▎      | 86/257 [46:15<1:51:40, 39.18s/it]"
     ]
    },
    {
     "name": "stdout",
     "output_type": "stream",
     "text": [
      "Processing file: Shopify_ Tobias Lütke-transcript.txt\n"
     ]
    },
    {
     "name": "stderr",
     "output_type": "stream",
     "text": [
      "Processing files:  34%|███▍      | 87/257 [46:59<1:54:48, 40.52s/it]"
     ]
    },
    {
     "name": "stdout",
     "output_type": "stream",
     "text": [
      "Processing file: The Ringer_ Bill Simmons-transcript.txt\n"
     ]
    },
    {
     "name": "stderr",
     "output_type": "stream",
     "text": [
      "Processing files:  34%|███▍      | 88/257 [47:49<2:02:58, 43.66s/it]"
     ]
    },
    {
     "name": "stdout",
     "output_type": "stream",
     "text": [
      "Processing file: Atlassian_ Mike Cannon-Brookes and Scott Farquhar-transcript.txt\n"
     ]
    },
    {
     "name": "stderr",
     "output_type": "stream",
     "text": [
      "Processing files:  35%|███▍      | 89/257 [48:20<1:50:47, 39.57s/it]"
     ]
    },
    {
     "name": "stdout",
     "output_type": "stream",
     "text": [
      "Processing file: The Lip Bar (TLB)_ Melissa Butler (2020)-transcript.txt\n"
     ]
    },
    {
     "name": "stderr",
     "output_type": "stream",
     "text": [
      "Processing files:  35%|███▌      | 90/257 [49:02<1:52:42, 40.49s/it]"
     ]
    },
    {
     "name": "stdout",
     "output_type": "stream",
     "text": [
      "Processing file: Wikipedia_ Jimmy Wales (2018)-transcript.txt\n"
     ]
    },
    {
     "name": "stderr",
     "output_type": "stream",
     "text": [
      "Processing files:  35%|███▌      | 91/257 [49:26<1:37:47, 35.35s/it]"
     ]
    },
    {
     "name": "stdout",
     "output_type": "stream",
     "text": [
      "Processing file: Aviator Nation_ Paige Mycoskie-transcript.txt\n"
     ]
    },
    {
     "name": "stderr",
     "output_type": "stream",
     "text": [
      "Processing files:  36%|███▌      | 92/257 [50:01<1:37:18, 35.38s/it]"
     ]
    },
    {
     "name": "stdout",
     "output_type": "stream",
     "text": [
      "Processing file: Instagram_ Kevin Systrom & Mike Krieger-transcript.txt\n"
     ]
    },
    {
     "name": "stderr",
     "output_type": "stream",
     "text": [
      "Processing files:  36%|███▌      | 93/257 [50:12<1:16:37, 28.03s/it]"
     ]
    },
    {
     "name": "stdout",
     "output_type": "stream",
     "text": [
      "Processing file: Electrifying aviation with Kyle Clark of BETA Technologies-transcript.txt\n"
     ]
    },
    {
     "name": "stderr",
     "output_type": "stream",
     "text": [
      "Processing files:  37%|███▋      | 94/257 [50:37<1:13:56, 27.22s/it]"
     ]
    },
    {
     "name": "stdout",
     "output_type": "stream",
     "text": [
      "Processing file: Strava_ Mark Gainey and Michael Horvath-transcript.txt\n"
     ]
    },
    {
     "name": "stderr",
     "output_type": "stream",
     "text": [
      "Processing files:  37%|███▋      | 95/257 [51:12<1:19:37, 29.49s/it]"
     ]
    },
    {
     "name": "stdout",
     "output_type": "stream",
     "text": [
      "Processing file: Guayakí Yerba Mate_ David Karr and Chris Mann-transcript.txt\n"
     ]
    },
    {
     "name": "stderr",
     "output_type": "stream",
     "text": [
      "Processing files:  37%|███▋      | 96/257 [51:55<1:30:11, 33.61s/it]"
     ]
    },
    {
     "name": "stdout",
     "output_type": "stream",
     "text": [
      "Processing file: Milk Bar_ Christina Tosi-transcript.txt\n"
     ]
    },
    {
     "name": "stderr",
     "output_type": "stream",
     "text": [
      "Processing files:  38%|███▊      | 97/257 [52:26<1:27:47, 32.92s/it]"
     ]
    },
    {
     "name": "stdout",
     "output_type": "stream",
     "text": [
      "Processing file: Chef and Restaurateur_ Thomas Keller-transcript.txt\n"
     ]
    },
    {
     "name": "stderr",
     "output_type": "stream",
     "text": [
      "Processing files:  38%|███▊      | 98/257 [53:11<1:36:35, 36.45s/it]"
     ]
    },
    {
     "name": "stdout",
     "output_type": "stream",
     "text": [
      "Processing file: Bonobos_ Andy Dunn (2019)-transcript.txt\n"
     ]
    },
    {
     "name": "stderr",
     "output_type": "stream",
     "text": [
      "Processing files:  39%|███▊      | 99/257 [53:45<1:33:52, 35.65s/it]"
     ]
    },
    {
     "name": "stdout",
     "output_type": "stream",
     "text": [
      "Processing file: Wirecutter_ Brian Lam-transcript.txt\n"
     ]
    },
    {
     "name": "stderr",
     "output_type": "stream",
     "text": [
      "Processing files:  39%|███▉      | 100/257 [54:29<1:39:43, 38.11s/it]"
     ]
    },
    {
     "name": "stdout",
     "output_type": "stream",
     "text": [
      "Processing file: Zocdoc_ Oliver Kharraz-transcript.txt\n"
     ]
    },
    {
     "name": "stderr",
     "output_type": "stream",
     "text": [
      "Processing files:  39%|███▉      | 101/257 [55:06<1:38:32, 37.90s/it]"
     ]
    },
    {
     "name": "stdout",
     "output_type": "stream",
     "text": [
      "Processing file: Kinko’s_ Paul Orfalea-transcript.txt\n"
     ]
    },
    {
     "name": "stderr",
     "output_type": "stream",
     "text": [
      "Processing files:  40%|███▉      | 102/257 [55:57<1:47:57, 41.79s/it]"
     ]
    },
    {
     "name": "stdout",
     "output_type": "stream",
     "text": [
      "Processing file: Reimagining seafood production with Aryé Elfenbein and Justin Kolbeck of Wildtype (2022)-transcript.txt\n"
     ]
    },
    {
     "name": "stderr",
     "output_type": "stream",
     "text": [
      "Processing files:  40%|████      | 103/257 [56:19<1:31:50, 35.78s/it]"
     ]
    },
    {
     "name": "stdout",
     "output_type": "stream",
     "text": [
      "Processing file: LÄRABAR_ Lara Merriken (2018)-transcript.txt\n"
     ]
    },
    {
     "name": "stderr",
     "output_type": "stream",
     "text": [
      "Processing files:  40%|████      | 104/257 [56:52<1:29:12, 34.98s/it]"
     ]
    },
    {
     "name": "stdout",
     "output_type": "stream",
     "text": [
      "Processing file: Serial Entrepreneur_ Marcia Kilgore (2018)-transcript.txt\n"
     ]
    },
    {
     "name": "stderr",
     "output_type": "stream",
     "text": [
      "Processing files:  41%|████      | 105/257 [57:16<1:20:31, 31.79s/it]"
     ]
    },
    {
     "name": "stdout",
     "output_type": "stream",
     "text": [
      "Processing file: Calendly_ Tope Awotona-transcript.txt\n"
     ]
    },
    {
     "name": "stderr",
     "output_type": "stream",
     "text": [
      "Processing files:  41%|████      | 106/257 [58:07<1:33:57, 37.34s/it]"
     ]
    },
    {
     "name": "stdout",
     "output_type": "stream",
     "text": [
      "Processing file: McBride Sisters Wine (Part 2 of 2)_ Robin McBride and Andréa McBride John-transcript.txt\n"
     ]
    },
    {
     "name": "stderr",
     "output_type": "stream",
     "text": [
      "Processing files:  42%|████▏     | 107/257 [59:11<1:53:21, 45.34s/it]"
     ]
    },
    {
     "name": "stdout",
     "output_type": "stream",
     "text": [
      "Processing file: Panera Bread_Au Bon Pain_ Ron Shaich (2018)-transcript.txt\n"
     ]
    },
    {
     "name": "stderr",
     "output_type": "stream",
     "text": [
      "Processing files:  42%|████▏     | 108/257 [59:33<1:35:25, 38.43s/it]"
     ]
    },
    {
     "name": "stdout",
     "output_type": "stream",
     "text": [
      "Processing file: Outdoor Voices_ Tyler Haney-transcript.txt\n"
     ]
    },
    {
     "name": "stderr",
     "output_type": "stream",
     "text": [
      "Processing files:  42%|████▏     | 109/257 [1:00:14<1:37:05, 39.36s/it]"
     ]
    },
    {
     "name": "stdout",
     "output_type": "stream",
     "text": [
      "Processing file: Beautyblender_ Rea Ann Silva-transcript.txt\n"
     ]
    },
    {
     "name": "stderr",
     "output_type": "stream",
     "text": [
      "Processing files:  43%|████▎     | 110/257 [1:00:48<1:32:24, 37.72s/it]"
     ]
    },
    {
     "name": "stdout",
     "output_type": "stream",
     "text": [
      "Processing file: Expedia & Zillow_ Rich Barton-transcript.txt\n"
     ]
    },
    {
     "name": "stderr",
     "output_type": "stream",
     "text": [
      "Processing files:  43%|████▎     | 111/257 [1:01:26<1:31:47, 37.73s/it]"
     ]
    },
    {
     "name": "stdout",
     "output_type": "stream",
     "text": [
      "Processing file: SoulCycle_ Julie Rice & Elizabeth Cutler (2019)-transcript.txt\n"
     ]
    },
    {
     "name": "stderr",
     "output_type": "stream",
     "text": [
      "Processing files:  44%|████▎     | 112/257 [1:01:54<1:23:54, 34.72s/it]"
     ]
    },
    {
     "name": "stdout",
     "output_type": "stream",
     "text": [
      "Processing file: Back to the Roots_ Nikhil Arora and Alejandro Velez-transcript.txt\n"
     ]
    },
    {
     "name": "stderr",
     "output_type": "stream",
     "text": [
      "Processing files:  44%|████▍     | 113/257 [1:02:37<1:29:44, 37.39s/it]"
     ]
    },
    {
     "name": "stdout",
     "output_type": "stream",
     "text": [
      "Processing file: Crate & Barrel_ Gordon Segal (2017)-transcript.txt\n"
     ]
    },
    {
     "name": "stderr",
     "output_type": "stream",
     "text": [
      "Processing files:  44%|████▍     | 114/257 [1:02:57<1:16:38, 32.16s/it]"
     ]
    },
    {
     "name": "stdout",
     "output_type": "stream",
     "text": [
      "Processing file: Dang Foods_ Vincent and Andrew Kitirattragarn-transcript.txt\n"
     ]
    },
    {
     "name": "stderr",
     "output_type": "stream",
     "text": [
      "Processing files:  45%|████▍     | 115/257 [1:03:42<1:24:59, 35.91s/it]"
     ]
    },
    {
     "name": "stdout",
     "output_type": "stream",
     "text": [
      "Processing file: MOD Pizza & Seattle Coffee Company_ Scott and Ally Svenson-transcript.txt\n"
     ]
    },
    {
     "name": "stderr",
     "output_type": "stream",
     "text": [
      "Processing files:  45%|████▌     | 116/257 [1:04:11<1:19:13, 33.71s/it]"
     ]
    },
    {
     "name": "stdout",
     "output_type": "stream",
     "text": [
      "Processing file: Mitchell Gold + Bob Williams Home Furnishings_  Mitchell Gold and Bob Williams-transcript.txt\n"
     ]
    },
    {
     "name": "stderr",
     "output_type": "stream",
     "text": [
      "Processing files:  46%|████▌     | 117/257 [1:04:45<1:18:54, 33.82s/it]"
     ]
    },
    {
     "name": "stdout",
     "output_type": "stream",
     "text": [
      "Processing file: Serial Entrepreneur_ Gary Vaynerchuk-transcript.txt\n"
     ]
    },
    {
     "name": "stderr",
     "output_type": "stream",
     "text": [
      "Processing files:  46%|████▌     | 118/257 [1:05:17<1:17:27, 33.43s/it]"
     ]
    },
    {
     "name": "stdout",
     "output_type": "stream",
     "text": [
      "Processing file: TaskRabbit_ Leah Solivan-transcript.txt\n"
     ]
    },
    {
     "name": "stderr",
     "output_type": "stream",
     "text": [
      "Processing files:  46%|████▋     | 119/257 [1:05:58<1:22:18, 35.78s/it]"
     ]
    },
    {
     "name": "stdout",
     "output_type": "stream",
     "text": [
      "Processing file: Rick Steves' Europe_ Rick Steves-transcript.txt\n"
     ]
    },
    {
     "name": "stderr",
     "output_type": "stream",
     "text": [
      "Processing files:  47%|████▋     | 120/257 [1:06:17<1:09:45, 30.55s/it]"
     ]
    },
    {
     "name": "stdout",
     "output_type": "stream",
     "text": [
      "Processing file: Men's Wearhouse_ George Zimmer (2019)-transcript.txt\n"
     ]
    },
    {
     "name": "stderr",
     "output_type": "stream",
     "text": [
      "Processing files:  47%|████▋     | 121/257 [1:06:56<1:14:48, 33.00s/it]"
     ]
    },
    {
     "name": "stdout",
     "output_type": "stream",
     "text": [
      "Processing file: Stacy's Pita Chips_ Stacy Madison (2019)-transcript.txt\n"
     ]
    },
    {
     "name": "stderr",
     "output_type": "stream",
     "text": [
      "Processing files:  47%|████▋     | 122/257 [1:07:18<1:07:27, 29.98s/it]"
     ]
    },
    {
     "name": "stdout",
     "output_type": "stream",
     "text": [
      "Processing file: Casper_ Philip Krim-transcript.txt\n"
     ]
    },
    {
     "name": "stderr",
     "output_type": "stream",
     "text": [
      "Processing files:  48%|████▊     | 123/257 [1:07:52<1:09:07, 30.95s/it]"
     ]
    },
    {
     "name": "stdout",
     "output_type": "stream",
     "text": [
      "Processing file: Xero Shoes_ Steven Sashen and Lena Phoenix-transcript.txt\n"
     ]
    },
    {
     "name": "stderr",
     "output_type": "stream",
     "text": [
      "Processing files:  48%|████▊     | 124/257 [1:08:47<1:24:59, 38.35s/it]"
     ]
    },
    {
     "name": "stdout",
     "output_type": "stream",
     "text": [
      "Processing file: Dell Computers_ Michael Dell (2018)-transcript.txt\n"
     ]
    },
    {
     "name": "stderr",
     "output_type": "stream",
     "text": [
      "Processing files:  49%|████▊     | 125/257 [1:09:15<1:17:25, 35.19s/it]"
     ]
    },
    {
     "name": "stdout",
     "output_type": "stream",
     "text": [
      "Processing file: Roku_ Anthony Wood-transcript.txt\n"
     ]
    },
    {
     "name": "stderr",
     "output_type": "stream",
     "text": [
      "Processing files:  49%|████▉     | 126/257 [1:10:18<1:35:16, 43.64s/it]"
     ]
    },
    {
     "name": "stdout",
     "output_type": "stream",
     "text": [
      "Processing file: method_ Adam Lowry & Eric Ryan (2018)-transcript.txt\n"
     ]
    },
    {
     "name": "stderr",
     "output_type": "stream",
     "text": [
      "Processing files:  49%|████▉     | 127/257 [1:11:24<1:48:48, 50.22s/it]"
     ]
    },
    {
     "name": "stdout",
     "output_type": "stream",
     "text": [
      "Processing file: Mary's Gone Crackers_ Mary Waldner-transcript.txt\n"
     ]
    },
    {
     "name": "stderr",
     "output_type": "stream",
     "text": [
      "Processing files:  50%|████▉     | 128/257 [1:12:57<2:15:25, 62.99s/it]"
     ]
    },
    {
     "name": "stdout",
     "output_type": "stream",
     "text": [
      "Processing file: Luke's Lobster_ Luke Holden and Ben Conniff-transcript.txt\n"
     ]
    },
    {
     "name": "stderr",
     "output_type": "stream",
     "text": [
      "Processing files:  50%|█████     | 129/257 [1:13:45<2:04:37, 58.42s/it]"
     ]
    },
    {
     "name": "stdout",
     "output_type": "stream",
     "text": [
      "Processing file: ActOne Group_ Janice Bryant Howroyd (2018)-transcript.txt\n"
     ]
    },
    {
     "name": "stderr",
     "output_type": "stream",
     "text": [
      "Processing files:  51%|█████     | 130/257 [1:13:58<1:35:16, 45.01s/it]"
     ]
    },
    {
     "name": "stdout",
     "output_type": "stream",
     "text": [
      "Processing file: Bobbi Brown Cosmetics_ Bobbi Brown (2018)-transcript.txt\n"
     ]
    },
    {
     "name": "stderr",
     "output_type": "stream",
     "text": [
      "Processing files:  51%|█████     | 131/257 [1:14:20<1:19:56, 38.07s/it]"
     ]
    },
    {
     "name": "stdout",
     "output_type": "stream",
     "text": [
      "Processing file: Grindr_ Joel Simkhai-transcript.txt\n"
     ]
    },
    {
     "name": "stderr",
     "output_type": "stream",
     "text": [
      "Processing files:  51%|█████▏    | 132/257 [1:15:09<1:25:46, 41.17s/it]"
     ]
    },
    {
     "name": "stdout",
     "output_type": "stream",
     "text": [
      "Processing file: Simple Mills_ Katlin Smith-transcript.txt\n"
     ]
    },
    {
     "name": "stderr",
     "output_type": "stream",
     "text": [
      "Processing files:  52%|█████▏    | 133/257 [1:15:52<1:26:16, 41.75s/it]"
     ]
    },
    {
     "name": "stdout",
     "output_type": "stream",
     "text": [
      "Processing file: Springfree Trampoline_ Keith Alexander & Steve Holmes (2019)-transcript.txt\n"
     ]
    },
    {
     "name": "stderr",
     "output_type": "stream",
     "text": [
      "Processing files:  52%|█████▏    | 134/257 [1:16:31<1:24:20, 41.14s/it]"
     ]
    },
    {
     "name": "stdout",
     "output_type": "stream",
     "text": [
      "Processing file: Tripadvisor_ Steve Kaufer-transcript.txt\n"
     ]
    },
    {
     "name": "stderr",
     "output_type": "stream",
     "text": [
      "Processing files:  53%|█████▎    | 135/257 [1:17:15<1:25:17, 41.95s/it]"
     ]
    },
    {
     "name": "stdout",
     "output_type": "stream",
     "text": [
      "Processing file: Tory Burch_ Tory Burch-transcript.txt\n"
     ]
    },
    {
     "name": "stderr",
     "output_type": "stream",
     "text": [
      "Processing files:  53%|█████▎    | 136/257 [1:17:57<1:24:33, 41.93s/it]"
     ]
    },
    {
     "name": "stdout",
     "output_type": "stream",
     "text": [
      "Processing file: Politico & Axios_ Jim VandeHei-transcript.txt\n"
     ]
    },
    {
     "name": "stderr",
     "output_type": "stream",
     "text": [
      "Processing files:  53%|█████▎    | 137/257 [1:18:32<1:19:52, 39.94s/it]"
     ]
    },
    {
     "name": "stdout",
     "output_type": "stream",
     "text": [
      "Processing file: Ben & Jerry's_ Ben Cohen And Jerry Greenfield (2017)-transcript.txt\n"
     ]
    },
    {
     "name": "stderr",
     "output_type": "stream",
     "text": [
      "Processing files:  54%|█████▎    | 138/257 [1:19:08<1:16:38, 38.64s/it]"
     ]
    },
    {
     "name": "stdout",
     "output_type": "stream",
     "text": [
      "Processing file: Planet_ Will Marshall and Robbie Schingler-transcript.txt\n"
     ]
    },
    {
     "name": "stderr",
     "output_type": "stream",
     "text": [
      "Processing files:  54%|█████▍    | 139/257 [1:19:36<1:09:44, 35.47s/it]"
     ]
    },
    {
     "name": "stdout",
     "output_type": "stream",
     "text": [
      "Processing file: Powering cars with solar energy with Steve Fambro of Aptera Motors-transcript.txt\n"
     ]
    },
    {
     "name": "stderr",
     "output_type": "stream",
     "text": [
      "Processing files:  54%|█████▍    | 140/257 [1:19:53<58:07, 29.81s/it]  "
     ]
    },
    {
     "name": "stdout",
     "output_type": "stream",
     "text": [
      "Processing file: Bluemercury_ Marla and Barry Beck-transcript.txt\n"
     ]
    },
    {
     "name": "stderr",
     "output_type": "stream",
     "text": [
      "Processing files:  55%|█████▍    | 141/257 [1:20:40<1:07:36, 34.97s/it]"
     ]
    },
    {
     "name": "stdout",
     "output_type": "stream",
     "text": [
      "Processing file: Famous Dave's_ Dave Anderson-transcript.txt\n"
     ]
    },
    {
     "name": "stderr",
     "output_type": "stream",
     "text": [
      "Processing files:  55%|█████▌    | 142/257 [1:21:10<1:04:04, 33.43s/it]"
     ]
    },
    {
     "name": "stdout",
     "output_type": "stream",
     "text": [
      "Processing file: KiwiCo_ Sandra Oh Lin-transcript.txt\n"
     ]
    },
    {
     "name": "stderr",
     "output_type": "stream",
     "text": [
      "Processing files:  56%|█████▌    | 143/257 [1:21:32<57:33, 30.30s/it]  "
     ]
    },
    {
     "name": "stdout",
     "output_type": "stream",
     "text": [
      "Processing file: Coinbase_ Brian Armstrong-transcript.txt\n"
     ]
    },
    {
     "name": "stderr",
     "output_type": "stream",
     "text": [
      "Processing files:  56%|█████▌    | 144/257 [1:22:04<57:51, 30.72s/it]"
     ]
    },
    {
     "name": "stdout",
     "output_type": "stream",
     "text": [
      "Processing file: Tarte Cosmetics_ Maureen Kelly-transcript.txt\n"
     ]
    },
    {
     "name": "stderr",
     "output_type": "stream",
     "text": [
      "Processing files:  56%|█████▋    | 145/257 [1:23:16<1:20:24, 43.07s/it]"
     ]
    },
    {
     "name": "stdout",
     "output_type": "stream",
     "text": [
      "Processing file: ButcherBox_ Mike Salguero-transcript.txt\n"
     ]
    },
    {
     "name": "stderr",
     "output_type": "stream",
     "text": [
      "Processing files:  57%|█████▋    | 146/257 [1:24:14<1:27:56, 47.53s/it]"
     ]
    },
    {
     "name": "stdout",
     "output_type": "stream",
     "text": [
      "Processing file: Etsy_ Rob Kalin-transcript.txt\n"
     ]
    },
    {
     "name": "stderr",
     "output_type": "stream",
     "text": [
      "Processing files:  57%|█████▋    | 147/257 [1:24:47<1:18:52, 43.02s/it]"
     ]
    },
    {
     "name": "stdout",
     "output_type": "stream",
     "text": [
      "Processing file: The Knot_ Carley Roney & David Liu (2018)-transcript.txt\n"
     ]
    },
    {
     "name": "stderr",
     "output_type": "stream",
     "text": [
      "Processing files:  58%|█████▊    | 148/257 [1:25:32<1:19:45, 43.90s/it]"
     ]
    },
    {
     "name": "stdout",
     "output_type": "stream",
     "text": [
      "Processing file: Alienware_ Frank Azor and Nelson Gonzalez-transcript.txt\n"
     ]
    },
    {
     "name": "stderr",
     "output_type": "stream",
     "text": [
      "Processing files:  58%|█████▊    | 149/257 [1:26:35<1:29:13, 49.57s/it]"
     ]
    },
    {
     "name": "stdout",
     "output_type": "stream",
     "text": [
      "Processing file: Framing the future of eyecare with Neil Blumenthal and Dave Gilboa of Warby Parker-transcript.txt\n"
     ]
    },
    {
     "name": "stderr",
     "output_type": "stream",
     "text": [
      "Processing files:  58%|█████▊    | 150/257 [1:26:50<1:09:54, 39.20s/it]"
     ]
    },
    {
     "name": "stdout",
     "output_type": "stream",
     "text": [
      "Processing file: Yasso_ Amanda Klane and Drew Harrington-transcript.txt\n"
     ]
    },
    {
     "name": "stderr",
     "output_type": "stream",
     "text": [
      "Processing files:  59%|█████▉    | 151/257 [1:27:31<1:10:08, 39.70s/it]"
     ]
    },
    {
     "name": "stdout",
     "output_type": "stream",
     "text": [
      "Processing file: Eleven Madison Park_ Daniel Humm-transcript.txt\n"
     ]
    },
    {
     "name": "stderr",
     "output_type": "stream",
     "text": [
      "Processing files:  59%|█████▉    | 152/257 [1:28:02<1:04:55, 37.10s/it]"
     ]
    },
    {
     "name": "stdout",
     "output_type": "stream",
     "text": [
      "Processing file: Everlane_ Michael Preysman-transcript.txt\n"
     ]
    },
    {
     "name": "stderr",
     "output_type": "stream",
     "text": [
      "Processing files:  60%|█████▉    | 153/257 [1:28:49<1:09:12, 39.93s/it]"
     ]
    },
    {
     "name": "stdout",
     "output_type": "stream",
     "text": [
      "Processing file: OtterBox_ Curt Richardson-transcript.txt\n"
     ]
    },
    {
     "name": "stderr",
     "output_type": "stream",
     "text": [
      "Processing files:  60%|█████▉    | 154/257 [1:29:44<1:16:39, 44.66s/it]"
     ]
    },
    {
     "name": "stdout",
     "output_type": "stream",
     "text": [
      "Processing file: KAYAK_ Paul English-transcript.txt\n"
     ]
    },
    {
     "name": "stderr",
     "output_type": "stream",
     "text": [
      "Processing files:  60%|██████    | 155/257 [1:30:22<1:12:26, 42.61s/it]"
     ]
    },
    {
     "name": "stdout",
     "output_type": "stream",
     "text": [
      "Processing file: McBride Sisters Wine (Part 1 of 2)_ Robin McBride and Andréa McBride John-transcript.txt\n"
     ]
    },
    {
     "name": "stderr",
     "output_type": "stream",
     "text": [
      "Processing files:  61%|██████    | 156/257 [1:30:55<1:06:57, 39.77s/it]"
     ]
    },
    {
     "name": "stdout",
     "output_type": "stream",
     "text": [
      "Processing file: Spikeball_ Chris Ruder-transcript.txt\n"
     ]
    },
    {
     "name": "stderr",
     "output_type": "stream",
     "text": [
      "Processing files:  61%|██████    | 157/257 [1:31:33<1:04:59, 39.00s/it]"
     ]
    },
    {
     "name": "stdout",
     "output_type": "stream",
     "text": [
      "Processing file: Raising Cane's_ Todd Graves-transcript.txt\n"
     ]
    },
    {
     "name": "stderr",
     "output_type": "stream",
     "text": [
      "Processing files:  61%|██████▏   | 158/257 [1:32:21<1:09:10, 41.93s/it]"
     ]
    },
    {
     "name": "stdout",
     "output_type": "stream",
     "text": [
      "Processing file: Leatherman Tool Group_ Tim Leatherman-transcript.txt\n"
     ]
    },
    {
     "name": "stderr",
     "output_type": "stream",
     "text": [
      "Processing files:  62%|██████▏   | 159/257 [1:33:03<1:08:35, 41.99s/it]"
     ]
    },
    {
     "name": "stdout",
     "output_type": "stream",
     "text": [
      "Processing file: Sierra Nevada Brewing Company_ Ken Grossman-transcript.txt\n"
     ]
    },
    {
     "name": "stderr",
     "output_type": "stream",
     "text": [
      "Processing files:  62%|██████▏   | 160/257 [1:33:35<1:02:48, 38.85s/it]"
     ]
    },
    {
     "name": "stdout",
     "output_type": "stream",
     "text": [
      "Processing file: Tapping the heat beneath your feet with Kathy Hannun of Dandelion Energy-transcript.txt\n"
     ]
    },
    {
     "name": "stderr",
     "output_type": "stream",
     "text": [
      "Processing files:  63%|██████▎   | 161/257 [1:33:49<50:16, 31.42s/it]  "
     ]
    },
    {
     "name": "stdout",
     "output_type": "stream",
     "text": [
      "Processing file: DoorDash_ Tony Xu-transcript.txt\n"
     ]
    },
    {
     "name": "stderr",
     "output_type": "stream",
     "text": [
      "Processing files:  63%|██████▎   | 162/257 [1:34:39<58:33, 36.98s/it]"
     ]
    },
    {
     "name": "stdout",
     "output_type": "stream",
     "text": [
      "Processing file: Twitch_ Emmett Shear-transcript.txt\n"
     ]
    },
    {
     "name": "stderr",
     "output_type": "stream",
     "text": [
      "Processing files:  63%|██████▎   | 163/257 [1:35:32<1:05:30, 41.82s/it]"
     ]
    },
    {
     "name": "stdout",
     "output_type": "stream",
     "text": [
      "Processing file: When your dinner is printed with Eshchar Ben-Shitrit of Redefine Meat-transcript.txt\n"
     ]
    },
    {
     "name": "stderr",
     "output_type": "stream",
     "text": [
      "Processing files:  64%|██████▍   | 164/257 [1:35:46<51:44, 33.39s/it]  "
     ]
    },
    {
     "name": "stdout",
     "output_type": "stream",
     "text": [
      "Processing file: Health-Ade Kombucha_ Daina Trout-transcript.txt\n"
     ]
    },
    {
     "name": "stderr",
     "output_type": "stream",
     "text": [
      "Processing files:  64%|██████▍   | 165/257 [1:36:16<49:39, 32.39s/it]"
     ]
    },
    {
     "name": "stdout",
     "output_type": "stream",
     "text": [
      "Processing file: Logic_ Logic & Chris Zarou (2018)-transcript.txt\n"
     ]
    },
    {
     "name": "stderr",
     "output_type": "stream",
     "text": [
      "Processing files:  65%|██████▍   | 166/257 [1:36:42<46:15, 30.50s/it]"
     ]
    },
    {
     "name": "stdout",
     "output_type": "stream",
     "text": [
      "Processing file: Robinhood_ Vlad Tenev-transcript.txt\n"
     ]
    },
    {
     "name": "stderr",
     "output_type": "stream",
     "text": [
      "Processing files:  65%|██████▍   | 167/257 [1:37:27<52:31, 35.01s/it]\n"
     ]
    }
   ],
   "source": [
    "import os\n",
    "from tqdm import tqdm\n",
    "\n",
    "successful_files = []\n",
    "unsuccessful_files = []\n",
    "path = '../podscribe_transcription/hibt_main/'\n",
    "\n",
    "# Get the total number of files\n",
    "total_files = sum(1 for file in os.listdir(path) if file.endswith(\".txt\"))\n",
    "\n",
    "with tqdm(total=total_files, desc=\"Processing files\") as pbar:\n",
    "    for file in os.listdir(path):\n",
    "        if file.endswith(\".txt\") and file not in org_filenames:\n",
    "            try:\n",
    "                print(f\"Processing file: {file}\")\n",
    "                transcript_pipeline(path, file, MONGODB_COLLECTION)\n",
    "                successful_files.append(file)\n",
    "            except:\n",
    "                unsuccessful_files.append(file)\n",
    "            pbar.update(1)\n"
   ]
  },
  {
   "cell_type": "code",
   "execution_count": 12,
   "metadata": {},
   "outputs": [],
   "source": [
    "# from tqdm import tqdm\n",
    "# import concurrent.futures\n",
    "# path = 'podscribe_transcription/hibt_main/'\n",
    "# num_threads = 8  \n",
    "\n",
    "# successful_files = []\n",
    "# unsuccessful_files = []\n",
    "\n",
    "# # Get the total number of files\n",
    "# total_files = sum(1 for file in os.listdir(path) if file.endswith(\".txt\"))\n",
    "\n",
    "# with tqdm(total=total_files, desc=\"Processing files\") as pbar:\n",
    "#     with concurrent.futures.ThreadPoolExecutor(max_workers=num_threads) as executor:\n",
    "#         for file in os.listdir(path):\n",
    "#             if file.endswith(\".txt\"):\n",
    "#                 print(path, file)\n",
    "#                 try:\n",
    "#                     executor.submit(transcript_pipeline, path, file)\n",
    "#                     successful_files.append(file)\n",
    "#                 except:\n",
    "#                     unsuccessful_files.append(file)\n",
    "#                 pbar.update(1)\n"
   ]
  },
  {
   "cell_type": "markdown",
   "metadata": {},
   "source": [
    "### Search for the Answers for each company"
   ]
  },
  {
   "cell_type": "code",
   "execution_count": 27,
   "metadata": {},
   "outputs": [],
   "source": [
    "client = pymongo.MongoClient(os.getenv('mdb_uri'))\n",
    "DB_NAME = \"hibt_prod_db\"\n",
    "COLLECTION_NAME = \"hibt_prod_collection\"\n",
    "ATLAS_VECTOR_SEARCH_INDEX_NAME = \"vector_index\"\n",
    "MONGODB_COLLECTION = client[DB_NAME][COLLECTION_NAME]\n",
    "MONGODB_ANSWER_COLLECTION = client[DB_NAME][\"hibt_answer_collection\"]"
   ]
  },
  {
   "cell_type": "code",
   "execution_count": 103,
   "metadata": {},
   "outputs": [],
   "source": [
    "###\n",
    "hard_luck_prompt = \"\"\"\n",
    "    \n",
    "    You are a transcription analyst assistant. You are given portions of a transcription in order to extract the guests answer.\n",
    "    We are working with transcriptions from the podcast \"How I Built This\" where the host Guy Raz interviews entrepreneurs. \n",
    "    Typically towards the end of the interview he will ask a question regarding to what extent the entrepreneur attributes their success to skill, hard work, and/or intelligence versus luck.\n",
    "    Your task is to extract the answer from the transcriptions. Remember that these are transcriptions so words can be mispelled like \"lock\" instead of \"luck\" or \"intelligents\" instead of \"intelligence\".\n",
    "\n",
    "    The answer is typically a few sentences long and can be found in the same paragraph or in the following paragraphs depending on their thoughts.\n",
    "    Here are some examples in <Examples></Examples> XML tags to help you understand the task better.\n",
    "    <Examples>\n",
    "    \n",
    "    Example Question: When you think about the success of what you created, how much do you think it has to do with, with how hard you worked and your intelligence and how much do you think it had to do with luck?\n",
    "    Example Answer: It's probably 50 50. Look, I, I actually, so I think every CEO who I've met, they have some minimum level of intelligence, right. But they're oftentimes not the smartest person in the room. And I, I would put myself in that category too. Like, I'm, you know, I met some minimum bar, but I'm not the smartest person. What I am is probably quite determined. There is a part of my personality. This might be a little bit like that being on the spectrum thing or whatever, but it's just like, whether it's like a really good day or a really bad day, I'm sort of even keeled. And I'm often just like, okay, well what's the next step? How do we fix it? And let's keep making progress even over like a decade or more. I can be quite resilient in that regard. But I guess the other thing I would say just about luck, absolutely luck played a big role in Coinbase. I mean, there were certain moments early on in our history where if a coin had flipped the other way we might not be here. I think we got very lucky with sort of the timing of when the company decided to launch and when crypto decided to grow, I think that I kind of just kept trying things until eventually one of them hit. Right. Which is, it's a way of unifying those two ideas. It's, it's definitely a lot of luck when it works. But if you just keep trying, you can kind of make your own luck.\n",
    "\n",
    "    Example Question: Do you, I mean, obviously worked extremely hard making this happen, but I think you did have some incredibly fortunate breaks that you'd like, you couldn't control like male camp. Do you, are, are you a believer in luck or do you think that what happened really has to do with just how strategic and smart you guys were?\n",
    "    Example Answer: I totally believe in luck. I mean, but I think it comes from constantly striving and looking for that silver bullet. And when I look back on my 20 years, it felt like I was always looking for the answer, always looking for what is the playbook that I'm missing? You know, it's constantly searching. And then all along the way, stumbling upon something that actually does better than my wildest dreams. I don't know. It, it, I, I, I always had in my mind that I was just a bumbling idiot from of a Georgia who stumbled into business. And somewhere out there, someone knew the right answer of how to run my business. Right. And these days, these days, you know, MailChimp is much bigger. And I get invited to ritzy events with some really great business leaders. And I remember being in one recently where a head of one of Microsoft's cloud units, he was, he was speaking about his, how he hosts executive leadership meetings. And he says, we're still winging it. We have no idea. You know, he didn't say it that way, but he's like, we're still experimenting. You know? And this is Microsoft. And they've been around a very, very long time and they know what they're doing. So, you know, it was that moment. I realized, oh my God, nobody has the answer. We're all just winging it. Every one of us is just winging it. I don't know if that's hopeful or horrifying, but that's what I've learned.\n",
    "    \n",
    "    Example Question ...do you think it has more to do with just your intelligence and your skill or do you think that luck was a bigger factor in everything that's happened to you\n",
    "    Example Answer: so the thing I always say about lock I think it is it's the lottery and so you get sort of lottery tickets for how you know it's like how good your idea is how good your team is and how hard you work and so you take those like factors and I think how hard you work in your team or probably even bigger factors than the the idea but you still need to have something that actually would work and so you take those three things together and you get for each sort of our of production or work you get a lottery ticket and so just like the lottery if you unless you own every ticket you're not guaranteed to win because I've seen people that have are smarter than me better than me better idea than me fail because of things like luck like things not going their way and I've seen again the opposite of that and so we have been fortunate to have been have lots of Lucky breaks in our Direction but we also continue to work to get more tickets so that we could win the lottery\n",
    "    </Examples>\n",
    "\n",
    "    Transcript to extract answers from:\n",
    "    <transcript>\n",
    "    {transcript}\n",
    "    </transcript>\n",
    "\n",
    "    If you don't see a relevant question and answer in the transcript, respond with \"Question/Answer not found.\" \n",
    "    Only respond with their word-for-word answer. Do not include the question in your response.\n",
    "    \"\"\""
   ]
  },
  {
   "cell_type": "code",
   "execution_count": 104,
   "metadata": {},
   "outputs": [
    {
     "data": {
      "text/plain": [
       "True"
      ]
     },
     "execution_count": 104,
     "metadata": {},
     "output_type": "execute_result"
    }
   ],
   "source": [
    "from langchain_openai import ChatOpenAI\n",
    "load_dotenv()"
   ]
  },
  {
   "cell_type": "code",
   "execution_count": 120,
   "metadata": {},
   "outputs": [],
   "source": [
    "import google.generativeai as genai\n",
    "from google.generativeai.types import HarmCategory, HarmBlockThreshold\n",
    "GOOGLE_API_KEY=os.getenv('GOOGLE_AISTUDIO_API_KEY')"
   ]
  },
  {
   "cell_type": "code",
   "execution_count": 125,
   "metadata": {},
   "outputs": [],
   "source": [
    "def extract_answer(transcript: str) -> str:\n",
    "\n",
    "    prompt_template = PromptTemplate(\n",
    "            template=hard_luck_prompt,\n",
    "            input_variables=[\"transcript\"],\n",
    "        )\n",
    "    formatted_input = prompt_template.format_prompt(transcript=transcript)\n",
    "    \n",
    "    # llm = ChatOpenAI(model=\"gpt-3.5-turbo-0125\")\n",
    "    # llm = ChatOpenAI(model=\"gpt-4-0125-preview\")\n",
    "    llm = ChatAnthropic(model=\"claude-instant-1.2\")\n",
    "    # llm = ChatAnthropic(model=\"claude-2.1\")\n",
    "\n",
    "    # print( formatted_input.to_string())\n",
    "    print(formatted_input.to_string())\n",
    "    # answer = llm.invoke(formatted_input.to_string())\n",
    "\n",
    "    answer = llm.generate_content(formatted_input.to_string()).text\n",
    "    \n",
    "    return answer"
   ]
  },
  {
   "cell_type": "code",
   "execution_count": null,
   "metadata": {},
   "outputs": [],
   "source": []
  },
  {
   "cell_type": "code",
   "execution_count": 126,
   "metadata": {},
   "outputs": [],
   "source": [
    "# client = pymongo.MongoClient(os.getenv('mongodb_uri'))\n",
    "# DB_NAME = \"hibt_transcripts\"\n",
    "# COLLECTION_NAME = \"hibt_test_openai_collection\"\n",
    "# ATLAS_VECTOR_SEARCH_INDEX_NAME = \"openai_vector_index\"\n",
    "# MONGODB_COLLECTION = client[DB_NAME][COLLECTION_NAME]\n",
    "\n",
    "# MONGODB_ANSWER_COLLECTION = client[DB_NAME][\"hibt_test_openai_answer_collection\"]"
   ]
  },
  {
   "cell_type": "code",
   "execution_count": 127,
   "metadata": {},
   "outputs": [],
   "source": [
    "# # get the max trans_chunk_num where company = company in the collection\n",
    "# company = \"ActOne Group\"\n",
    "\n",
    "# max_trans_chunk_num = MONGODB_COLLECTION.find_one({\"company\": company}, sort=[(\"trans_chunk_num\", -1)])[\"trans_chunk_num\"]\n",
    "\n",
    "# # in the MONGODB_COLLECTION, get the last 3 documents where company = company sorted by trans_chunk_num in descending order\n",
    "# transcripts = MONGODB_COLLECTION.find({\"company\": company}).sort(\"trans_chunk_num\", -1).limit(3)\n",
    "\n",
    "# for doc in transcripts:\n",
    "#     print(doc['transcript'])"
   ]
  },
  {
   "cell_type": "code",
   "execution_count": 128,
   "metadata": {},
   "outputs": [
    {
     "name": "stdout",
     "output_type": "stream",
     "text": [
      "AMP Robotics\n",
      "\n",
      "    You are a transcription analyst assistant. You are given portions of a transcription in order to extract the guests answer.\n",
      "    We are working with transcriptions from the podcast \"How I Built This\" where the host Guy Raz interviews entrepreneurs. \n",
      "    Typically towards the end of the interview he will ask a question regarding to what extent the entrepreneur attributes their success to skill, hard work, and/or intelligence versus luck.\n",
      "    Your task is to extract the answer from the transcriptions. Remember that these are transcriptions so words can be mispelled like \"lock\" instead of \"luck\" or \"intelligents\" instead of \"intelligence\".\n",
      "\n",
      "    The answer is typically a few sentences long and can be found in the same paragraph or in the following paragraphs depending on their thoughts.\n",
      "\n",
      "    <Examples>\n",
      "    \n",
      "    Example Question: When you think about the success of what you created, how much do you think it has to do with, with how hard you worked and your intelligence and how much do you think it had to do with luck?\n",
      "    Example Answer: It's probably 50 50. Look, I, I actually, so I think every CEO who I've met, they have some minimum level of intelligence, right. But they're oftentimes not the smartest person in the room. And I, I would put myself in that category too. Like, I'm, you know, I met some minimum bar, but I'm not the smartest person. What I am is probably quite determined. There is a part of my personality. This might be a little bit like that being on the spectrum thing or whatever, but it's just like, whether it's like a really good day or a really bad day, I'm sort of even keeled. And I'm often just like, okay, well what's the next step? How do we fix it? And let's keep making progress even over like a decade or more. I can be quite resilient in that regard. But I guess the other thing I would say just about luck, absolutely luck played a big role in Coinbase. I mean, there were certain moments early on in our history where if a coin had flipped the other way we might not be here. I think we got very lucky with sort of the timing of when the company decided to launch and when crypto decided to grow, I think that I kind of just kept trying things until eventually one of them hit. Right. Which is, it's a way of unifying those two ideas. It's, it's definitely a lot of luck when it works. But if you just keep trying, you can kind of make your own luck.\n",
      "\n",
      "    Example Question: Do you, I mean, obviously worked extremely hard making this happen, but I think you did have some incredibly fortunate breaks that you'd like, you couldn't control like male camp. Do you, are, are you a believer in luck or do you think that what happened really has to do with just how strategic and smart you guys were?\n",
      "    Example Answer: I totally believe in luck. I mean, but I think it comes from constantly striving and looking for that silver bullet. And when I look back on my 20 years, it felt like I was always looking for the answer, always looking for what is the playbook that I'm missing? You know, it's constantly searching. And then all along the way, stumbling upon something that actually does better than my wildest dreams. I don't know. It, it, I, I, I always had in my mind that I was just a bumbling idiot from of a Georgia who stumbled into business. And somewhere out there, someone knew the right answer of how to run my business. Right. And these days, these days, you know, MailChimp is much bigger. And I get invited to ritzy events with some really great business leaders. And I remember being in one recently where a head of one of Microsoft's cloud units, he was, he was speaking about his, how he hosts executive leadership meetings. And he says, we're still winging it. We have no idea. You know, he didn't say it that way, but he's like, we're still experimenting. You know? And this is Microsoft. And they've been around a very, very long time and they know what they're doing. So, you know, it was that moment. I realized, oh my God, nobody has the answer. We're all just winging it. Every one of us is just winging it. I don't know if that's hopeful or horrifying, but that's what I've learned.\n",
      "    \n",
      "    Example Question ...do you think it has more to do with just your intelligence and your skill or do you think that luck was a bigger factor in everything that's happened to you\n",
      "    Example Answer: so the thing I always say about lock I think it is it's the lottery and so you get sort of lottery tickets for how you know it's like how good your idea is how good your team is and how hard you work and so you take those like factors and I think how hard you work in your team or probably even bigger factors than the the idea but you still need to have something that actually would work and so you take those three things together and you get for each sort of our of production or work you get a lottery ticket and so just like the lottery if you unless you own every ticket you're not guaranteed to win because I've seen people that have are smarter than me better than me better idea than me fail because of things like luck like things not going their way and I've seen again the opposite of that and so we have been fortunate to have been have lots of Lucky breaks in our Direction but we also continue to work to get more tickets so that we could win the lottery\n",
      "    </Examples>\n",
      "\n",
      "    Transcript to extract answers from:\n",
      "    <transcript>\n",
      "    \n",
      "0 (26m 54s):\n",
      "Welcome back to How I Built This lab. I'm speaking with Matanya Horowitz founder and c e of AMP Robotics. It's a company that's using artificial intelligence and Robotics to make recycling more efficient and economically viable. So when you were working on this and you got grants and you were starting to get some traction, what did you expect to happen that didn't happen? In other words, did, I mean I, I think, and this is case with most entrepreneurs interview, you think that it's going to be easier to solve faster than it actually is. Was that the case for you?\n",
      "\n",
      "1 (27m 30s):\n",
      "Absolutely. The tough thing ended up not being the technology. Like it did take a while. I thought it would take maybe six months. It ended up taking more like two years to have something that was good. But the hardest problem ends up being matching that technology to the business problem and having something that people really love. So when we got something working, I was like, okay, great. Hard work's done. And then I found out that the real hard work was beginning, which was to go sell a ton of these things and go visit the recycling facilities, understand how to price it, you know, and all of this sort of work. But I think it was surprising to me the extent to which, you know, even if you have great technology, you just really gotta make sure that you position it right to have a catch fire.\n",
      "\n",
      "\n",
      "0 (28m 13s):\n",
      "So tell me a little bit about how this would work with existing recycling facilities. The idea is your equipment and technology would essentially be installed and automate it.\n",
      "\n",
      "1 (28m 25s):\n",
      "Yeah, that's right. So we'll go into an existing facility and we can deploy now several different types of robots and we can get these recycling facilities to be almost fully automated. So just a handful of people pulling out the stuff that's not supposed to be there, like bicycles and garden hoses. And what's really key there is we do it with very little change to their existing operations. Most of that equipment gets installed over weekends when people aren't running anyway. And so you have this very like low friction path to automation. What you see is recycling facilities can use their lower cost structure to go after more material. They'll start running second shifts, they'll start expanding recycling programs. And those are a set of solutions we have for the existing infrastructure.\n",
      "\n",
      "1 (29m 7s):\n",
      "We've now gone on to start building recycling facilities around our technology new greenfield sites built from the ground up around ai. What you find is you can do, you can go a step further, you can have facilities that'll run 24 7 facilities that can have even higher rates of material capture, higher purities be much more flexible and crucially they can be fully automated. And so now you're starting to really kinda like see this cost per ton of sorting starting to drop significantly and really kind of changing what is profitable to recycle versus what's not.\n",
      "\n",
      "0 (1s):\n",
      "Hey Prime members You can listen to how I built this early and ad free on Amazon. Music Download the app today. It's Sky Ross here on the Wisdom from the Top podcast, I talked to leadership experts and some of the world's greatest business leaders about how they lead, innovate, and transform the people around them. If you're trying to make it in business or just wanna think more like a leader, this show's probably for you. Listen now to the Wisdom from the Top podcast. From Luminary and npr. As an entrepreneur. You don't just create things and make content. You embody a lifestyle. Shouldn't your website embody it too? Well A Life URL is a polished and personalized place for your business.\n",
      "\n",
      "0 (43s):\n",
      "A life domain is unique and memorable. Just like what you're building, life gives you a URL with a point of view as strong as your own. And name.com makes it simple to find the right domain and connect it to your favorite products. Own a web address that's as inspiring as your content Get a life. Learn more at name.com/life and use promo code built 25 for 25% off the first year of your life domain. This episode is brought to you in part by Microsoft Clarity to build a successful product. The biggest advice I give to product teams is to know your users by seeing how users truly experience your product.\n",
      "\n",
      "\n",
      "0 (1m 26s):\n",
      "You can identify product opportunities and prioritize changes that matter. Microsoft Clarity makes all of this possible with simple yet powerful features. Watch session replays to discover what works with users and where they struggle. View heat maps to see where there's engagement and what content gets ignored. Pinpoint what's really bothering users with frustration Metrics like rage, clicks, dead clicks and more. You'll be blown away by how simple and easy Clarity is to use. So stop guessing, get Clarity. Oh yeah, did I mention it's completely free and works across apps and websites? Check out Clarity at Clarity dot microsoft.com.\n",
      "\n",
      "\n",
      "0 (14m 17s):\n",
      "So tell me about the idea that you decided to come up with.\n",
      "\n",
      "1 (14m 20s):\n",
      "Yeah, well I was focused on where is a spot where this artificial intelligence technology was the, the core linchpin to building a new product. So I, I started focusing on recycling and I liked it because it seemed like you could use robots that had already been around for decades if you could pair them with this vision system. And I thought that was really good. You should have one hard technical problem that was gonna be the vision system. You didn't wanna have to innovate on the robotic side at least not too much. That was at least the idea. So started kind of zeroing in on this idea of building a robot that could be bolted onto a conveyor belt and just pick stuff like that's really all we're trying to do is pick a bottle and pick a can.\n",
      "\n",
      "1 (15m 1s):\n",
      "I applied for a grant from the National Science Foundation. There's a program called the S B I R, small Business Innovations Research Program that gave me some seed funding to get started and started building a little prototype. There was, you know, a lot of kind of good fortune on the way initially I couldn't afford a conveyor belt and got a grant from Oscar Blues, the brewing company they had Oh yeah. For recycling stuff. And, you know, I was applying for these grants, I was visiting recycling facilities. I didn't know the industry that well and so I was honestly saying a lot of dumb stuff, asking a lot of dumb questions and you know, I'm kind of amazed looking back that people would gimme the time of day. But, but yeah, started kind of building this robot the first data sets for the vision system.\n",
      "\n",
      "1 (15m 44s):\n",
      "So you, you sort of need examples of bottles of cans to train this artificial intelligence stuff. Yeah, I did dumpster diving for 'em, was gonna recycling centers and pulling out bottles and cans and yeah. Just started hacking away at it.\n",
      "\n",
      "\n",
      "0 (15m 57s):\n",
      "I mean this is a hardware and a software challenge, right? Because yes, you've gotta build the hardware to be physically resilient, right? Because there's a lot of just grossness that it's gonna deal with and you know, there's probably gonna be rotten milk or rotten\n",
      "\n",
      "1 (16m 13s):\n",
      "Oh, so much rotten\n",
      "\n",
      "\n",
      "    </transcript>\n",
      "\n",
      "    If you don't see a relevant question and answer in the transcript, respond with \"Question/Answer not found.\" \n",
      "    Only respond with the answer to the question.\n",
      "    \n",
      "AMP Robotics Matanya Horowitz \n",
      " Question/Answer not found. \n",
      "\n",
      "---------------------------------------------------\n",
      "ARRAY\n",
      "\n",
      "    You are a transcription analyst assistant. You are given portions of a transcription in order to extract the guests answer.\n",
      "    We are working with transcriptions from the podcast \"How I Built This\" where the host Guy Raz interviews entrepreneurs. \n",
      "    Typically towards the end of the interview he will ask a question regarding to what extent the entrepreneur attributes their success to skill, hard work, and/or intelligence versus luck.\n",
      "    Your task is to extract the answer from the transcriptions. Remember that these are transcriptions so words can be mispelled like \"lock\" instead of \"luck\" or \"intelligents\" instead of \"intelligence\".\n",
      "\n",
      "    The answer is typically a few sentences long and can be found in the same paragraph or in the following paragraphs depending on their thoughts.\n",
      "\n",
      "    <Examples>\n",
      "    \n",
      "    Example Question: When you think about the success of what you created, how much do you think it has to do with, with how hard you worked and your intelligence and how much do you think it had to do with luck?\n",
      "    Example Answer: It's probably 50 50. Look, I, I actually, so I think every CEO who I've met, they have some minimum level of intelligence, right. But they're oftentimes not the smartest person in the room. And I, I would put myself in that category too. Like, I'm, you know, I met some minimum bar, but I'm not the smartest person. What I am is probably quite determined. There is a part of my personality. This might be a little bit like that being on the spectrum thing or whatever, but it's just like, whether it's like a really good day or a really bad day, I'm sort of even keeled. And I'm often just like, okay, well what's the next step? How do we fix it? And let's keep making progress even over like a decade or more. I can be quite resilient in that regard. But I guess the other thing I would say just about luck, absolutely luck played a big role in Coinbase. I mean, there were certain moments early on in our history where if a coin had flipped the other way we might not be here. I think we got very lucky with sort of the timing of when the company decided to launch and when crypto decided to grow, I think that I kind of just kept trying things until eventually one of them hit. Right. Which is, it's a way of unifying those two ideas. It's, it's definitely a lot of luck when it works. But if you just keep trying, you can kind of make your own luck.\n",
      "\n",
      "    Example Question: Do you, I mean, obviously worked extremely hard making this happen, but I think you did have some incredibly fortunate breaks that you'd like, you couldn't control like male camp. Do you, are, are you a believer in luck or do you think that what happened really has to do with just how strategic and smart you guys were?\n",
      "    Example Answer: I totally believe in luck. I mean, but I think it comes from constantly striving and looking for that silver bullet. And when I look back on my 20 years, it felt like I was always looking for the answer, always looking for what is the playbook that I'm missing? You know, it's constantly searching. And then all along the way, stumbling upon something that actually does better than my wildest dreams. I don't know. It, it, I, I, I always had in my mind that I was just a bumbling idiot from of a Georgia who stumbled into business. And somewhere out there, someone knew the right answer of how to run my business. Right. And these days, these days, you know, MailChimp is much bigger. And I get invited to ritzy events with some really great business leaders. And I remember being in one recently where a head of one of Microsoft's cloud units, he was, he was speaking about his, how he hosts executive leadership meetings. And he says, we're still winging it. We have no idea. You know, he didn't say it that way, but he's like, we're still experimenting. You know? And this is Microsoft. And they've been around a very, very long time and they know what they're doing. So, you know, it was that moment. I realized, oh my God, nobody has the answer. We're all just winging it. Every one of us is just winging it. I don't know if that's hopeful or horrifying, but that's what I've learned.\n",
      "    \n",
      "    Example Question ...do you think it has more to do with just your intelligence and your skill or do you think that luck was a bigger factor in everything that's happened to you\n",
      "    Example Answer: so the thing I always say about lock I think it is it's the lottery and so you get sort of lottery tickets for how you know it's like how good your idea is how good your team is and how hard you work and so you take those like factors and I think how hard you work in your team or probably even bigger factors than the the idea but you still need to have something that actually would work and so you take those three things together and you get for each sort of our of production or work you get a lottery ticket and so just like the lottery if you unless you own every ticket you're not guaranteed to win because I've seen people that have are smarter than me better than me better idea than me fail because of things like luck like things not going their way and I've seen again the opposite of that and so we have been fortunate to have been have lots of Lucky breaks in our Direction but we also continue to work to get more tickets so that we could win the lottery\n",
      "    </Examples>\n",
      "\n",
      "    Transcript to extract answers from:\n",
      "    <transcript>\n",
      "    \n",
      "2 (1h 28m 40s):\n",
      "When you trace your life story, just everything that you've experienced and all of the, just the, I mean, it's a life of somebody who follow their curiosity, really. How much of, of where you are today, do you attribute to just the grind and how hard you worked in and does any part of you attribute any of it to luck as well? Or what do you think?\n",
      "\n",
      "0 (1h 29m 9s):\n",
      "I guess I, I attribute it to luck, but I don't call it luck. You know, I think it's, it's my path and it was, these are blessings. These are, this is designed and it's up to me to work, to live up to these moments that are put in front of me, but certainly in the way that you're defining it, I would say luck. Yeah, work really hard, but you could work really hard and never get the breaks. You know, work really hard and never be seen, be heard. You can work really hard and you know, no one reads your scripts on a plane and calls you the next day and says, look, let me be in it. Who ends up being the same guy who gets you Selma, get that gets nominated for the Oscar that does today.\n",
      "\n",
      "0 (1h 29m 51s):\n",
      "You could be, you could make 13th. And you know, it sits on the back channels of Netflix and doesn't really get seen or move, but it moved. You can, you can make, when they see us, you know, and not change the lives of the five, five-minute, it doesn't completely revolutionized who they are as human beings. They live differently than they did when it first came out because no one saw it and it didn't make a difference, but that did. And so, you know, there's only so far that the work can get you. And that's far like, I believe I would have gotten far from just sheer hard labor, but there has been a furthering beyond that that has been blessings that have come into my life that are beyond my control.\n",
      "\n",
      "0 (1h 30m 43s):\n",
      "And some people call that luck. I'll take it.\n",
      "\n",
      "\n",
      "2 (1h 30m 48s):\n",
      "That's Ava, DuVernay, filmmaker, and founder of array. Ava's recently signed on to do a film adaptation of Isabelle Wilkerson's best-selling book cast. And she's working on a six part drama series for Netflix in collaboration with Colin Kaepernick, Colin in black and white. And one thing about that that really blows her mind is that the budget just for the music on just a single episode of that series will be bigger than the entire budgets for her first two films combined. Hey, thanks so much for listening to the show this week.\n",
      "\n",
      "\n",
      "2 (35m 58s):\n",
      "I remember when I was 21 and I, I was an intern at NPR. I'd never been done any radio in my life. I didn't know anything about it. I just like listening. And, and the way I learned how to do it was like by cutting reel to reel with a razor blade, you know, and, and doing it really badly. And, and over time I learned how to do that. Right. The technical side. How did you start to learn the technical side of making movies? Well, that's,\n",
      "\n",
      "0 (36m 28s):\n",
      "That's a good question. You know, for me, early on, I had to embrace what I did know how to do and not be intimidated by what I didn't know how to do. And I had been around enough filmmakers as a publicist to see that not all filmmakers were technically proficient, that the core of what made a great filmmaker was, did you know the story not, did you know, the lens? Did you know, you know, the technical aspects, but there are a lot of filmmakers out there who are story and performance focused and less technically focused.\n",
      "\n",
      "0 (37m 17s):\n",
      "I thought the most important thing is the story. And all these people around me are supposed to know that stuff. So if I can write the story, then I will be the leader of the story because it came out of my mind and no one will know more about it than I will. And from there, I made sure that I surrounded myself with people who did know their hubs. And one of the things that I learned from running my own business was to never be shy about saying, I don't know. And that, that, especially for women and for women of color black women, you know, to feel like you won't be taken seriously, if you don't know everything, you know, to feel like you cannot ask a question, were all things that I had to combat.\n",
      "\n",
      "0 (38m 3s):\n",
      "But the reason why I felt entitled to do it is because I saw why white men doing, let's say white guys all the time. Don't know what the hell they're doing, but you know what? They do have confidence. They're going to get out there and say, I want to figure it out. And I'm sure I'm sure I'll be okay. Sure. I can figure this out. And so, especially when you're an independent filmmaker, you really putting together small crew crews of people who will work for whatever money you can give them. And so there's a lot more grace there because everyone's kind of learning together. So that's what I did in the early years,\n",
      "\n",
      "\n",
      "2 (38m 40s):\n",
      "Made your first film. I think it was for short film, Saturday night life in 2005. And it's 12 minutes. I haven't seen it. I I've been looking for it. It's hard to find.\n",
      "\n",
      "0 (38m 57s):\n",
      "I have my ways to make things disappear.\n",
      "\n",
      "\n",
      "2 (33m 54s):\n",
      "Hey, welcome back to how I built this from NPR I'm guy, Raj. So by 2005, April two of her day is running her own successful business. As a publicist in Hollywood. She's also watching a lot of other people make movies, and she started to think, you know, I want to do this as well.\n",
      "\n",
      "0 (34m 13s):\n",
      "It was my proximity to it that made it feel maybe this is possible to tinker with because I'd been on sets. And so I knew that real people made movies that they did not, you know, appear right. Also, I think the big piece of the puzzle is, and this is a big piece of it. I don't think I've ever articulated, but I've, I've thought about for myself. I had no dreams\n",
      "\n",
      "1 (34m 43s):\n",
      "Of the outcome\n",
      "\n",
      "0 (34m 46s):\n",
      "Other than making a movie like that was it. Wasn't let me make a movie to get famous, to get an academy award, to be rich, to be famous, right. That was not in my head. And the reason why it wasn't in my head is because there was nobody doing that, right? Like there was, I won't say nobody, but there was nobody that looked like me. Like there were very few black women making films at the time. There were a couple I knew by name and I'd seen that they'd made a film, but no one had gone on to great fame and acclaim and all of the things. So I think one of the core pieces of the journey was it started from such a pure place of just wanting to make a movie and to tell a story.\n",
      "\n",
      "0 (35m 32s):\n",
      "It was all about that. And it wasn't about the outcome or the things that would come after. I think now these days, it takes a lot more because you can see why we're out there. There's, there's a good number, nice number of us. You see, I want to be like Shonda or ISA and what did they do and how can I get to that level and do those things? I didn't have that. So I'd have to think about it.\n",
      "\n",
      "\n",
      "2 (35m 58s):\n",
      "I remember when I was 21 and I, I was an intern at NPR. I'd never been done any radio in my life. I didn't know anything about it. I just like listening. And, and the way I learned how to do it was like by cutting reel to reel with a razor blade, you know, and, and doing it really badly. And, and over time I learned how to do that. Right. The technical side. How did you start to learn the technical side of making movies? Well, that's,\n",
      "\n",
      "0 (36m 28s):\n",
      "That's a good question. You know, for me, early on, I had to embrace what I did know how to do and not be intimidated by what I didn't know how to do. And I had been around enough filmmakers as a publicist to see that not all filmmakers were technically proficient, that the core of what made a great filmmaker was, did you know the story not, did you know, the lens? Did you know, you know, the technical aspects, but there are a lot of filmmakers out there who are story and performance focused and less technically focused.\n",
      "\n",
      "0 (37m 17s):\n",
      "I thought the most important thing is the story. And all these people around me are supposed to know that stuff. So if I can write the story, then I will be the leader of the story because it came out of my mind and no one will know more about it than I will. And from there, I made sure that I surrounded myself with people who did know their hubs. And one of the things that I learned from running my own business was to never be shy about saying, I don't know. And that, that, especially for women and for women of color black women, you know, to feel like you won't be taken seriously, if you don't know everything, you know, to feel like you cannot ask a question, were all things that I had to combat.\n",
      "\n",
      "0 (38m 3s):\n",
      "But the reason why I felt entitled to do it is because I saw why white men doing, let's say white guys all the time. Don't know what the hell they're doing, but you know what? They do have confidence. They're going to get out there and say, I want to figure it out. And I'm sure I'm sure I'll be okay. Sure. I can figure this out. And so, especially when you're an independent filmmaker, you really putting together small crew crews of people who will work for whatever money you can give them. And so there's a lot more grace there because everyone's kind of learning together. So that's what I did in the early years,\n",
      "\n",
      "\n",
      "    </transcript>\n",
      "\n",
      "    If you don't see a relevant question and answer in the transcript, respond with \"Question/Answer not found.\" \n",
      "    Only respond with the answer to the question.\n",
      "    \n",
      "ARRAY Filmmaker Ava DuVernay \n",
      " Question/Answer not found. \n",
      "\n",
      "---------------------------------------------------\n",
      "ActOne Group\n",
      "\n",
      "    You are a transcription analyst assistant. You are given portions of a transcription in order to extract the guests answer.\n",
      "    We are working with transcriptions from the podcast \"How I Built This\" where the host Guy Raz interviews entrepreneurs. \n",
      "    Typically towards the end of the interview he will ask a question regarding to what extent the entrepreneur attributes their success to skill, hard work, and/or intelligence versus luck.\n",
      "    Your task is to extract the answer from the transcriptions. Remember that these are transcriptions so words can be mispelled like \"lock\" instead of \"luck\" or \"intelligents\" instead of \"intelligence\".\n",
      "\n",
      "    The answer is typically a few sentences long and can be found in the same paragraph or in the following paragraphs depending on their thoughts.\n",
      "\n",
      "    <Examples>\n",
      "    \n",
      "    Example Question: When you think about the success of what you created, how much do you think it has to do with, with how hard you worked and your intelligence and how much do you think it had to do with luck?\n",
      "    Example Answer: It's probably 50 50. Look, I, I actually, so I think every CEO who I've met, they have some minimum level of intelligence, right. But they're oftentimes not the smartest person in the room. And I, I would put myself in that category too. Like, I'm, you know, I met some minimum bar, but I'm not the smartest person. What I am is probably quite determined. There is a part of my personality. This might be a little bit like that being on the spectrum thing or whatever, but it's just like, whether it's like a really good day or a really bad day, I'm sort of even keeled. And I'm often just like, okay, well what's the next step? How do we fix it? And let's keep making progress even over like a decade or more. I can be quite resilient in that regard. But I guess the other thing I would say just about luck, absolutely luck played a big role in Coinbase. I mean, there were certain moments early on in our history where if a coin had flipped the other way we might not be here. I think we got very lucky with sort of the timing of when the company decided to launch and when crypto decided to grow, I think that I kind of just kept trying things until eventually one of them hit. Right. Which is, it's a way of unifying those two ideas. It's, it's definitely a lot of luck when it works. But if you just keep trying, you can kind of make your own luck.\n",
      "\n",
      "    Example Question: Do you, I mean, obviously worked extremely hard making this happen, but I think you did have some incredibly fortunate breaks that you'd like, you couldn't control like male camp. Do you, are, are you a believer in luck or do you think that what happened really has to do with just how strategic and smart you guys were?\n",
      "    Example Answer: I totally believe in luck. I mean, but I think it comes from constantly striving and looking for that silver bullet. And when I look back on my 20 years, it felt like I was always looking for the answer, always looking for what is the playbook that I'm missing? You know, it's constantly searching. And then all along the way, stumbling upon something that actually does better than my wildest dreams. I don't know. It, it, I, I, I always had in my mind that I was just a bumbling idiot from of a Georgia who stumbled into business. And somewhere out there, someone knew the right answer of how to run my business. Right. And these days, these days, you know, MailChimp is much bigger. And I get invited to ritzy events with some really great business leaders. And I remember being in one recently where a head of one of Microsoft's cloud units, he was, he was speaking about his, how he hosts executive leadership meetings. And he says, we're still winging it. We have no idea. You know, he didn't say it that way, but he's like, we're still experimenting. You know? And this is Microsoft. And they've been around a very, very long time and they know what they're doing. So, you know, it was that moment. I realized, oh my God, nobody has the answer. We're all just winging it. Every one of us is just winging it. I don't know if that's hopeful or horrifying, but that's what I've learned.\n",
      "    \n",
      "    Example Question ...do you think it has more to do with just your intelligence and your skill or do you think that luck was a bigger factor in everything that's happened to you\n",
      "    Example Answer: so the thing I always say about lock I think it is it's the lottery and so you get sort of lottery tickets for how you know it's like how good your idea is how good your team is and how hard you work and so you take those like factors and I think how hard you work in your team or probably even bigger factors than the the idea but you still need to have something that actually would work and so you take those three things together and you get for each sort of our of production or work you get a lottery ticket and so just like the lottery if you unless you own every ticket you're not guaranteed to win because I've seen people that have are smarter than me better than me better idea than me fail because of things like luck like things not going their way and I've seen again the opposite of that and so we have been fortunate to have been have lots of Lucky breaks in our Direction but we also continue to work to get more tickets so that we could win the lottery\n",
      "    </Examples>\n",
      "\n",
      "    Transcript to extract answers from:\n",
      "    <transcript>\n",
      "    \n",
      "0 (32m 36s):\n",
      "Just keep thinking. I mean, it seems like you were growing pretty fast. So\n",
      "\n",
      "2 (32m 40s):\n",
      "Your head must of been spinning.\n",
      "\n",
      "1 (32m 42s):\n",
      "Well, let me tell you two things about that one. The big thing for me was not so much the exponential growth as it was the adoption of doing the temp work and bringing tip into the fold temp work. You're paying people long before the client pay you. And so there's another element of risk in there. You are also the employer of that worker. And so you assume the employer, your risks. So you've got to dynamic new and very strong differences in place here. And you're competing against larger entities who are going in and able because of the sheer scale to offer a much better pricing.\n",
      "\n",
      "1 (33m 27s):\n",
      "And you are for, for me and many companies like me, woman owned you. We're the minority company where you were the diverse company. So you were getting one 10th of that business against one larger vendor. And I still had to meet the same pricing as a larger company to do that efficiently, to do that sustainably. I needed to integrate technology in a different way, and I didn't find any over the shelf technology. So that's when I started to hire people and we built our own technology solutions.\n",
      "\n",
      "2 (33m 59s):\n",
      "And I guess it was just mentioned here Janice that, that some of the solutions that you came up with internally, these actually became a huge part of your business.\n",
      "\n",
      "1 (34m 8s):\n",
      "Yeah, so our technology sweet is called a celebration and it really was about that detailed reporting. We were able to give to clients that they weren't getting anywhere else. And so I had a client up North who had a very bad experience with a publicly held company, call me on a Friday morning and ask if I would come up. So I actually ran over to the airport with my brother, another employee. And the three of us went up North, but in Northern California to the client. And we found out that they had an issue. If we are This publicly held company was not negotiating well with them. And he walked out and they had several hundred tips who had to be paid.\n",
      "\n",
      "1 (34m 50s):\n",
      "And we had to get all of that work together, transition those people. And on Monday morning, all of the work was done. Everyone was paid and they have reports on their desk. Wow. I got a call from the lady who was head of HR and said, my goodness, Janice how were you able to do this? And I explained that we used for her, what we use in our own company technologies that enable us to do that. And she said, we've been working with this company for 12 years, and they've never been able to give us a detail of reporting that you have here. And they started to want conversations around how to buy my technology. And my brother called and said, Janice, let's pause.\n",
      "\n",
      "1 (35m 32s):\n",
      "Don't sell them to technology, sell them the service. Yeah. I said, Carlton, what are you? He said, no, don't sell your technology to them, sell them the service. And we went up and had a different conversation with them and they became our first acceleration customer. Hmm.\n",
      "\n",
      "3 (35m 52s):\n",
      "And, and I guess I should mention here, Janice that you mentioned your brother, several members of your family actually work for the company for X. Y.\n",
      "\n",
      "1 (35m 59s):\n",
      "Absolutely. My sister Sandy was my first employee. And since then I went on to hire seven of the siblings in to my business. And they have just been incredible for all of those emotional and those value support systems that you need in place. As you're growing a business up, everyone needs that. I needed that. And I have that in siblings. Now, one of the things that I insist it from my family members before they could come in to my company is that they either had to work for three years in a larger company somewhere else, or have three promotions before they could come to work for me. I wanted to make sure that they brought into my business.\n",
      "\n",
      "1 (36m 40s):\n",
      "Some learning, not just the abilities to sustain for three years, but the ability to have learned and have grown within someone else's organization, and then bring that value into mine.\n",
      "\n",
      "3 (36m 54s):\n",
      "I guess, at a certain point, this is like 2007, 2008. You know, you're a business is worth well over half a billion dollars by that point. And you decide to merge with Bernard's business with your husband's business. Tell me why, why did that happen? Was it just a sort of a natural point to kind of bring your businesses together?\n",
      "\n",
      "1 (37m 17s):\n",
      "When Bernie and I were leaving conference in San Diego, we decided to take the scenic route back to LA and we were having a discussion about our children. And I remember my brother has said to me, Carlton has said, you know, Janice you and Bernie have something that nobody else in this industry has. And I asked him what he meant. He said, well, you guys work from completely different sets of strengths, often time. And if you were to combine that, that could be dynamic in the industry.\n",
      "\n",
      "1 (37m 59s):\n",
      "And I thought that was nice. And I mentioned it to Bernie. And Bernie said, that makes sense. I said, but it's not enough to talk to merge our companies. And we talked more. And then I said, you know, burning. I think the thing that would make it interesting for me is that our son not have to decide which one of us he wants to work for. Because by then our son was looking at our industry as a future for himself. And he had worked in my company. He at worked in his dads company as a kid. And I said, Bernie, I don't think he should have to make a choice.\n",
      "\n",
      "1 (38m 38s):\n",
      "And it is a lot better succession planning for us to go ahead and do this. Now let's not have him have to do it later. And that was the decision that was thought around how we would blend the company.\n",
      "\n",
      "2 (38m 56s):\n",
      "Jess, I'm wondering, you know, looking back as, as the company grew for a long time, you were a minority within a minority. You, you were a small company with big competitors. You're a woman of color or in an industry that was, I'm assuming dominated by, by a white man. Did you run into circumstances? A lot of circumstances where you, you were judged because of who you are or, or, or were things were made much harder because of who you are\n",
      "\n",
      "1 (39m 26s):\n",
      "Very often, very often I ran into that. I'll tell you candidly, and I'm not proud of it. There were times when I would gift my intelligence to other members of my team and have them go in and make a presentation or them make the pitch so that the client wouldn't have to In interact directly with me as an African American or as a female.\n",
      "\n",
      "2 (39m 50s):\n",
      "But, but because you thought they wouldn't want to,\n",
      "\n",
      "1 (39m 54s):\n",
      "In some instances, I thought it, in other instances, I knew it\n",
      "\n",
      "2 (39m 58s):\n",
      "Is that if they saw an African-American woman making the pitch, they, they wouldn't want to work with you.\n",
      "\n",
      "1 (40m 7s):\n",
      "I think the questioning and the scrutiny would be different. There would be more a question of, can we then, how will we, right. Whereas if I sent someone different on my team, in the question's around, how are we going to do this happened a lot quicker and the conversation, and there are women who will tell you Today, that's still the case.\n",
      "\n",
      "2 (40m 33s):\n",
      "How, how have you sort of grown as a leader over that time? I mean, were there things that you did earlier on that were mistakes that you learned from and you thought, well, you know, that's not the way to go.\n",
      "\n",
      "1 (40m 47s):\n",
      "Certainly I've made mistakes, the bigger of my mistakes, where are the mistakes I made, where I have held myself back because of things that were latent from my childhood and sometimes very active, you know, in businesses, around the isms, whether that be racism or sexism or whatever. But those have been where I think my bigger errors have been made.\n",
      "\n",
      "2 (41m 13s):\n",
      "When you, you say, when you held yourself back by, for example, by not taking those meetings or by sending somebody else and your, your place, what, what other, what other ways did you hold yourself back?\n",
      "\n",
      "1 (41m 26s):\n",
      "Holding myself back from taking risks around expanding or investments that weren't right in the core of what I'm doing. But I always, I always saw myself as, you know, driving in my lane and understanding where my lane was.\n",
      "\n",
      "3 (41m 46s):\n",
      "Yeah. I mean, I mean, it sounds like even though you have had incredible success, you by nature, you're not a sort of a kamikaze risk-taker,\n",
      "\n",
      "1 (41m 56s):\n",
      "I'm not going to be the bull in the China shop. If that's what you're saying, I'm not going to rush through and, you know, break things on the way towards a higher goal. Perhaps the one decision I would change if in my career would be that I would forgive myself for being smart and being female a lot sooner. Everything else I think has been integrated toward the good of a solid business that has a strong future\n",
      "\n",
      "3 (42m 28s):\n",
      "Today act. One is either the largest or certainly one of the largest privately held women and minority owned workforce management companies in the U S your, you and your family owned this company. I believe a a hundred percent outright. There's a billion dollar business. I mean, that's, that's amazing. I mean, it's me think about that for a moment. You came to LA for a two or three week trip and built a billion dollar business.\n",
      "\n",
      "1 (42m 59s):\n",
      "It's a blessing. This is what we Built. This is what all of the people who really believed in me and trusted in me have built. And in our company, we teach that there are five things you can't teach people, you can't teach people experience. You can't teach people common sense. You can't teach people confidence. You cannot teach people anything. If they don't want to learn it and you can't teach them anything, if they know it all. And I think when I look at where you see the amazement in building a billion dollar enterprise, I think is because those things that you can't teach I've learned.\n",
      "\n",
      "3 (43m 44s):\n",
      "Hmm. How much of all that you've achieved do you think is because of the hard work you put in and your determination and your skill and how much, just because of luck.\n",
      "\n",
      "1 (44m 0s):\n",
      "I don't think luck had anything to do with it. I do believe that I've been blessed and I have received those blessings by honoring them with hard work. All of the challenges, all of the people, all of the clients and applicants, my life has been a collitus topic opportunity.\n",
      "\n",
      "3 (44m 27s):\n",
      "I keep going back to that moment where you're your mom in morning, told\n",
      "\n",
      "2 (44m 32s):\n",
      "You to leave, told you to go. She did that. Your dad would want you to pursue whatever it was that you were going to pursue, and you didn't know what that was going to be. Right? I mean, yeah. Can you imagine what your dad would make of this? Like his daughter running the largest women and minority owned business of this kind in the world? I mean, what do you think he would, he would say or think\n",
      "\n",
      "1 (45m 2s):\n",
      "I absolutely can imagine what dad would say or what dad would think. My dad is the one who told us it was our attitude, not our aptitude. My dad was the one who told us education is freedom. My dad was the one who taught us that we wake up on purpose, you know? And, and, and, and I, I think about him so often. And you can't not think about him when you're with mom. I was a voted princess in high school, and I remember asking for a new gown to wear on a float. And dad said, Oh, we can't afford it. We've worked so hard for you guys. And I remember my mom putting her hand on my dad's hand and said, no, daddy, they called each of the mommy and daddy.\n",
      "\n",
      "1 (45m 47s):\n",
      "She said, no, daddy, don't tell Janice. We work hard for our kids. We work hard because of the decisions we made. And I kept that in my mind, as I built my business and I've made a point never to tell my children, I don't work hard to give them what they want. I work hard because of the decision I made, you know, and for me, it's a joy, it's a joy to do what I do.\n",
      "\n",
      "2 (46m 17s):\n",
      "That's Janice, Bryant Howroyd founder and CEO of F1 Group. And unfortunately, we've got to a sad update to the story. Earlier this year, Janice's husband Bernard passed away, deep in suffering from Alzheimer's for several years and an interview after his passing, Janice said, quote, I would never say Bernie was the most perfect creature, but he was the most perfect husband. And Pete loved me. Well, and thanks so much for listening to the show this week, you can subscribe wherever you get your podcasts. You can also write to us at the HIV team at NPR dot org. And if you want to follow us on Twitter, we're at How I Built This with Guy Raz and an Instagram is at Guy dot Ross.\n",
      "\n",
      "2 (47m 5s):\n",
      "Please also remember to visit donate.npr.org/ Built to give directly to a local NPR member station. This episode was produced by James DeLuise with music composed by rep teen Arab Louis. Thanks also to Ferris Safari, Liz Metzger, Derek gales, Julia Carney, JC Howard Neeva grant, and Jeff Rogers. I'm Guy Ross. And you've been listening to how I built this.\n",
      "\n",
      "4 (47m 35s):\n",
      "This is NPR\n",
      "\n",
      "5 (47m 40s):\n",
      "2020, had a lot of us rethinking our lives. 2021. Life kit wants to help you make those changes, whether they're big or small, all of this January life kit, we'll give you smart tips to think through your next decision. Listen now to the life kid podcast from NPR.\n",
      "\n",
      "6 (47m 58s):\n",
      "This message comes from NPR sponsor Adyen, the future-proof payments platform. Adyen connects you with customers around the world and makes it simple to accept all kinds of payments, an app online in store touch-free and beyond with a single solution. Keep customers happy in your business. Growing with Adyen, business, not boundaries, visit a D Y E n.com/ NPR to learn more.\n",
      "\n",
      "0 (7m 25s):\n",
      "When you were, when you were little, did you, would you dream about what you would be when you grew up or did you already have big ambitions as a kid or, or were they kind of like, yeah. You know, I'll, I'll see what happens\n",
      "\n",
      "1 (7m 40s):\n",
      "Now. See, print media was really the thing that taught me so much and books, print, period. My mom bought encyclopedias and then she paid them off over time. She also had periodicals that came to our house. There was a magazine called sippy. There was Ebony was popular. Jet magazine was popular back then. And so I knew a lot about the world and I knew a lot about what black people were doing. And so I had role models who, a fulfilled thoughts about what I might do when I grew up. But as a very young child, I remember admiring my mom so much, which I continue to do to this day.\n",
      "\n",
      "1 (8m 21s):\n",
      "She, even then I could sense, even though I couldn't put label too, it was quite an efficient person. And she ran our home like a business. And what is your dad do? My dad was a foreman. He was a foreman in a diaper factory, you know, were a textile communities in North Carolina. And dad was very integrated in our lives. He made sure that we had our Thursday family meetings. Thursday was payday and we all had to gather around and we discussed what we done, what we would be doing in business. We say we discussed the gaps and we brought forward at the solutions and my family, dad just see it.\n",
      "\n",
      "1 (9m 3s):\n",
      "Let's see where we are and where we're going, kids. That was always his comment to us.\n",
      "\n",
      "3 (9m 8s):\n",
      "Janice when you were, when you were a girl, when you were a kid, did you see entrepreneurs around you, either in your community or, or in your family?\n",
      "\n",
      "1 (9m 16s):\n",
      "Expectedly? I saw them growing up. I did not know that's what I was looking at. I remember grandma Dora walking around Tamora in high heel shoes, coming over to our house and they ran a barbecue shop and they had a home that had a beautiful dining room in it, but their dining room was to serve their customers. Well, they ran it out of their home. Yeah. And white people would come over to eat beer, which was a big deal that they were coming over to have dinner at the art lunch there. But I didn't look at that as entrepreneurship. Right, man. That's just what grandma did. You know, I also saw her run.\n",
      "\n",
      "1 (9m 57s):\n",
      "She fed people to go bags where they would come and buy their lunches or dinners at the back. And she would charge based on who was working and who was out of work. And she had that sense of justice in her mind about how to run her business. And I think it paid off because she did quite well.\n",
      "\n",
      "3 (10m 16s):\n",
      "Hmm. So such as I read that when you were in high school, your mom and dad decided to send you to a, an all white high school, you we're going to be the first African-American student at that school. What do you remember about, about your first day going in there?\n",
      "\n",
      "1 (10m 32s):\n",
      "Well, mama and daddy didn't send me. We decided as a family that that would happen. Our community wanted to have our best and brightest go to the white school to lessen any fear around whether or not the school with a dilapidated in any way by our attending it. And I was one of the first and I remember my first day going into my English class and I thought, Oh, English is always been one of my better subjects. And I'm going to fail because I couldn't understand my English teacher. She had a Twain that sounded so different to me, from my side of Tarboro, mind you, we're talking about a distance that I could walk to school from my home.\n",
      "\n",
      "1 (11m 20s):\n",
      "Wow. But she sounded so different. The communities were truly divided in that way. Yeah. And we had a teacher who stood up on the desk that date, the first day I went into his history class and explained so eloquently. If you can even see the paradox that, that How blacks were so suited to slavery. Wow. I remember chewing so hard saying, God, please don't let me cry. If you just let me get out of here without I'll never come back. That's how intimidated, how fearful In how foreign I felt and a U S history,\n",
      "\n",
      "3 (12m 1s):\n",
      "The class. Did you want to stop going to that school? I mean, I could imagine being 16 year old, 15, 16 year old kid and, and feeling that level of hostility and then hearing a teacher say that somebody with power to S to say that\n",
      "\n",
      "1 (12m 17s):\n",
      "I absolutely don't want to stop going. And I told my dad, I didn't want to go back. And dad gave me three options. He said, you can come back here and compete against other black kids who are going to need scholarships to go to school. He could go up and he could floor the teacher and a secret taliation or I could go back and I could understand. And this is something that if you say to many black people, they will finish this sentence for you. It's not what they call you. It's what you answer to. And that was my first big lesson from dad that I should not listen to what they called me.\n",
      "\n",
      "1 (12m 59s):\n",
      "I could only be what I answer to in life.\n",
      "\n",
      "3 (13m 2s):\n",
      "Hm. So you, you graduated high school and then you went off, you want to have to college to North Carolina, a and T what do you, what do you remember about that time?\n",
      "\n",
      "1 (13m 13s):\n",
      "I loved that campus and that's where my older siblings had gone. It, it was such a wonderful time to be at North Carolina, a and T when I graduated, everybody was full of promise in ideas about what we could do. So much of my adult framing happened on that campus. And by the time I started my own business, I was able to reach back on what I had learned in my home, which is where I gained. Most of my business education was in my home and the ability to, to meet new people and not as strangers that I learned at a and T, that was so wonderful.\n",
      "\n",
      "1 (13m 54s):\n",
      "Yeah.\n",
      "\n",
      "3 (13m 54s):\n",
      "And what did you do when he graduated?\n",
      "\n",
      "1 (13m 57s):\n",
      "First? I worked in the national Academy of sciences in Washington, DC. I worked there for about a here and a half, and I went home to visit mom and dad. And I remember one morning, my mom and dad, when we were kids early morning was always there. Time. I told her dad left to work really early in the mornings. And their date time was early morning and they dated in the kitchen in the little they window, where she has the table year to this day. And I got up to walk through the hall and I saw them kissing and hugging just, just like teenagers.\n",
      "\n",
      "1 (14m 39s):\n",
      "And I thought, Ooh, you know, I'm an adult by then. Right? That was the last time my mom saw my dad alive. And I many times then have thought, if you have to say goodbye, what a wonderful wait for her to know that the last time he saw her alive, he held her and loved her. So richly and She him to leave a heart attack. My dad had taken two young men out on the waters in North Carolina, shrimp, boat, fishing. They want to shrink boat. And a storm came up.\n",
      "\n",
      "1 (15m 20s):\n",
      "My dad was taken in the storm. Wow. And so I remember my mom took her be at, for a couple of weeks. And I had booked a ticket to come to California to visit my sister Sandy. And I remember I told my mom, I'll stay here with you mom and help you. My mom had been married since she was a teenager. She'd never had any other boyfriend. And I knew there would be some heavy adjustment for her. And she said, no, I'm going to have to learn to live on my own. I better do it now. And then she said, the last thing dad would want is for me to stop you living your dream, because we certainly, we certainly have lived hours.\n",
      "\n",
      "3 (16m 8s):\n",
      "Wow. So you, you leave North Carolina. I mean, what, what a, what a moment in your life, in your mom's life in your family's life? I mean, this is like late seventies. Yeah. And so you come to LA to visit your sister and it was, it was supposed to be just a quick visit to, to, to see her or a couple of days or weeks or something like that.\n",
      "\n",
      "1 (16m 33s):\n",
      "A couple of weeks planned. It was going to be a good visit. Two weeks back. There was a long time. Still is.\n",
      "\n",
      "3 (16m 38s):\n",
      "Yes. Yeah. And you were just a kid. I mean, you were in your mid twenties, right. Or early twenties at that point, I was hot and popping.\n",
      "\n",
      "1 (16m 48s):\n",
      "Although, let me tell you when I got to LA, I didn't think so. On the East coast, I thought I was all of that. And I got to LA and I saw all these women who worked without pantyhose on, they carry purses with somebody else's name on it. And I was called in at Louis Vuitton and they were all, all the black people, all the black women I saw were, were, were like fabulous, gorgeous women. And I felt like this, a little nappy headed colored girl coming out of North Carolina amongst all these fabulous people. No, I didn't feel all hot popping them.\n",
      "\n",
      "3 (17m 25s):\n",
      "What was your first impression of, of LA at that time? And this is like the late seventies. It was\n",
      "\n",
      "1 (17m 30s):\n",
      "Palm trees, gorgeous, gorgeous Palm trees. And you know, you go up and drive all the way up and look out over the city. And it was just so beautiful. So beautiful. LA was wide open. It truly was a fairy tale kind of existence for me. And I wanted in on it. You want it to stay? I I didn't at first I needed to sustain my stay financially. Cause my sister kept saying stay I'm the first family member she's got out here from home.\n",
      "\n",
      "3 (18m 5s):\n",
      "And, and her husband, Tommy, he, he worked at, at, at billboard magazine. Is that it?\n",
      "\n",
      "1 (18m 11s):\n",
      "He did. He had worked at Motown for years and helped move Motown out to LA. And then he went to billboard. You know, his career had been in the music industry. I remember seeing his name scrolled a year. He died at the Grammys and Tommy invented what they call the hot one hundreds chart. Oh, the billboard hot 100. Yeah. Yes. To this day I keep meeting people who just have such great memories of him. And certainly I do. He was an incredible, incredible first-generation Irishman.\n",
      "\n",
      "3 (18m 43s):\n",
      "So you, you go out to LA to see your sister and her husband, your brother-in-law Tommy says, Hey, you know, I may have some temp work for you at, at, at billboard. And, and that's what you did. You kind of went to his office and worked, kind of worked for him.\n",
      "\n",
      "1 (18m 59s):\n",
      "Yeah. She and Tommy, we're going to a Nimic conference in Italy. And when he came back, I had reorganized things, put things into a form as I saw they should be. And he thought I worked magic. I thought I did what I was supposed to do. And he said, you know, you don't, you, you, you really are good Janice you should not go back without proving. You can make it on your own. And he was the one who seeded the idea that I should hang my own shingle.\n",
      "\n",
      "3 (19m 29s):\n",
      "You were looking for work. And your brother-in-law essentially says, Hey, Janice why don't you just open up a business and you've got your job. You've got your own job.\n",
      "\n",
      "1 (19m 40s):\n",
      "He absolutely did. It was that simple for him. He later told me he saw so much enterprise entrepreneurship in me that I wasn't seeing in myself. So\n",
      "\n",
      "3 (19m 52s):\n",
      "Was the business idea that you guys started to talk about?\n",
      "\n",
      "1 (19m 56s):\n",
      "I actually started as a full-time agency, meaning what we were finding. I found people full-time jobs. You will like a head Hunter sort of, yeah. At the admin level,\n",
      "\n",
      "3 (20m 9s):\n",
      "Once you decided that you were going to start this company, this agency to help place people in jobs, what was your first move? I mean, w where did you get an office? How did you,\n",
      "\n",
      "1 (20m 20s):\n",
      "How did you start it? I made a deal with a guy who owned a rug shop and I set up office in front of the rug shop. It was a very, very beautiful in Beverly Hills, in Beverly Hills. Yeah. Location, location. Location is one of the Beverly Hills address to say, I had a friend who hooked me up with someone who had a Beverly Hills location. I was not looking at real estate that way, but it worked out perfectly. The stars were aligned for me.\n",
      "\n",
      "3 (20m 50s):\n",
      "And what did you call it? What'd you call the company ACT as in act one, like when you're in a movie,\n",
      "\n",
      "1 (20m 57s):\n",
      "You know, because it's located here in Los Angeles area. Many people thought that, but for me it was more around the biblical sense. The book of acts. Yeah.\n",
      "\n",
      "3 (21m 10s):\n",
      "So you get, get This office space and what you put in a desk, in a phone and there you go.\n",
      "\n",
      "1 (21m 16s):\n",
      "It was there. They didn't have to, it was there and it worked out very well for me. But I'll tell you something. When I did get my own office, that I remember the first day I got a fax machine. Do you know who Judy Jetson? In sure. Of course. Yeah. I thought I was Judy Jetson technology hit hard for me. Yes. That was incredible for me. And it also taught me the power of technology. And I think that's why over the years, my company has evolved more around how we build human friendly technology than anything else.\n",
      "\n",
      "3 (21m 53s):\n",
      "When you started act one, did you need a lot of, a lot of startup money to get it going?\n",
      "\n",
      "1 (21m 59s):\n",
      "I borrowed money from my mom and I had saved 900 and borrowed 600 from her.\n",
      "\n",
      "3 (22m 6s):\n",
      "But so you had $1,500 to start this business. Yep. And that was going to get you to the office, a lease on the office and I guess a phone, but here's what I'm, I'm trying to understand. You are so young and you just essentially just got there. So how did you even start? How did you even find people to, to recruit, to say, Hey, I, you know, you're looking for work. I can help you.\n",
      "\n",
      "1 (22m 31s):\n",
      "Well, finding people to place was not an issue during that time, finding the chops was, and the core of our business remains today as it was when I was one desk. And that's understanding the power of the interview. And just, I mean, you've talked with me for a few minutes now, you know, a lot about me and you know, a lot of resources to go, to gain more information. And that's the way the interview worked as well. So the power of that interview enabled me to make sure that I understood the individual who was looking for work. I knew where they'd already worked. I knew if they were already employed that once they left, there was going to be an opening there. And because of the rich network that I was able to achieve in the social side of how I'd lived with my brother and sister, I knew people who were looking for assistance, people who were looking for people to hire and built it on that in the early days, I call it the womb word of mouth, baby.\n",
      "\n",
      "1 (23m 30s):\n",
      "I got, I got most of my leads toward opportunities to fill positions. And most of the least toward applicants, by word of mouth,\n",
      "\n",
      "3 (23m 40s):\n",
      "So your business model was you help companies fill these jobs mostly jobs\n",
      "\n",
      "2 (23m 46s):\n",
      "And they would pay you a fee. And how were you able to guarantee that the person you were offering was going to work out?\n",
      "\n",
      "1 (23m 54s):\n",
      "Oh my goodness. There were so many different guarantees that were offered in our industry back then. And I haven't thought about this for years, but that's the risk to take on making sure that you're making a good placement. And that's why I say we have to focus on the applicant because you, you offered people money back. If they didn't work out, then, you know, you had, you had a reduction in that fee. You got, and you got, you had to pay that money back if they didn't last. So nobody want it to do that.\n",
      "\n",
      "2 (24m 23s):\n",
      "Were you, were you profitable pretty quickly or did it take some time\n",
      "\n",
      "1 (24m 30s):\n",
      "Actually thinking back on it hitting profitability in a year seems pretty good, but living through it, it didn't. But remember I was in a very low overhead business and I was in a business that had a high transaction. I was as good as my effort allowed me to be. Yeah.\n",
      "\n",
      "2 (24m 56s):\n",
      "In those early days, as you, you know, as you start to grow, things were, things were like kind of hectic. And then in the midst of this, you like, you got buried to write like in the early eighties.\n",
      "\n",
      "1 (25m 8s):\n",
      "Well, I met my husband at an industry conference, a Bernie and I saw this guy and he was really handsome to me. He had this presence about himself and he also spoke with this English accent, but he liked me a lot more than I did him. I noticed him. I can't say I didn't notice him, but he liked me a lot more than I liked him. And he, he chased me for a bit. And I found out that he was the founder of Apple one\n",
      "\n",
      "2 (25m 36s):\n",
      "And Apple. One was a temporary employment agency.\n",
      "\n",
      "1 (25m 40s):\n",
      "Apple one was Apple. One was a really respected, temporary and play a full-time placement agency doing business in California,\n",
      "\n",
      "2 (25m 50s):\n",
      "Married, essentially your competitor. How did you keep like work in personal life? Separate.\n",
      "\n",
      "1 (25m 55s):\n",
      "I think it would be the same as if we have been physicians or scientists. We're going to share a love of the industry and talk about it. And we're still competent, capable people building a business.\n",
      "\n",
      "2 (26m 10s):\n",
      "And so when was it clear to you that this wasn't just going to become sustainable, but this could actually become really pig business. Was it, was it within a year? Was it within two years? Was it after that?\n",
      "\n",
      "1 (26m 24s):\n",
      "No, no, no. I would say it was about, Oh, I want to say six or seven years in. And I remember a lady named Gwen Moore when Moore was any elected official Congresswoman out of California here. And she had been very in championing and I believe she was one of the original authors of legislation that require a public utility companies in California to have diversity spend, because she said your rate payers are diverse, so you should be doing business with them. And she contacted me and she said, I want to come see you.\n",
      "\n",
      "1 (27m 5s):\n",
      "And she'd met with me. And she told me that I had an obligation to get certified, to, to do what as a minority woman owned company. And I didn't want to do that. I was doing very well. Thank you. And she said, no, it's not about you doing better. Although you will. She said, it's about you creating the opportunity for others who won't get a shot. She said, we need some strong businesses that are run by women and run by minorities to certify and go in and do business as such to open the door for others. And even when she was arguing the point as eloquent, as clear as she is, I wasn't getting the point because initially I thought that certification was a strip search.\n",
      "\n",
      "1 (27m 57s):\n",
      "I needed to open up my business to total exposure to someone, to in return, have them come back and say, yes, you are a minority. Yes, you are a woman. And yes, you are running this business. And it just did not align with how I felt that I want it to be measured when they come back in just a moment,\n",
      "\n",
      "\n",
      "0 (28m 21s):\n",
      "Janice wound up changing her mind about that. And how\n",
      "\n",
      "1 (28m 24s):\n",
      "Has she turned act one into a\n",
      "\n",
      "\n",
      "0 (2m 52s):\n",
      "Ron NPR is how I built this a show about innovators, entrepreneurs, idealists, and the stories behind the movements. They Built\n",
      "\n",
      "2 (3m 4s):\n",
      "I'm Guy rosin on the show today, I would temporary gig as a secretary inspired Janice Bryant Howroyd to build an employment agency that turned into an empire and B Janice the first African-American women in history to own a billion dollar business. So hiring employees is one of the hardest things about running a business. If you've listened to this show long enough, you've heard founders talk about how when their company started to scale, hiring enough, good people consumed so much of their time because hiring requires patience and research, and yes, luck, even the best applicants sometimes flail after they start.\n",
      "\n",
      "2 (3m 49s):\n",
      "And this was an insight that Janice Bryant Howroyd came across early in her career after working as a secretary for her brother-in-law it was the late 1970s and her brother-in-law Tom Noonan needed an assistant for his growing role at billboard magazine and Hollywood. Janice noticed that lots of other executives in Hollywood needed clerical help too. And they needed it fast. They just didn't have a time to find the right people. So with all of her money, which was $1,500, Janice rented a small space in front of a rug shop in Beverly Hills. And she started an employment agency at the time. Janice was a young African-American woman starting out in an industry dominated by older white men.\n",
      "\n",
      "2 (4m 32s):\n",
      "Now, today her company act one group does an estimated billion dollars a year in sales act, one handles, hiring and recruiting for all kinds of industries. And it also provides a lot of backend services like employee screening and payroll, but when it began, it was just one office, one phone, and Janice she opened that first office in a city. She barely knew when she first arrived to LA in her mid twenties, Janice had spent most of her life in a very different place from Hollywood. She grew up in the 1950s and sixties in a big family in the small town of Tarboro. North Carolina\n",
      "\n",
      "1 (5m 14s):\n",
      "Grew up on the other side of the tracks. And that's literally the case because we did have a train that ran through our town. We were a town that was incorporated in the 17 hundreds. So a train track in the middle of the town did indicate some level of prosperity. Now we were segregated. Make no make no mistake about that. But we had that Southern etiquette that went along with it. So there was a politeness that occurred amongst people, but we also were very aware of the injustices. Hmm.\n",
      "\n",
      "2 (5m 48s):\n",
      "How many, how many brothers and sisters did you have growing up?\n",
      "\n",
      "1 (5m 51s):\n",
      "Five brothers, five sisters, all type a\n",
      "\n",
      "2 (5m 54s):\n",
      "So 11 kids in your house. Yeah. You say that, like, that sounds\n",
      "\n",
      "1 (5m 58s):\n",
      "So much to you.\n",
      "\n",
      "\n",
      "0 (6m 1s):\n",
      "Yeah, it does. It sounds like a lot of kids. It sounds like a chaotic\n",
      "\n",
      "1 (6m 5s):\n",
      "The house. Oh my, no, you don't know my mom and dad, if you thought there was chaos going on in the Bryant household. As a matter of fact, we had a system, we are, the older siblings would take care of the younger ones. And when I say take care, I mean, they were responsible that we did chores appropriately. We had a personal grooming, taken care of, they checked as foreign. They helped us with, and that homework was done is So Sandy got me. She was first born. I was fourth born. And when she went all the way off to Greensboro, North Carolina, which by dry time is about four hours. It felt like the end of the world. And it happened for me and everything just felt so empty to me yet.\n",
      "\n",
      "1 (6m 46s):\n",
      "There were still 12 people left in the house every day. If we had no guests come over,\n",
      "\n",
      "\n",
      "    </transcript>\n",
      "\n",
      "    If you don't see a relevant question and answer in the transcript, respond with \"Question/Answer not found.\" \n",
      "    Only respond with the answer to the question.\n",
      "    \n",
      "ActOne Group Janice Bryant Howroyd (2018) \n",
      " Answer not found. \n",
      "\n",
      "---------------------------------------------------\n",
      "Affirm\n",
      "\n",
      "    You are a transcription analyst assistant. You are given portions of a transcription in order to extract the guests answer.\n",
      "    We are working with transcriptions from the podcast \"How I Built This\" where the host Guy Raz interviews entrepreneurs. \n",
      "    Typically towards the end of the interview he will ask a question regarding to what extent the entrepreneur attributes their success to skill, hard work, and/or intelligence versus luck.\n",
      "    Your task is to extract the answer from the transcriptions. Remember that these are transcriptions so words can be mispelled like \"lock\" instead of \"luck\" or \"intelligents\" instead of \"intelligence\".\n",
      "\n",
      "    The answer is typically a few sentences long and can be found in the same paragraph or in the following paragraphs depending on their thoughts.\n",
      "\n",
      "    <Examples>\n",
      "    \n",
      "    Example Question: When you think about the success of what you created, how much do you think it has to do with, with how hard you worked and your intelligence and how much do you think it had to do with luck?\n",
      "    Example Answer: It's probably 50 50. Look, I, I actually, so I think every CEO who I've met, they have some minimum level of intelligence, right. But they're oftentimes not the smartest person in the room. And I, I would put myself in that category too. Like, I'm, you know, I met some minimum bar, but I'm not the smartest person. What I am is probably quite determined. There is a part of my personality. This might be a little bit like that being on the spectrum thing or whatever, but it's just like, whether it's like a really good day or a really bad day, I'm sort of even keeled. And I'm often just like, okay, well what's the next step? How do we fix it? And let's keep making progress even over like a decade or more. I can be quite resilient in that regard. But I guess the other thing I would say just about luck, absolutely luck played a big role in Coinbase. I mean, there were certain moments early on in our history where if a coin had flipped the other way we might not be here. I think we got very lucky with sort of the timing of when the company decided to launch and when crypto decided to grow, I think that I kind of just kept trying things until eventually one of them hit. Right. Which is, it's a way of unifying those two ideas. It's, it's definitely a lot of luck when it works. But if you just keep trying, you can kind of make your own luck.\n",
      "\n",
      "    Example Question: Do you, I mean, obviously worked extremely hard making this happen, but I think you did have some incredibly fortunate breaks that you'd like, you couldn't control like male camp. Do you, are, are you a believer in luck or do you think that what happened really has to do with just how strategic and smart you guys were?\n",
      "    Example Answer: I totally believe in luck. I mean, but I think it comes from constantly striving and looking for that silver bullet. And when I look back on my 20 years, it felt like I was always looking for the answer, always looking for what is the playbook that I'm missing? You know, it's constantly searching. And then all along the way, stumbling upon something that actually does better than my wildest dreams. I don't know. It, it, I, I, I always had in my mind that I was just a bumbling idiot from of a Georgia who stumbled into business. And somewhere out there, someone knew the right answer of how to run my business. Right. And these days, these days, you know, MailChimp is much bigger. And I get invited to ritzy events with some really great business leaders. And I remember being in one recently where a head of one of Microsoft's cloud units, he was, he was speaking about his, how he hosts executive leadership meetings. And he says, we're still winging it. We have no idea. You know, he didn't say it that way, but he's like, we're still experimenting. You know? And this is Microsoft. And they've been around a very, very long time and they know what they're doing. So, you know, it was that moment. I realized, oh my God, nobody has the answer. We're all just winging it. Every one of us is just winging it. I don't know if that's hopeful or horrifying, but that's what I've learned.\n",
      "    \n",
      "    Example Question ...do you think it has more to do with just your intelligence and your skill or do you think that luck was a bigger factor in everything that's happened to you\n",
      "    Example Answer: so the thing I always say about lock I think it is it's the lottery and so you get sort of lottery tickets for how you know it's like how good your idea is how good your team is and how hard you work and so you take those like factors and I think how hard you work in your team or probably even bigger factors than the the idea but you still need to have something that actually would work and so you take those three things together and you get for each sort of our of production or work you get a lottery ticket and so just like the lottery if you unless you own every ticket you're not guaranteed to win because I've seen people that have are smarter than me better than me better idea than me fail because of things like luck like things not going their way and I've seen again the opposite of that and so we have been fortunate to have been have lots of Lucky breaks in our Direction but we also continue to work to get more tickets so that we could win the lottery\n",
      "    </Examples>\n",
      "\n",
      "    Transcript to extract answers from:\n",
      "    <transcript>\n",
      "    \n",
      "3 (1h 0m 22s):\n",
      "How much of your journey and, and what happened to you? Do you attribute to those lucky moments and how much do you think have to do with just how hard you work and in the grind and, and in your intelligence?\n",
      "\n",
      "5 (1h 0m 39s):\n",
      "That's a great question. I I've, I've heard you asked this before. And I, I thought, what is my answer? And came up with very little canned, anything, you know, I think the role of luck is vastly under appreciated. I think the action you take when an opportunity appears is yours, and it's the choice and willingness to take the risk and decision to just go for it and sort of damage your dose sort of moment. But if you are unwilling to move or unable to recognize, or don't encounter these moments of opportunity, you know, it's probably not available to you.\n",
      "\n",
      "5 (1h 1m 25s):\n",
      "And I, I feel a certain degree of guilt that some brilliant people I know may not have had some of these moments and they, they could have been much more successful than they are. And yet I do think that probably moments of luck appear in front of most of us at some point or another in our lives. And what do you do after once you see one of those have one of those, it does come down to work ethic and just willingness to grind, then sleep less and compromise things like work-life balance, which have their own consequences. It's not free and it can be very damaging, but luck is the kickstart.\n",
      "\n",
      "\n",
      "3 (1h 2m 8s):\n",
      "That's max Levchin founder and CEO of firm and co-founder of PayPal. By the way, whenever you're asked to verify, you're not a robot online, by trying to figure out what those wiggly letters spell, you could be taking the Gauss spec login test. Only a human has the ability to discern those letters. Max created that test after PayPal was getting hammered by hackers. That was back in 2002. And the test in modified form is still widely used across the internet. Hey, thanks so much for listening to the show this week. If you want to contact the team, our email address is H I B T N I d.wondery.com.\n",
      "\n",
      "\n",
      "3 (56m 35s):\n",
      "Yeah. I mean, if I, if I'm looking at you, I'm thinking based on his record, he's, he's restless, he's he, he's, he, he's got to find some new challenge he's going to, he's got to, just to live, to survive, to thrive, to be happy. He's going to have to come up with something new. Is that true?\n",
      "\n",
      "5 (56m 56s):\n",
      "A little bit in the following sentence. So, I mean, this sounds weird. And to some people, presumably extremely prosaic, but financial products is like a play land for me. I feel embarrassed saying that out loud, I guess, but the, the ideas that are sloshing around in my head, the things that need to get built needs to get built tomorrow. Most of them these days are really in financial services because every where I look every sort of rock, we turn over as we were on a farm, there's like, oh my God, that clearly needs to get reinvented and done better. And so the opportunities that I see these days are just predominantly in my own industry.\n",
      "\n",
      "5 (57m 37s):\n",
      "So how do I stay fully engaged and fresh at affirm if I really am going to soul sheriffs with the public and commit to them, which I certainly have that I'll, I'll be here a long time. So we organized in some ways, sort of the incubator 3.0 inside affirm. And there's a team called CTS zero to 60. Fortunately not just me, but a bunch of other, pretty smart people who are constantly coming up with ideas that we're incubating inside, affirm and launching in the sort of the way I describe it to my investors. If you look at any successful startup, you know, not just a firm, it's always a S shaped curve where you start with nothing. And for awhile, it's just nothing and nothing and nothing.\n",
      "\n",
      "5 (58m 17s):\n",
      "And then something clicks and then it goes vertical and he just keeps going up and up and up. And then eventually it has to slow down as you saturate the market, as the market becomes more and more competitive as consumer profits change businesses, don't go way, but the growth curve slows and we're lucky to have hit on a giant opportunity in a giant market. So affirm as it exists today is very far from asymptotic turning into an S-shaped curve. But if I'm going to be here 10 years from now, I'm going to be here 20 years from now. I better have another S curve type product in my pocket. And so a lot of what I work on these days, surf, what gives me the greatest happiness really is experimenting within the CTS team, building new ideas.\n",
      "\n",
      "5 (59m 2s):\n",
      "And most of them are going to go exactly the way of the Dodo as any other startups, but even if one of them becomes another S curve that propels affirm to the next big thing, its purpose will be fulfilled. So I'm pretty sure I'm exactly where I need to be, or quite sure I'm exactly where I need to be. So I'm not in fact restless, the restless has come from, gosh, I have to do another really, really important management meeting. And that rather tinker with CTS,\n",
      "\n",
      "\n",
      "3 (59m 31s):\n",
      "I I've been thinking a lot about the story you told of when he met Peter teal, you went to this lecture that he gave in front of four or five people. And, and I think that was a very lucky moment for him. And I think it was a very lucky moment for you too. And I think both of you had you not met would have figured something out and been successful. You, you were motivated, you came out there and you were clearly a talented computer programmer and mathematician. So there's no doubt that you would have figured it out, but you did have those moments like going to that lecture at Stanford and, you know, eventually, you know, being part of PayPal, which is the, kind of the history of, of, of web 2.0, I mean the, all those people that came out of PayPal are hugely influential, hugely powerful for, for better or worse.\n",
      "\n",
      "\n",
      "3 (2m 41s):\n",
      "I learned so many things from each interview. And as a team, we spend a lot of time trying to find founders. Who've built brands that have had some kind of wider cultural impact. But most importantly, we look for founders who are willing to be open because really what I'm asking each founder is to share his or her story in the hope that you, you, the person listening will benefit from it. And in some ways, max Levchin could be the poster child for this mission in part, because max is obsessed with solving hard problems so much. So he named his tech incubator, H V F, which stands for hard, valuable and fun.\n",
      "\n",
      "\n",
      "3 (3m 23s):\n",
      "Not only was he a key founder and developer at PayPal, but he went on to have a hand in the founding of Yelp glow, which is a suite of apps around fertility and pregnancy. And now affirm, it's a platform that allows you to buy millions of products by splitting up the payments into equal installments. This is one of those rare how I built this episodes, where the interview went on for such a long time. And the interviewee was filled with so many great stories and insights that we broke it up into two episodes. And if you missed last week's episode, please go back and start there before continuing with this one last week, we heard about the origin story of PayPal and all the characters who helped build it, including Reed Hoffman, Peter teal, and Elon Musk PayPal eventually sold to E-bay for one and a half billion dollars.\n",
      "\n",
      "\n",
      "    </transcript>\n",
      "\n",
      "    If you don't see a relevant question and answer in the transcript, respond with \"Question/Answer not found.\" \n",
      "    Only respond with the answer to the question.\n",
      "    \n",
      "Affirm Max Levchin (Part 2 of 2) \n",
      " Question/Answer not found. \n",
      "\n",
      "---------------------------------------------------\n",
      "Air Lease Corporation\n",
      "\n",
      "    You are a transcription analyst assistant. You are given portions of a transcription in order to extract the guests answer.\n",
      "    We are working with transcriptions from the podcast \"How I Built This\" where the host Guy Raz interviews entrepreneurs. \n",
      "    Typically towards the end of the interview he will ask a question regarding to what extent the entrepreneur attributes their success to skill, hard work, and/or intelligence versus luck.\n",
      "    Your task is to extract the answer from the transcriptions. Remember that these are transcriptions so words can be mispelled like \"lock\" instead of \"luck\" or \"intelligents\" instead of \"intelligence\".\n",
      "\n",
      "    The answer is typically a few sentences long and can be found in the same paragraph or in the following paragraphs depending on their thoughts.\n",
      "\n",
      "    <Examples>\n",
      "    \n",
      "    Example Question: When you think about the success of what you created, how much do you think it has to do with, with how hard you worked and your intelligence and how much do you think it had to do with luck?\n",
      "    Example Answer: It's probably 50 50. Look, I, I actually, so I think every CEO who I've met, they have some minimum level of intelligence, right. But they're oftentimes not the smartest person in the room. And I, I would put myself in that category too. Like, I'm, you know, I met some minimum bar, but I'm not the smartest person. What I am is probably quite determined. There is a part of my personality. This might be a little bit like that being on the spectrum thing or whatever, but it's just like, whether it's like a really good day or a really bad day, I'm sort of even keeled. And I'm often just like, okay, well what's the next step? How do we fix it? And let's keep making progress even over like a decade or more. I can be quite resilient in that regard. But I guess the other thing I would say just about luck, absolutely luck played a big role in Coinbase. I mean, there were certain moments early on in our history where if a coin had flipped the other way we might not be here. I think we got very lucky with sort of the timing of when the company decided to launch and when crypto decided to grow, I think that I kind of just kept trying things until eventually one of them hit. Right. Which is, it's a way of unifying those two ideas. It's, it's definitely a lot of luck when it works. But if you just keep trying, you can kind of make your own luck.\n",
      "\n",
      "    Example Question: Do you, I mean, obviously worked extremely hard making this happen, but I think you did have some incredibly fortunate breaks that you'd like, you couldn't control like male camp. Do you, are, are you a believer in luck or do you think that what happened really has to do with just how strategic and smart you guys were?\n",
      "    Example Answer: I totally believe in luck. I mean, but I think it comes from constantly striving and looking for that silver bullet. And when I look back on my 20 years, it felt like I was always looking for the answer, always looking for what is the playbook that I'm missing? You know, it's constantly searching. And then all along the way, stumbling upon something that actually does better than my wildest dreams. I don't know. It, it, I, I, I always had in my mind that I was just a bumbling idiot from of a Georgia who stumbled into business. And somewhere out there, someone knew the right answer of how to run my business. Right. And these days, these days, you know, MailChimp is much bigger. And I get invited to ritzy events with some really great business leaders. And I remember being in one recently where a head of one of Microsoft's cloud units, he was, he was speaking about his, how he hosts executive leadership meetings. And he says, we're still winging it. We have no idea. You know, he didn't say it that way, but he's like, we're still experimenting. You know? And this is Microsoft. And they've been around a very, very long time and they know what they're doing. So, you know, it was that moment. I realized, oh my God, nobody has the answer. We're all just winging it. Every one of us is just winging it. I don't know if that's hopeful or horrifying, but that's what I've learned.\n",
      "    \n",
      "    Example Question ...do you think it has more to do with just your intelligence and your skill or do you think that luck was a bigger factor in everything that's happened to you\n",
      "    Example Answer: so the thing I always say about lock I think it is it's the lottery and so you get sort of lottery tickets for how you know it's like how good your idea is how good your team is and how hard you work and so you take those like factors and I think how hard you work in your team or probably even bigger factors than the the idea but you still need to have something that actually would work and so you take those three things together and you get for each sort of our of production or work you get a lottery ticket and so just like the lottery if you unless you own every ticket you're not guaranteed to win because I've seen people that have are smarter than me better than me better idea than me fail because of things like luck like things not going their way and I've seen again the opposite of that and so we have been fortunate to have been have lots of Lucky breaks in our Direction but we also continue to work to get more tickets so that we could win the lottery\n",
      "    </Examples>\n",
      "\n",
      "    Transcript to extract answers from:\n",
      "    <transcript>\n",
      "    \n",
      "3 (1h 8m 41s):\n",
      "That's a good question. Look, the idea of retirement doesn't have a lot of appeal. I'm not a good golfer. I'm not a retiring type. Yeah. So I plan to continue to work and, and hopefully add some value to the industry and creating this Spark in young people about aviation and aerospace. Yeah.\n",
      "\n",
      "2 (1h 9m 6s):\n",
      "Steve, when you think about, you know, the, what, what you've built and, and, you know, starting this business so young and where you are now and, and, and you really are, I think of red. I mean, people consider you to be the most influential person in aviation. Full stop. How much of, of where you are today do you attribute to how hard you worked and, and your intelligence, and how much do you think had to do with luck?\n",
      "\n",
      "\n",
      "3 (1h 9m 31s):\n",
      "I think you need all of those. I was fortunate that my father exposed me to aviation at such a young age, and that I immediately connected myself to that. I think having come from a background where I grew up in a Communist oppressed country, but then you have a certain amount of energy that propels you to achieve greater things, and that comes from within. It's not something you can learn in school. So I'm very grateful for what America has enabled our family to achieve.\n",
      "\n",
      "1 (1s):\n",
      "This is my voice. It can tell you a lot about me, and I'm not changing it for anyone in NPRs, Black, Stories, Black Truths, you'll find a collection of NPR episodes centered on the black experience search NPR r Black Stories Black Truths, wherever you get podcasts.\n",
      "\n",
      "2 (23s):\n",
      "This advert is brought to you by McMillan Cancer Support a registered charity. Are you worried about your test results? Have no idea how to tell your mates about your cancer diagnosis. Sometimes it's difficult to open up to someone you know. You just wanna talk to someone who understands what living with cancer is like. The McMillan Online community is a free online cancer forum where you can get support 24 7 from people who know what it's like to have cancer browse groups. Ask questions to an expert. Share your experience, or just see what others have to say. You can also discuss and find support on money and work worries, practical concerns, and help with how you are feeling in addition to questions on cancer types.\n",
      "\n",
      "2 (1m 5s):\n",
      "Whatever the question you can find support from day one. Search McMillan online community@community.mcmillan.org.uk. Hey, it's guy here. And before we start the show, I recently heard a great business story from the music world. I was interviewing the rapper, Macklemore, and he took me back to a time when record labels were offering millions of dollars and he had to make a choice whether to stay independent with more risk and more reward, or take the upfront money and the security that comes with that to hear how it played out. Check out my interview with Macklemore on my other podcast. The Great Creators just search for the great creators with Guy Raz, wherever you listen to podcasts.\n",
      "\n",
      "2 (1m 47s):\n",
      "And now onto today's show,\n",
      "\n",
      "\n",
      "3 (1m 53s):\n",
      "Running an airline is a miserable thing. It's 24 7 and everything goes wrong. and I said, the guy that was making money off this project is the guy in Arizona.\n",
      "\n",
      "2 (2m 6s):\n",
      "Not you,\n",
      "\n",
      "\n",
      "3 (1h 7m 57s):\n",
      "So I would say a large number of the customers that I L F C had migrated to air lease on their own volition.\n",
      "\n",
      "2 (1h 8m 4s):\n",
      "Yeah. Yeah. I I have to assume that you recovered your losses more than recovered than with your, certainly with your new business. And now you have, I mean, you're, you know, you're, you're still running this business and you are, you know, not an old guy, but you're not, you know, 23 anymore. And, and I wonder, I mean, you have obviously enormous resources to do whatever you want and you've got a foundation. But I wonder, what do you think you're gonna do? I mean, you can't possibly spend a fraction of the money that you've made in your lifetime. So, what do you think you'll do with it?\n",
      "\n",
      "\n",
      "3 (1h 8m 41s):\n",
      "That's a good question. Look, the idea of retirement doesn't have a lot of appeal. I'm not a good golfer. I'm not a retiring type. Yeah. So I plan to continue to work and, and hopefully add some value to the industry and creating this Spark in young people about aviation and aerospace. Yeah.\n",
      "\n",
      "2 (1h 9m 6s):\n",
      "Steve, when you think about, you know, the, what, what you've built and, and, you know, starting this business so young and where you are now and, and, and you really are, I think of red. I mean, people consider you to be the most influential person in aviation. Full stop. How much of, of where you are today do you attribute to how hard you worked and, and your intelligence, and how much do you think had to do with luck?\n",
      "\n",
      "\n",
      "    </transcript>\n",
      "\n",
      "    If you don't see a relevant question and answer in the transcript, respond with \"Question/Answer not found.\" \n",
      "    Only respond with the answer to the question.\n",
      "    \n",
      "Air Lease Corporation Steven Udvar-Hazy \n",
      " I think you need all of those. I was fortunate that my father exposed me to aviation at such a young age, and that I immediately connected myself to that. I think having come from a background where I grew up in a Communist oppressed country, but then you have a certain amount of energy that propels you to achieve greater things, and that comes from within. It's not something you can learn in school. So I'm very grateful for what America has enabled our family to achieve. \n",
      "\n",
      "---------------------------------------------------\n",
      "Airbnb\n",
      "\n",
      "    You are a transcription analyst assistant. You are given portions of a transcription in order to extract the guests answer.\n",
      "    We are working with transcriptions from the podcast \"How I Built This\" where the host Guy Raz interviews entrepreneurs. \n",
      "    Typically towards the end of the interview he will ask a question regarding to what extent the entrepreneur attributes their success to skill, hard work, and/or intelligence versus luck.\n",
      "    Your task is to extract the answer from the transcriptions. Remember that these are transcriptions so words can be mispelled like \"lock\" instead of \"luck\" or \"intelligents\" instead of \"intelligence\".\n",
      "\n",
      "    The answer is typically a few sentences long and can be found in the same paragraph or in the following paragraphs depending on their thoughts.\n",
      "\n",
      "    <Examples>\n",
      "    \n",
      "    Example Question: When you think about the success of what you created, how much do you think it has to do with, with how hard you worked and your intelligence and how much do you think it had to do with luck?\n",
      "    Example Answer: It's probably 50 50. Look, I, I actually, so I think every CEO who I've met, they have some minimum level of intelligence, right. But they're oftentimes not the smartest person in the room. And I, I would put myself in that category too. Like, I'm, you know, I met some minimum bar, but I'm not the smartest person. What I am is probably quite determined. There is a part of my personality. This might be a little bit like that being on the spectrum thing or whatever, but it's just like, whether it's like a really good day or a really bad day, I'm sort of even keeled. And I'm often just like, okay, well what's the next step? How do we fix it? And let's keep making progress even over like a decade or more. I can be quite resilient in that regard. But I guess the other thing I would say just about luck, absolutely luck played a big role in Coinbase. I mean, there were certain moments early on in our history where if a coin had flipped the other way we might not be here. I think we got very lucky with sort of the timing of when the company decided to launch and when crypto decided to grow, I think that I kind of just kept trying things until eventually one of them hit. Right. Which is, it's a way of unifying those two ideas. It's, it's definitely a lot of luck when it works. But if you just keep trying, you can kind of make your own luck.\n",
      "\n",
      "    Example Question: Do you, I mean, obviously worked extremely hard making this happen, but I think you did have some incredibly fortunate breaks that you'd like, you couldn't control like male camp. Do you, are, are you a believer in luck or do you think that what happened really has to do with just how strategic and smart you guys were?\n",
      "    Example Answer: I totally believe in luck. I mean, but I think it comes from constantly striving and looking for that silver bullet. And when I look back on my 20 years, it felt like I was always looking for the answer, always looking for what is the playbook that I'm missing? You know, it's constantly searching. And then all along the way, stumbling upon something that actually does better than my wildest dreams. I don't know. It, it, I, I, I always had in my mind that I was just a bumbling idiot from of a Georgia who stumbled into business. And somewhere out there, someone knew the right answer of how to run my business. Right. And these days, these days, you know, MailChimp is much bigger. And I get invited to ritzy events with some really great business leaders. And I remember being in one recently where a head of one of Microsoft's cloud units, he was, he was speaking about his, how he hosts executive leadership meetings. And he says, we're still winging it. We have no idea. You know, he didn't say it that way, but he's like, we're still experimenting. You know? And this is Microsoft. And they've been around a very, very long time and they know what they're doing. So, you know, it was that moment. I realized, oh my God, nobody has the answer. We're all just winging it. Every one of us is just winging it. I don't know if that's hopeful or horrifying, but that's what I've learned.\n",
      "    \n",
      "    Example Question ...do you think it has more to do with just your intelligence and your skill or do you think that luck was a bigger factor in everything that's happened to you\n",
      "    Example Answer: so the thing I always say about lock I think it is it's the lottery and so you get sort of lottery tickets for how you know it's like how good your idea is how good your team is and how hard you work and so you take those like factors and I think how hard you work in your team or probably even bigger factors than the the idea but you still need to have something that actually would work and so you take those three things together and you get for each sort of our of production or work you get a lottery ticket and so just like the lottery if you unless you own every ticket you're not guaranteed to win because I've seen people that have are smarter than me better than me better idea than me fail because of things like luck like things not going their way and I've seen again the opposite of that and so we have been fortunate to have been have lots of Lucky breaks in our Direction but we also continue to work to get more tickets so that we could win the lottery\n",
      "    </Examples>\n",
      "\n",
      "    Transcript to extract answers from:\n",
      "    <transcript>\n",
      "    \n",
      "4 (20m 37s):\n",
      "This is when people tend to quit\n",
      "\n",
      "0 (20m 43s):\n",
      "In a moment when we come back, how Joe Gaia and his partners eventually climb their way out of that trough of sorrow. I'm Guy Ross, and you're listening to how I built this from npr. You probably already figured this out, but I'm sort of a nerd for innovative ideas and products and I love to cook. Well, today's sponsor, Thermador has been making some huge new breakthroughs in the kitchen with their industry leading induction cooking appliances. What makes Thermador induction cooking products best in class are not only their sleek clean lines and quality craftsmanship, but their professional style performance.\n",
      "\n",
      "0 (21m 26s):\n",
      "Thermador induction is powerful enough for searing proteins and precise enough to simmer the most delicate sauces. You can learn more and explore the entire groundbreaking induction innovation collection, including all new wifi enabled induction ranges coming this summer at thermador.com/built. That's thermador.com/built. If car designers can make cars look like anything, why are there so many boring cars? Nissan dares to design what others won't By approaching each project in a completely different way? Nissan Design gives you everything from the adventurous frontier to the Zs iconic sports car styling to the futuristic aria all in one brand.\n",
      "\n",
      "0 (22m 9s):\n",
      "Each Nissan vehicle has its own story and identity. Nissan knows that thrill isn't just about zero to 60. Thrill should start the moment you see a car from the arc of the roof to the way the headlamp meets the grill. Every detail of a Nissan vehicle is designed to get your heart racing before you ever press start. Nissan knows what thrill looks like because they design it into every vehicle they make. Learn more about the 2023 lineup@nissanusa.com. If you're\n",
      "\n",
      "5 (22m 36s):\n",
      "Struggling with stress, burnout, anxiety, or have trouble sleeping, cerebral can help. Cerebral offers 100% online personalized mental healthcare plans that include therapy and medication management. You can choose your clinician from cerebrals, vetted and trained team of experts, and attend all your sessions from the comfort and convenience of your own home. Get started with or without insurance and only pay one flat monthly rate. And for mental health awareness month, this may, you can get an exclusive 50% off your first month with cerebral.com/wondery. That's cerebral.com/wondery for 50% off your first month.\n",
      "\n",
      "0 (23m 22s):\n",
      "Just one more thing before we get back to the show. We've been incredibly inspired by the hundreds of stories you've sent us about the companies you are building. Let me just read a few examples here. We heard from Seth Hill, he's got a company that's taking pre-orders for a product that grew out of a camping trip. And on that trip he says, we grabbed our nylon hammock, strung them up on a little little island in the middle of a lake and froze our butts off. So he's now got a prototype for a product he calls Sway. It's an insulated hammock that he says solves cold butt syndrome, which is a real thing. Look it up. We also heard from Leah Farini. She started Selina artisanal Pasta two years ago in Los Angeles.\n",
      "\n",
      "0 (24m 5s):\n",
      "She's never had a business before and she's had some real hurdles. Like she says, she engaged in some hand to hand combat with her pasta extruder and she lost. But Leah is doing okay. Her organic pasta is already for sale online and in whole food stores in Southern California. We also heard from Larry Moss of Rochester, New York. He writes, I built my business out of thin air based on a product that typically lasts a week. And Larry is talking about balloons, like the kind you make balloon animals out of, except his balloon sculptures are gigantic. They can literally fill a whole building. You can check out his story and the amazing pictures on our Facebook page. And while you're there, we'd love it if you'd like us.\n",
      "\n",
      "0 (24m 48s):\n",
      "And if you wanna send us your story about what you are building, go to build.npr.org. That's build with ad.npr.org. It's how I built this from npr. I'm Guy Raz, so it's 2008. Joe and his partners have no investors and a lot of credit card debt, and they're trying to figure out how to raise cash.\n",
      "\n",
      "\n",
      "4 (25m 17s):\n",
      "It was at this point that Brian and I are in the kitchen late one night. It's like two in the morning and we're just trying to keep each other's spirits up. And it's during the, the peak of Obama versus McCain. This is like September about eight. And we're riffing on this idea of being airbed and breakfast and providing maybe we gave our hosts some breakfast cereal to give to their guests. Oh, wouldn't it be funny if it was politically themed? Oh yeah. We could call it like Obama owes the Breakfast of Change or maybe Cat McCain's a maverick in every bite. And we actually ended up making breakfast cereal.\n",
      "\n",
      "0 (25m 53s):\n",
      "Wait, you made breakfast cereal, like actual cereal to eat?\n",
      "\n",
      "\n",
      "4 (37m 59s):\n",
      "It's precisely around this time. So what I've learned is that when the gears start to click, investors can hear that. And they actually, this time they came to us and we had offers coming in from a variety of different groups. And the one that shocked us the most was Sequoia Capital, which was a pre, it is a preeminent venture capital firm in Silicon Valley that we thought, well, maybe one day, like a year from now, we'll go talk to them. But actually they were knocking our door, our door to talk to us and we ended up closing a deal with them. We got our first round of financing, which was a huge relief. We could pay rent comfortably and we could hire, start to hire a team.\n",
      "\n",
      "0 (38m 44s):\n",
      "I'm wondering, at, at what point do you remember sort of sitting with, with Nate and Brian and saying, I think this is gonna be really big?\n",
      "\n",
      "\n",
      "4 (38m 51s):\n",
      "Well, one night, this is in two, 2010, it was probably like 1130 at night. I was really tired. I'm at the, at this point we have an office and I used to look at every listing that got added to Airbnb. I I would go through it at night and just click through each of them and I come across this one that says Fiji Island. And I'm like, Hmm, what's that? I click on it and sure enough, somebody out in the South Pacific listed a five acre private island on our site.\n",
      "\n",
      "0 (39m 23s):\n",
      "Wow.\n",
      "\n",
      "\n",
      "4 (29m 14s):\n",
      "You know, would you take a look at their application if they send it to you? And Paul writes back and says, yeah, if they get it to me by midnight tonight. Wow. So Brian and I race home, it's like 10 o'clock at this point. We start to fill out the application. It's pretty intense. Yeah. This is the next day we get this call back that our application got accepted. So we got to the next round, which was an interview. So we, we prepared in advance, we would grill each other with all these really tough questions. What's your growth rate? How do you plan to expand internationally? You know, what's the next big feature you're gonna build? Et cetera, et cetera. Hmm. And so we go into the interview, it's in the small tiny room at the Y Combinator office and there's four partners around the table. We sit down and the very first thing at a Paul Graham's mouth is, you mean people actually use this?\n",
      "\n",
      "\n",
      "4 (29m 59s):\n",
      "And we go, yeah. And he goes, well that's weird. Wow. Let me say that's not a great way to start an interview of any kind. It kind of went downhill from there. We're walking outta the room kind of thinking like, this is our last chance effort. And it didn't go so well. And that's when I remembered that I had brought a box of Obama owes to give to him as a gift. So I go running back into the room, I whip out the box, I hand it to him, I go, Hey Paul, we got this for you. And he goes, oh, where'd you buy this? And I go, well, we made it. And he goes, what do you mean you made it? And I told him the story in 60 seconds. And he goes, wait, so you guys funded your company based on selling breakfast cereal?\n",
      "\n",
      "\n",
      "    </transcript>\n",
      "\n",
      "    If you don't see a relevant question and answer in the transcript, respond with \"Question/Answer not found.\" \n",
      "    Only respond with the answer to the question.\n",
      "    \n",
      "Airbnb Joe Gebbia \n",
      " Question/Answer not found. \n",
      "\n",
      "---------------------------------------------------\n",
      "Alamo Drafthouse Cinema\n",
      "\n",
      "    You are a transcription analyst assistant. You are given portions of a transcription in order to extract the guests answer.\n",
      "    We are working with transcriptions from the podcast \"How I Built This\" where the host Guy Raz interviews entrepreneurs. \n",
      "    Typically towards the end of the interview he will ask a question regarding to what extent the entrepreneur attributes their success to skill, hard work, and/or intelligence versus luck.\n",
      "    Your task is to extract the answer from the transcriptions. Remember that these are transcriptions so words can be mispelled like \"lock\" instead of \"luck\" or \"intelligents\" instead of \"intelligence\".\n",
      "\n",
      "    The answer is typically a few sentences long and can be found in the same paragraph or in the following paragraphs depending on their thoughts.\n",
      "\n",
      "    <Examples>\n",
      "    \n",
      "    Example Question: When you think about the success of what you created, how much do you think it has to do with, with how hard you worked and your intelligence and how much do you think it had to do with luck?\n",
      "    Example Answer: It's probably 50 50. Look, I, I actually, so I think every CEO who I've met, they have some minimum level of intelligence, right. But they're oftentimes not the smartest person in the room. And I, I would put myself in that category too. Like, I'm, you know, I met some minimum bar, but I'm not the smartest person. What I am is probably quite determined. There is a part of my personality. This might be a little bit like that being on the spectrum thing or whatever, but it's just like, whether it's like a really good day or a really bad day, I'm sort of even keeled. And I'm often just like, okay, well what's the next step? How do we fix it? And let's keep making progress even over like a decade or more. I can be quite resilient in that regard. But I guess the other thing I would say just about luck, absolutely luck played a big role in Coinbase. I mean, there were certain moments early on in our history where if a coin had flipped the other way we might not be here. I think we got very lucky with sort of the timing of when the company decided to launch and when crypto decided to grow, I think that I kind of just kept trying things until eventually one of them hit. Right. Which is, it's a way of unifying those two ideas. It's, it's definitely a lot of luck when it works. But if you just keep trying, you can kind of make your own luck.\n",
      "\n",
      "    Example Question: Do you, I mean, obviously worked extremely hard making this happen, but I think you did have some incredibly fortunate breaks that you'd like, you couldn't control like male camp. Do you, are, are you a believer in luck or do you think that what happened really has to do with just how strategic and smart you guys were?\n",
      "    Example Answer: I totally believe in luck. I mean, but I think it comes from constantly striving and looking for that silver bullet. And when I look back on my 20 years, it felt like I was always looking for the answer, always looking for what is the playbook that I'm missing? You know, it's constantly searching. And then all along the way, stumbling upon something that actually does better than my wildest dreams. I don't know. It, it, I, I, I always had in my mind that I was just a bumbling idiot from of a Georgia who stumbled into business. And somewhere out there, someone knew the right answer of how to run my business. Right. And these days, these days, you know, MailChimp is much bigger. And I get invited to ritzy events with some really great business leaders. And I remember being in one recently where a head of one of Microsoft's cloud units, he was, he was speaking about his, how he hosts executive leadership meetings. And he says, we're still winging it. We have no idea. You know, he didn't say it that way, but he's like, we're still experimenting. You know? And this is Microsoft. And they've been around a very, very long time and they know what they're doing. So, you know, it was that moment. I realized, oh my God, nobody has the answer. We're all just winging it. Every one of us is just winging it. I don't know if that's hopeful or horrifying, but that's what I've learned.\n",
      "    \n",
      "    Example Question ...do you think it has more to do with just your intelligence and your skill or do you think that luck was a bigger factor in everything that's happened to you\n",
      "    Example Answer: so the thing I always say about lock I think it is it's the lottery and so you get sort of lottery tickets for how you know it's like how good your idea is how good your team is and how hard you work and so you take those like factors and I think how hard you work in your team or probably even bigger factors than the the idea but you still need to have something that actually would work and so you take those three things together and you get for each sort of our of production or work you get a lottery ticket and so just like the lottery if you unless you own every ticket you're not guaranteed to win because I've seen people that have are smarter than me better than me better idea than me fail because of things like luck like things not going their way and I've seen again the opposite of that and so we have been fortunate to have been have lots of Lucky breaks in our Direction but we also continue to work to get more tickets so that we could win the lottery\n",
      "    </Examples>\n",
      "\n",
      "    Transcript to extract answers from:\n",
      "    <transcript>\n",
      "    \n",
      "0 (1h 18m 25s):\n",
      "Yeah. If you think about all the ups and downs of this and it's a tough business and you guys have really been up and down and up and down and up and, and have really built, you know, this incredible thing that, you know, people know and has, has become kind of like a model for other competitors and others to kind of create a, a almost like a dinner theater experience. How much of, of where you are today do you attribute to just how hard you worked the both of you, and how much to the luck that you came across?\n",
      "\n",
      "7 (1h 18m 60s):\n",
      "I would say that a lot of it has to do with hard work. We worked 11 hours a day for seven days a week for probably five years. But at the same time we have been incredibly lucky because of all of the people that we've come across who have been so supportive and kind from the film distributors early on to the people who helped us get started in Austin. We didn't tell you the story about the food purveyor at Cisco, who knew that we were an impoverished couple that was asking him for samples to develop our menu just so that we would have something to eat.\n",
      "\n",
      "7 (1h 19m 41s):\n",
      "And he provided us with huge amounts of samples. Anyway, he knew that that's what we were doing and he did it anyway, so yeah. Also a good deal of luck in there,\n",
      "\n",
      "\n",
      "0 (1h 19m 52s):\n",
      "Tim.\n",
      "\n",
      "5 (1h 19m 54s):\n",
      "Oh, you know, it's, it's, it's definitely a mix, you know, and I'm, I'm not unaware of like, the basic luck that I have, just the privilege of having a stable family life and supporting parents and a good education and not really like having a nuclear family. It just like, it's, you know, it's all I know, right? But I know that that's not everybody. And I, I'm keenly aware that that has given me what others don't have. And, you know, I, I certainly work really hard. I I still like doing it. And on the flip side, just like, like life is just full of these weird little moments like having a lease sign pop up or you know, that we were able to get financing before we ran out of payroll.\n",
      "\n",
      "5 (1h 20m 46s):\n",
      "Right. So I, I put the scales more, more in luck than in hard work, but gosh darn, I can work pretty hard when I need to.\n",
      "\n",
      "\n",
      "0 (1h 19m 52s):\n",
      "Tim.\n",
      "\n",
      "5 (1h 19m 54s):\n",
      "Oh, you know, it's, it's, it's definitely a mix, you know, and I'm, I'm not unaware of like, the basic luck that I have, just the privilege of having a stable family life and supporting parents and a good education and not really like having a nuclear family. It just like, it's, you know, it's all I know, right? But I know that that's not everybody. And I, I'm keenly aware that that has given me what others don't have. And, you know, I, I certainly work really hard. I I still like doing it. And on the flip side, just like, like life is just full of these weird little moments like having a lease sign pop up or you know, that we were able to get financing before we ran out of payroll.\n",
      "\n",
      "5 (1h 20m 46s):\n",
      "Right. So I, I put the scales more, more in luck than in hard work, but gosh darn, I can work pretty hard when I need to.\n",
      "\n",
      "\n",
      "0 (1h 20m 57s):\n",
      "That's Tim and Carrie League, co-founders of Alamo Drafthouse Cinema. Three years ago Tim stepped down as CEO and became executive chairman. He's now working on a new concept, a luxury movie viewing experience with good wines, small plates and private viewing. And they plan to open the first one in 2024 in a refurbished Arch Deco theater on Manhattan's Upper West Side. Hey, thanks so much for listening to the show this week. Please make sure to click the follow button on your podcast app so you never miss a new episode of the show. And it's totally free. This episode was produced by Carla Estevez, with music composed by Rameen era Bluey.\n",
      "\n",
      "\n",
      "0 (1h 6m 11s):\n",
      "Amazing. I mean this is like a, this is like a, a great example of why like mediation is often a better option than lawsuits. Yeah. Because you could, I mean he's basically saying, why are we going through this? Let's just work together. Yeah. I mean, what incredible maturity and foresight.\n",
      "\n",
      "5 (1h 6m 29s):\n",
      "I agree. And the beauty was that once we did it, cuz obviously cutting ahead, we said yes. And the idea of growing so that we can truly support the movies that we love got super exciting and helping craft that plant to open in LA to open in New York and to like, to be a force in the industry. That was a totally different game. And they had built a great structure and system and knew how to grow. Yeah. Knew how to expand. They had, you know, running laps around us in accounting, in operations and, and we had the perfect counter strengths.\n",
      "\n",
      "\n",
      "0 (1h 7m 8s):\n",
      "Okay, so these, this thing, I love this this thing that, that, and it kind of happened again serendipitously, although probably at the time, I don't know if it if it ever, ever thought it would happen that way or or work out that way. But you guys have had this kind of very strict policy, let's say about noise. Like I don't know if, if if, if you've ever heard of like a Keith Jarret concert. Yeah. Like Keith, if you cough at a Keith dirt concert, like he will, he will look at you and ask you to leave. Like he will walk upstage if he hears like candy wrappers. Right. And your policy was like that around phone texting. Like if you text in a theater, you know, we'll kick you out.\n",
      "\n",
      "\n",
      "    </transcript>\n",
      "\n",
      "    If you don't see a relevant question and answer in the transcript, respond with \"Question/Answer not found.\" \n",
      "    Only respond with the answer to the question.\n",
      "    \n",
      "Alamo Drafthouse Cinema Tim and Karrie League \n",
      " Question/Answer not found. \n",
      "\n",
      "---------------------------------------------------\n",
      "Alienware\n",
      "\n",
      "    You are a transcription analyst assistant. You are given portions of a transcription in order to extract the guests answer.\n",
      "    We are working with transcriptions from the podcast \"How I Built This\" where the host Guy Raz interviews entrepreneurs. \n",
      "    Typically towards the end of the interview he will ask a question regarding to what extent the entrepreneur attributes their success to skill, hard work, and/or intelligence versus luck.\n",
      "    Your task is to extract the answer from the transcriptions. Remember that these are transcriptions so words can be mispelled like \"lock\" instead of \"luck\" or \"intelligents\" instead of \"intelligence\".\n",
      "\n",
      "    The answer is typically a few sentences long and can be found in the same paragraph or in the following paragraphs depending on their thoughts.\n",
      "\n",
      "    <Examples>\n",
      "    \n",
      "    Example Question: When you think about the success of what you created, how much do you think it has to do with, with how hard you worked and your intelligence and how much do you think it had to do with luck?\n",
      "    Example Answer: It's probably 50 50. Look, I, I actually, so I think every CEO who I've met, they have some minimum level of intelligence, right. But they're oftentimes not the smartest person in the room. And I, I would put myself in that category too. Like, I'm, you know, I met some minimum bar, but I'm not the smartest person. What I am is probably quite determined. There is a part of my personality. This might be a little bit like that being on the spectrum thing or whatever, but it's just like, whether it's like a really good day or a really bad day, I'm sort of even keeled. And I'm often just like, okay, well what's the next step? How do we fix it? And let's keep making progress even over like a decade or more. I can be quite resilient in that regard. But I guess the other thing I would say just about luck, absolutely luck played a big role in Coinbase. I mean, there were certain moments early on in our history where if a coin had flipped the other way we might not be here. I think we got very lucky with sort of the timing of when the company decided to launch and when crypto decided to grow, I think that I kind of just kept trying things until eventually one of them hit. Right. Which is, it's a way of unifying those two ideas. It's, it's definitely a lot of luck when it works. But if you just keep trying, you can kind of make your own luck.\n",
      "\n",
      "    Example Question: Do you, I mean, obviously worked extremely hard making this happen, but I think you did have some incredibly fortunate breaks that you'd like, you couldn't control like male camp. Do you, are, are you a believer in luck or do you think that what happened really has to do with just how strategic and smart you guys were?\n",
      "    Example Answer: I totally believe in luck. I mean, but I think it comes from constantly striving and looking for that silver bullet. And when I look back on my 20 years, it felt like I was always looking for the answer, always looking for what is the playbook that I'm missing? You know, it's constantly searching. And then all along the way, stumbling upon something that actually does better than my wildest dreams. I don't know. It, it, I, I, I always had in my mind that I was just a bumbling idiot from of a Georgia who stumbled into business. And somewhere out there, someone knew the right answer of how to run my business. Right. And these days, these days, you know, MailChimp is much bigger. And I get invited to ritzy events with some really great business leaders. And I remember being in one recently where a head of one of Microsoft's cloud units, he was, he was speaking about his, how he hosts executive leadership meetings. And he says, we're still winging it. We have no idea. You know, he didn't say it that way, but he's like, we're still experimenting. You know? And this is Microsoft. And they've been around a very, very long time and they know what they're doing. So, you know, it was that moment. I realized, oh my God, nobody has the answer. We're all just winging it. Every one of us is just winging it. I don't know if that's hopeful or horrifying, but that's what I've learned.\n",
      "    \n",
      "    Example Question ...do you think it has more to do with just your intelligence and your skill or do you think that luck was a bigger factor in everything that's happened to you\n",
      "    Example Answer: so the thing I always say about lock I think it is it's the lottery and so you get sort of lottery tickets for how you know it's like how good your idea is how good your team is and how hard you work and so you take those like factors and I think how hard you work in your team or probably even bigger factors than the the idea but you still need to have something that actually would work and so you take those three things together and you get for each sort of our of production or work you get a lottery ticket and so just like the lottery if you unless you own every ticket you're not guaranteed to win because I've seen people that have are smarter than me better than me better idea than me fail because of things like luck like things not going their way and I've seen again the opposite of that and so we have been fortunate to have been have lots of Lucky breaks in our Direction but we also continue to work to get more tickets so that we could win the lottery\n",
      "    </Examples>\n",
      "\n",
      "    Transcript to extract answers from:\n",
      "    <transcript>\n",
      "    \n",
      "0 (1h 16m 43s):\n",
      "Yeah. When you guys think about, about this journey, right? You know, this, this thing has started in 96, 97, the garage soul for, you know, who knows how many millions of dollars to Dell, but a lot. And you built a brand that is really enduring, you know, certainly, you know, one of the most prominent, you know, gaming brands in the world. How much of that do you attribute to, to how hard you worked and your skill and intelligence, and how much do you think has to do with luck, first to you, Frank?\n",
      "\n",
      "5 (1h 17m 18s):\n",
      "I think it has to do Almost entirely with the people that were involved in all of it. That was the secret sauce of Alienware was the differences in opinions and the respect that everybody had for one another. And all, all of that was there luck? There was an enormous amount of luck. So many other things could have gone wrong and a lot of things went wrong. This was not a perfect journey by any means. I mean, there was an enormous amount of a obstacles that were presented along the way, and harder work had to overcome those obstacles. But I think it's the people, and it was the luck of those people coming together that were really the driving forces from my perspective.\n",
      "\n",
      "\n",
      "0 (1h 18m 3s):\n",
      "Nelson,\n",
      "\n",
      "4 (1h 18m 5s):\n",
      "You know, interesting you say about, you know, you talk about work, I think I, if I had to give one piece of advice to an entrepreneur is if you're not smarter than they are, then I'll work them. If you have a tendency of saying, Hey, I'm, these people are smarter than me, my competitors, my whatever, but you know, I'm, I'm pretty smart too, and I cannot outwork them, so I'm gonna work hard. I think that's one of the biggest things that we all had in common. We worked really, really, really hard because we just did not have the formal training that we needed.\n",
      "\n",
      "4 (1h 18m 49s):\n",
      "But beyond all things, I think that without passion, we're nothing. And I think if you take that approach as an entrepreneur and, and, and look at business that way, and, you know, not do it just solely for the money, but for whatever else drives you, you know, I, I think you'll be okay.\n",
      "\n",
      "\n",
      "0 (1h 18m 3s):\n",
      "Nelson,\n",
      "\n",
      "4 (1h 18m 5s):\n",
      "You know, interesting you say about, you know, you talk about work, I think I, if I had to give one piece of advice to an entrepreneur is if you're not smarter than they are, then I'll work them. If you have a tendency of saying, Hey, I'm, these people are smarter than me, my competitors, my whatever, but you know, I'm, I'm pretty smart too, and I cannot outwork them, so I'm gonna work hard. I think that's one of the biggest things that we all had in common. We worked really, really, really hard because we just did not have the formal training that we needed.\n",
      "\n",
      "4 (1h 18m 49s):\n",
      "But beyond all things, I think that without passion, we're nothing. And I think if you take that approach as an entrepreneur and, and, and look at business that way, and, you know, not do it just solely for the money, but for whatever else drives you, you know, I, I think you'll be okay.\n",
      "\n",
      "\n",
      "0 (1h 19m 14s):\n",
      "That's Nelson Gonzalez and Frank Azo, two of the co-founders of Alienware. Frank is now an executive at a md, a company that makes processors and a whole range of gaming devices. In a while back, both he and Nelson were appointed to the board of yet another gaming company, game Craft. So for the first time in like 15 years, they're working together again. Before I let you go, Nelson, you said you, you, you believe in, in aliens, right? Oh\n",
      "\n",
      "5 (1h 19m 46s):\n",
      "Yeah.\n",
      "\n",
      "\n",
      "0 (1h 0m 56s):\n",
      "Tell me about the relationship between the, the, the four sort of original people involved. I mean, obviously you're still friends with Alex and the two of you are friends and you haven't worked together for a long time. We're gonna get to that in a moment. What happened to alien wear? But did you, did, did you all kind of, everybody kind of have their lane and focus on that, and was there ever any tension or, or, you know, different views about where to go and which directions to take?\n",
      "\n",
      "4 (1h 1m 29s):\n",
      "What I learned was that I did not have, I was not your typical CEO because I just didn't have the, the training or the business acumen or whatever. But if there was a disagreement, if there was debate, then fine. I actually, I welcomed it a lot. I I wanted to hear all the bad stuff first and you know, all the negative news first, and then let's focus on how we get better. Yeah. You know, so we, we and everybody for the most, they knew it was a lot of work. It was a lot of work involved, especially us that we just didn't have the, the, the, the typical tools that a, a perhaps a, an MBA coming outta school would have.\n",
      "\n",
      "4 (1h 2m 9s):\n",
      "But we figured it out and then we, we were smart enough to hire people that were smarter than us. But you mentioned contention.\n",
      "\n",
      "5 (1h 2m 19s):\n",
      "I think one of the greatest assets that we had at Alienware is how different Nelson and Alex are and were, and how much they debated every issue. They rarely ever saw eye to eye. And the beauty of that was that we would see almost every angle of a challenge or a decision that we had to make because they saw it always differently. And finally they'll debate it out. And, you know, I remember my first day on the job, I could hear them screaming downstairs and I'm a brand new employee and I looked over to Fabian and I go, what, what's going on? And he goes, don't worry about it. It'll, it'll all be over in a few minutes. But it was that contention and that debate and those, those different perspectives that helped us arrive at really good decisions.\n",
      "\n",
      "5 (1h 3m 3s):\n",
      "And ultimately I think had we not had that, we probably wouldn't have been as successful as we were.\n",
      "\n",
      "\n",
      "0 (1h 3m 10s):\n",
      "Alright. You guys are obviously, you know, you built this thing in a garage, you know, you know, in your house and, and, and less than 10 years in, you consider going public, but ultimately you get an acquisition offer from you, from Dell, from your biggest competitor from the Evil Empire, obviously. And he's, Michael Dell's been on the show, but, but, but you must have been like, they were your competitor. You probably saw them as an evil competitor.\n",
      "\n",
      "4 (1h 3m 41s):\n",
      "No, no,\n",
      "\n",
      "\n",
      "    </transcript>\n",
      "\n",
      "    If you don't see a relevant question and answer in the transcript, respond with \"Question/Answer not found.\" \n",
      "    Only respond with the answer to the question.\n",
      "    \n",
      "Alienware Frank Azor and Nelson Gonzalez \n",
      " Question/Answer not found. \n",
      "\n",
      "---------------------------------------------------\n",
      "Allbirds\n",
      "\n",
      "    You are a transcription analyst assistant. You are given portions of a transcription in order to extract the guests answer.\n",
      "    We are working with transcriptions from the podcast \"How I Built This\" where the host Guy Raz interviews entrepreneurs. \n",
      "    Typically towards the end of the interview he will ask a question regarding to what extent the entrepreneur attributes their success to skill, hard work, and/or intelligence versus luck.\n",
      "    Your task is to extract the answer from the transcriptions. Remember that these are transcriptions so words can be mispelled like \"lock\" instead of \"luck\" or \"intelligents\" instead of \"intelligence\".\n",
      "\n",
      "    The answer is typically a few sentences long and can be found in the same paragraph or in the following paragraphs depending on their thoughts.\n",
      "\n",
      "    <Examples>\n",
      "    \n",
      "    Example Question: When you think about the success of what you created, how much do you think it has to do with, with how hard you worked and your intelligence and how much do you think it had to do with luck?\n",
      "    Example Answer: It's probably 50 50. Look, I, I actually, so I think every CEO who I've met, they have some minimum level of intelligence, right. But they're oftentimes not the smartest person in the room. And I, I would put myself in that category too. Like, I'm, you know, I met some minimum bar, but I'm not the smartest person. What I am is probably quite determined. There is a part of my personality. This might be a little bit like that being on the spectrum thing or whatever, but it's just like, whether it's like a really good day or a really bad day, I'm sort of even keeled. And I'm often just like, okay, well what's the next step? How do we fix it? And let's keep making progress even over like a decade or more. I can be quite resilient in that regard. But I guess the other thing I would say just about luck, absolutely luck played a big role in Coinbase. I mean, there were certain moments early on in our history where if a coin had flipped the other way we might not be here. I think we got very lucky with sort of the timing of when the company decided to launch and when crypto decided to grow, I think that I kind of just kept trying things until eventually one of them hit. Right. Which is, it's a way of unifying those two ideas. It's, it's definitely a lot of luck when it works. But if you just keep trying, you can kind of make your own luck.\n",
      "\n",
      "    Example Question: Do you, I mean, obviously worked extremely hard making this happen, but I think you did have some incredibly fortunate breaks that you'd like, you couldn't control like male camp. Do you, are, are you a believer in luck or do you think that what happened really has to do with just how strategic and smart you guys were?\n",
      "    Example Answer: I totally believe in luck. I mean, but I think it comes from constantly striving and looking for that silver bullet. And when I look back on my 20 years, it felt like I was always looking for the answer, always looking for what is the playbook that I'm missing? You know, it's constantly searching. And then all along the way, stumbling upon something that actually does better than my wildest dreams. I don't know. It, it, I, I, I always had in my mind that I was just a bumbling idiot from of a Georgia who stumbled into business. And somewhere out there, someone knew the right answer of how to run my business. Right. And these days, these days, you know, MailChimp is much bigger. And I get invited to ritzy events with some really great business leaders. And I remember being in one recently where a head of one of Microsoft's cloud units, he was, he was speaking about his, how he hosts executive leadership meetings. And he says, we're still winging it. We have no idea. You know, he didn't say it that way, but he's like, we're still experimenting. You know? And this is Microsoft. And they've been around a very, very long time and they know what they're doing. So, you know, it was that moment. I realized, oh my God, nobody has the answer. We're all just winging it. Every one of us is just winging it. I don't know if that's hopeful or horrifying, but that's what I've learned.\n",
      "    \n",
      "    Example Question ...do you think it has more to do with just your intelligence and your skill or do you think that luck was a bigger factor in everything that's happened to you\n",
      "    Example Answer: so the thing I always say about lock I think it is it's the lottery and so you get sort of lottery tickets for how you know it's like how good your idea is how good your team is and how hard you work and so you take those like factors and I think how hard you work in your team or probably even bigger factors than the the idea but you still need to have something that actually would work and so you take those three things together and you get for each sort of our of production or work you get a lottery ticket and so just like the lottery if you unless you own every ticket you're not guaranteed to win because I've seen people that have are smarter than me better than me better idea than me fail because of things like luck like things not going their way and I've seen again the opposite of that and so we have been fortunate to have been have lots of Lucky breaks in our Direction but we also continue to work to get more tickets so that we could win the lottery\n",
      "    </Examples>\n",
      "\n",
      "    Transcript to extract answers from:\n",
      "    <transcript>\n",
      "    \n",
      "0 (1h 5m 48s):\n",
      "How much do you think this, all that has happened to you because of luck or because of your skill and, and hard work,\n",
      "\n",
      "2 (1h 5m 55s):\n",
      "You know, along the way, whether it be meeting Joey, all the, the different characters along the way that that popped up seemingly at the right time, you can't call that anything other than, than luck. But there was, there was a lot of different offer ramps along this journey where if you were logical and rational, you would've stopped. And for whatever reason, we've, you know, we've kept going. And when it's just seemed like it was impossible, we've, we've managed to find a different solution and, and keep on going a little bit and you need that. And, and, you know, but if, if, if we've had any luck, if I've had any luck personally, I mean, I, I think we've been given an enormous leg up with our families and with our, our mum and dad and now with our, with our wives and, and, you know, that was a, that was a loving household, that valued education that encouraged us to go and take risks and do what we wanted to do.\n",
      "\n",
      "2 (1h 6m 49s):\n",
      "And not everyone has that. And it's been enormously important part of the journey because I think we've lent on them right now. I have at key moments, very, very heavily to keep on going.\n",
      "\n",
      "3 (1h 6m 59s):\n",
      "Yeah, I think they're, they're inextricably linked. I've always thought of luck as some random event happening to you, but that happens. And then what are you gonna do with it? And I think we've, we've had the good fortune together to, to have great timing across a whole host of things. Like we could start a business and put up a website in seven months and reach 10,000 people in, in, in a week. But we also, you know, we, we seized and capitalized on that opportunity and we worked super hard and made some good decisions along the way to turn that luck into something that was really positive. So I just, I just think you can't, can't really separate those, those ideas or that construct.\n",
      "\n",
      "3 (1h 7m 42s):\n",
      "And, and fortunately, we've, we've done a, we've had a good bit of both\n",
      "\n",
      "\n",
      "0 (1h 7m 50s):\n",
      "That's Joey's Wheeler and Tim brown founders of Allbirds. The company recently rolled out a new material for the souls of their shoes. It's called sweet farm. And it's made from the leftover parts of sugar cane, which would otherwise be thrown away. And it's part of their ongoing effort to make avers a carbon neutral shoe. And instead of keeping the recipe a secret, they've actually open sourced it so that anyone who wants to make souls out of sugar can do it.\n",
      "\n",
      "4 (1h 8m 25s):\n",
      "Business wars is a podcast from one tree that shares entertaining and eye-opening stories about the fights feuds and boardroom backstabbing behind the world's greatest business rivalries. The stakes for these companies, couldn't be higher. The winner goes on to transform their industry and help shape the world. As we know it, the loser gets a footnote in the history books in business. There's no prize for second place. The newest season of business wars explores the bitter fight between two entertainment giants over ownership of paramount pictures in the nineties. QVC wanted to combine forces with paramount pictures to create the first ever retail and media empire, but not if Viacom had anything to do with it. The clash between the two CEOs resulted in a grudge match where friends became enemies, billions were spent and the cable TV landscape was changed forever.\n",
      "\n",
      "4 (1h 9m 12s):\n",
      "Check out the battle for paramount pictures from business wars on apple podcasts, Amazon music, or wherever you listen. You can listen one week early and add free by joining Wondery plus and apple podcasts or the Wondery app.\n",
      "\n",
      "\n",
      "0 (13m 58s):\n",
      "What was the response to your, your idea?\n",
      "\n",
      "3 (14m 1s):\n",
      "The response for the company was incredible. I mean, we were, I joined in 2009 and we ended up going public in 2011. We raised over a billion dollars of money for the business. Wow. And it was, it was, it had a legitimate shot of, of doing something special. And you know, towards the end of my, my time there, I think I learned a huge amount about what not to do. And it ended up, I think, unequivocally being, being a pretty big failure, what,\n",
      "\n",
      "\n",
      "0 (14m 31s):\n",
      "What was a failure,\n",
      "\n",
      "3 (14m 32s):\n",
      "The entire business. It, it got it, it went bankrupt and then has been acquired since for some of the remnants of the technology.\n",
      "\n",
      "\n",
      "0 (1h 4m 5s):\n",
      "I, I wanna shift, you mentioned Tim, that there was a time where you were dipping into your savings. It was stressing you out back in 2014 are, do both of you feel like you can breathe a sigh of relief now that you're financially you're on stable ground, cuz your company is valued at a billion 0.6 or do you still have stress about financial matters?\n",
      "\n",
      "3 (1h 4m 25s):\n",
      "You know, it's, it's never been about neither of us really need much money to be happy and live. So it's never really been about like the big valuation of the company or anything. I think we have enough anxiety between us just to push forward that regardless of it, while we're still in there, we're still, we're still cranking and pushing. Yeah. We, we, we pay ourselves more now than we used to pay ourselves when we started the company. So we're certainly, we're certainly in a better situation financially in our, in our, our little less financial stress. But, but yeah, this, the anxiety still is palpable.\n",
      "\n",
      "2 (1h 5m 1s):\n",
      "You're always a sitting there thinking of the 10 things that you could be doing better. And then anyone who started a business will know that that feeling, oftentimes people will ask, oh gosh, it must be work long hours. And you're like, well it's not, that's the wrong question. It's it's like when you start something, this thing in six inches in your brain and you, you don't shut it off. And it's a voice that's there 24 7 all the time. And you're constantly thinking about it. And I, you know, I retired from sport and I, that, that had its pressurized moments and getting out in front of, of lots of people at times and, and playing sport. And, but this is in, in some ways greater more sustained pressure. And it's, it's a very, very difficult thing to do.\n",
      "\n",
      "2 (1h 5m 42s):\n",
      "And you know, we're certainly, we've, we've had some, some good progress, but we've got a long, long way to go to achieve what we, we want to.\n",
      "\n",
      "\n",
      "0 (1h 5m 48s):\n",
      "How much do you think this, all that has happened to you because of luck or because of your skill and, and hard work,\n",
      "\n",
      "2 (1h 5m 55s):\n",
      "You know, along the way, whether it be meeting Joey, all the, the different characters along the way that that popped up seemingly at the right time, you can't call that anything other than, than luck. But there was, there was a lot of different offer ramps along this journey where if you were logical and rational, you would've stopped. And for whatever reason, we've, you know, we've kept going. And when it's just seemed like it was impossible, we've, we've managed to find a different solution and, and keep on going a little bit and you need that. And, and, you know, but if, if, if we've had any luck, if I've had any luck personally, I mean, I, I think we've been given an enormous leg up with our families and with our, our mum and dad and now with our, with our wives and, and, you know, that was a, that was a loving household, that valued education that encouraged us to go and take risks and do what we wanted to do.\n",
      "\n",
      "2 (1h 6m 49s):\n",
      "And not everyone has that. And it's been enormously important part of the journey because I think we've lent on them right now. I have at key moments, very, very heavily to keep on going.\n",
      "\n",
      "3 (1h 6m 59s):\n",
      "Yeah, I think they're, they're inextricably linked. I've always thought of luck as some random event happening to you, but that happens. And then what are you gonna do with it? And I think we've, we've had the good fortune together to, to have great timing across a whole host of things. Like we could start a business and put up a website in seven months and reach 10,000 people in, in, in a week. But we also, you know, we, we seized and capitalized on that opportunity and we worked super hard and made some good decisions along the way to turn that luck into something that was really positive. So I just, I just think you can't, can't really separate those, those ideas or that construct.\n",
      "\n",
      "3 (1h 7m 42s):\n",
      "And, and fortunately, we've, we've done a, we've had a good bit of both\n",
      "\n",
      "\n",
      "    </transcript>\n",
      "\n",
      "    If you don't see a relevant question and answer in the transcript, respond with \"Question/Answer not found.\" \n",
      "    Only respond with the answer to the question.\n",
      "    \n",
      "Allbirds Tim Brown & Joey Zwillinger \n",
      " You know, along the way, whether it be meeting Joey, all the, the different characters along the way that that popped up seemingly at the right time, you can't call that anything other than, than luck. But there was, there was a lot of different offer ramps along this journey where if you were logical and rational, you would've stopped. And for whatever reason, we've, you know, we've kept going. And when it's just seemed like it was impossible, we've, we've managed to find a different solution and, and keep on going a little bit and you need that. And, and, you know, but if, if, if we've had any luck, if I've had any luck personally, I mean, I, I think we've been given an enormous leg up with our families and with our, our mum and dad and now with our, with our wives and, and, you know, that was a, that was a loving household, that valued education that encouraged us to go and take risks and do what we wanted to do. And not everyone has that. And it's been enormously important part of the journey because I think we've lent on them right now. I have at key moments, very, very heavily to keep on going. \n",
      "\n",
      "---------------------------------------------------\n",
      "Angie's BOOMCHICKAPOP\n",
      "\n",
      "    You are a transcription analyst assistant. You are given portions of a transcription in order to extract the guests answer.\n",
      "    We are working with transcriptions from the podcast \"How I Built This\" where the host Guy Raz interviews entrepreneurs. \n",
      "    Typically towards the end of the interview he will ask a question regarding to what extent the entrepreneur attributes their success to skill, hard work, and/or intelligence versus luck.\n",
      "    Your task is to extract the answer from the transcriptions. Remember that these are transcriptions so words can be mispelled like \"lock\" instead of \"luck\" or \"intelligents\" instead of \"intelligence\".\n",
      "\n",
      "    The answer is typically a few sentences long and can be found in the same paragraph or in the following paragraphs depending on their thoughts.\n",
      "\n",
      "    <Examples>\n",
      "    \n",
      "    Example Question: When you think about the success of what you created, how much do you think it has to do with, with how hard you worked and your intelligence and how much do you think it had to do with luck?\n",
      "    Example Answer: It's probably 50 50. Look, I, I actually, so I think every CEO who I've met, they have some minimum level of intelligence, right. But they're oftentimes not the smartest person in the room. And I, I would put myself in that category too. Like, I'm, you know, I met some minimum bar, but I'm not the smartest person. What I am is probably quite determined. There is a part of my personality. This might be a little bit like that being on the spectrum thing or whatever, but it's just like, whether it's like a really good day or a really bad day, I'm sort of even keeled. And I'm often just like, okay, well what's the next step? How do we fix it? And let's keep making progress even over like a decade or more. I can be quite resilient in that regard. But I guess the other thing I would say just about luck, absolutely luck played a big role in Coinbase. I mean, there were certain moments early on in our history where if a coin had flipped the other way we might not be here. I think we got very lucky with sort of the timing of when the company decided to launch and when crypto decided to grow, I think that I kind of just kept trying things until eventually one of them hit. Right. Which is, it's a way of unifying those two ideas. It's, it's definitely a lot of luck when it works. But if you just keep trying, you can kind of make your own luck.\n",
      "\n",
      "    Example Question: Do you, I mean, obviously worked extremely hard making this happen, but I think you did have some incredibly fortunate breaks that you'd like, you couldn't control like male camp. Do you, are, are you a believer in luck or do you think that what happened really has to do with just how strategic and smart you guys were?\n",
      "    Example Answer: I totally believe in luck. I mean, but I think it comes from constantly striving and looking for that silver bullet. And when I look back on my 20 years, it felt like I was always looking for the answer, always looking for what is the playbook that I'm missing? You know, it's constantly searching. And then all along the way, stumbling upon something that actually does better than my wildest dreams. I don't know. It, it, I, I, I always had in my mind that I was just a bumbling idiot from of a Georgia who stumbled into business. And somewhere out there, someone knew the right answer of how to run my business. Right. And these days, these days, you know, MailChimp is much bigger. And I get invited to ritzy events with some really great business leaders. And I remember being in one recently where a head of one of Microsoft's cloud units, he was, he was speaking about his, how he hosts executive leadership meetings. And he says, we're still winging it. We have no idea. You know, he didn't say it that way, but he's like, we're still experimenting. You know? And this is Microsoft. And they've been around a very, very long time and they know what they're doing. So, you know, it was that moment. I realized, oh my God, nobody has the answer. We're all just winging it. Every one of us is just winging it. I don't know if that's hopeful or horrifying, but that's what I've learned.\n",
      "    \n",
      "    Example Question ...do you think it has more to do with just your intelligence and your skill or do you think that luck was a bigger factor in everything that's happened to you\n",
      "    Example Answer: so the thing I always say about lock I think it is it's the lottery and so you get sort of lottery tickets for how you know it's like how good your idea is how good your team is and how hard you work and so you take those like factors and I think how hard you work in your team or probably even bigger factors than the the idea but you still need to have something that actually would work and so you take those three things together and you get for each sort of our of production or work you get a lottery ticket and so just like the lottery if you unless you own every ticket you're not guaranteed to win because I've seen people that have are smarter than me better than me better idea than me fail because of things like luck like things not going their way and I've seen again the opposite of that and so we have been fortunate to have been have lots of Lucky breaks in our Direction but we also continue to work to get more tickets so that we could win the lottery\n",
      "    </Examples>\n",
      "\n",
      "    Transcript to extract answers from:\n",
      "    <transcript>\n",
      "    \n",
      "1 (1h 2m 55s):\n",
      "Do you think Dan foresee you, do you think that what you achieved in this business was a result of your work and your skill and your intelligence, or do you think that luck played a big part?\n",
      "\n",
      "3 (1h 3m 5s):\n",
      "I knew this question was coming. I love it. You know, guy, I think there there's a ton of good fortune that has come our way. People have been so embracing and kind and helpful in so many ways. So many people, this crowd is the reason we're up here, but I, I, we put a lot of energy into creating an environment that was about giving to the consumer giving to the customer. I think there's some skill in that. I think I was blessed with the ability to interact with people and build rapport pretty quickly. And I knew the importance of that.\n",
      "\n",
      "3 (1h 3m 46s):\n",
      "And Anne had so many other gifts, the marketing side, the creative side, the initial finance side, that we were able to understand our talents and pull it together. And, you know, no doubt there was good, fortunate luck that comes your way at the right time. Things happen, a credit card mailing comes in and I mean, it's, there is there's luck involved in this. And we were just fortunate at the right time. We made some good decisions and rebounded well from some bad decisions. Angie\n",
      "\n",
      "4 (1h 4m 18s):\n",
      "Boy, you know, I've seen a lot of really good people work just as hard as us or harder and not experience the same good fortune that we've had. And so I, I think it does take, I mean, we made a conscious effort to create Goodwill and positivity. And when you do that, I believe that that comes back to you, but you can't do it without hard work.\n",
      "\n",
      "\n",
      "1 (1h 4m 46s):\n",
      "And G and Dan . I spoke to Angie and Dan Bastian at the Ordway concert hall in St. Paul, Minnesota. And by the way, that original kettle they bought in 2001, Angie and Dan no longer own it. When ConAgra bought the company in 2017, they also acquire that old kettle and Angie believes it is now sitting in the back of a very large storage facility somewhere in Minnesota.\n",
      "\n",
      "\n",
      "1 (1m 47s):\n",
      "From NPR. It's how I built this show about innovators, entrepreneurs, idealists, and the stories behind the movements. They built I'm guy Roz. And on the show today, how Angie and Dan bastion went from popping kettle corn and their freezing Minnesota driveway to building an international snack brand worth hundreds of millions of dollars. So there's a piece of career advice that I've always struggled with because it feels a little hollow. And the advice is to follow your passion. For starters, not everyone has an obvious passion, and then not all passions are easily translated into sustainable careers, but if you heard most of the founders on this show, you might conclude that all of them pursued their passions like James Dyson, trying to build a better vacuum cleaner, right?\n",
      "\n",
      "\n",
      "1 (40m 29s):\n",
      "But did boot, I mean, I imagine there was probably a little bit of frustration, right. Because people would probably come up to you and say, oh, you guys are Angie's. I love your kettle corn. It's awesome. You guys are crushing it or so it's so great. And meantime, you're struggling financially. Right.\n",
      "\n",
      "4 (40m 44s):\n",
      "Can I just say like, when you, when you don't have any real money to start out with, and all you have is ambition and potential and skills, you count on those things, you know, to make your way through, you know? And so we never really had any money and we did all kinds of amazing things in our lives, you know? So if this whole thing went south, we'd owe a lot of people, a lot of money, but it wouldn't stop us from living our life.\n",
      "\n",
      "\n",
      "1 (41m 10s):\n",
      "Did you feel the same way, Dan?\n",
      "\n",
      "3 (41m 12s):\n",
      "Yeah, I, I, I'm pretty, I have a pretty high tolerance for risk and debt. I mean, it was about, you know, if we had money, let's put it back in, let's grow, grow, grow, grow. And that wasn't the scariest part. The scariest part came the next spring of 2008.\n",
      "\n",
      "\n",
      "    </transcript>\n",
      "\n",
      "    If you don't see a relevant question and answer in the transcript, respond with \"Question/Answer not found.\" \n",
      "    Only respond with the answer to the question.\n",
      "    \n",
      "Angie's BOOMCHICKAPOP Angie & Dan Bastian (2019) \n",
      " Question/Answer not found. \n",
      "\n",
      "---------------------------------------------------\n"
     ]
    }
   ],
   "source": [
    "# Find all unique values for the 'company' field\n",
    "unique_companies = MONGODB_COLLECTION.distinct('company')\n",
    "\n",
    "embeddings = OpenAIEmbeddings(model=\"text-embedding-3-small\")\n",
    "\n",
    "# Create a list to store the extracted answers\n",
    "extracted_answers = []\n",
    "\n",
    "# Print all unique companies\n",
    "for company in unique_companies[:10]:\n",
    "    query = \"how much of your success do you attribute to how hard you worked, skill, and/or your intelligence and how much do you think it had to do with luck?\"\n",
    "\n",
    "    # \n",
    "\n",
    "    results = MONGODB_COLLECTION.aggregate([\n",
    "        {\"$vectorSearch\": {\n",
    "            \"index\": ATLAS_VECTOR_SEARCH_INDEX_NAME,\n",
    "            \"path\": \"embedding\",\n",
    "            \"queryVector\": embeddings.embed_query(hard_luck_prompt),\n",
    "            \"numCandidates\": 100,\n",
    "            \"limit\": 3,\n",
    "            \"filter\": {\"company\": company}\n",
    "        }}\n",
    "    ])\n",
    "    print(company)\n",
    "    # if results is empty then continue\n",
    "    if results:\n",
    "        transcript = \"\"\n",
    "        for i, doc in enumerate(results):\n",
    "            chunk_num = doc['trans_chunk_num']\n",
    "            org_filename = doc['org_filename']\n",
    "            guest = doc['guest']\n",
    "            transcript += doc['transcript']\n",
    "            try:\n",
    "                next_chunk = MONGODB_COLLECTION.find_one({\"org_filename\": org_filename, \"trans_chunk_num\": chunk_num + 1})\n",
    "                transcript += next_chunk['transcript']\n",
    "            except:\n",
    "                continue\n",
    "        extracted_answer = extract_answer(transcript)\n",
    "\n",
    "        answer = {\n",
    "            \"company\": company,\n",
    "            \"guest\": guest,\n",
    "            \"org_filename\": org_filename,\n",
    "            \"answer\": extracted_answer\n",
    "        }\n",
    "        extracted_answers.append(answer)\n",
    "        print(company, guest, \"\\n\", extracted_answer, \"\\n\")\n",
    "        print(\"---------------------------------------------------\")\n",
    "    else:\n",
    "        print(\"No results found for\", company)"
   ]
  },
  {
   "cell_type": "code",
   "execution_count": 111,
   "metadata": {},
   "outputs": [],
   "source": [
    "import json\n",
    "\n",
    "# Specify the file path where you want to save the data\n",
    "file_path = \"../answers/Anthropic_ClaudeInstant1_2_embedprompt.json\"\n",
    "\n",
    "# Save the extracted_answers list as JSON with indentation\n",
    "with open(file_path, \"w\") as file:\n",
    "    json.dump(extracted_answers, file, indent=4)\n"
   ]
  },
  {
   "cell_type": "code",
   "execution_count": 3,
   "metadata": {},
   "outputs": [
    {
     "data": {
      "text/plain": [
       "149"
      ]
     },
     "execution_count": 3,
     "metadata": {},
     "output_type": "execute_result"
    }
   ],
   "source": [
    "# check how many documents are in MONGODB_ANSWER_COLLECTION\n",
    "MONGODB_ANSWER_COLLECTION.count_documents({})"
   ]
  },
  {
   "cell_type": "code",
   "execution_count": 3,
   "metadata": {},
   "outputs": [
    {
     "data": {
      "text/plain": [
       "32"
      ]
     },
     "execution_count": 3,
     "metadata": {},
     "output_type": "execute_result"
    }
   ],
   "source": [
    "# check how many documents in MONGODB_ANSWER_COLLECTION has the answer \"Question/Answer not found.\"\n",
    "MONGODB_ANSWER_COLLECTION.count_documents({\"answer\": \"Question/Answer not found.\"})"
   ]
  },
  {
   "cell_type": "code",
   "execution_count": 13,
   "metadata": {},
   "outputs": [],
   "source": [
    "# get every unique \"org_filename\" in the collection\n",
    "all_files = MONGODB_COLLECTION.distinct('org_filename')\n",
    "# place all the unique \"org_filename\" in a list\n",
    "all_files_list = list(all_files)"
   ]
  },
  {
   "cell_type": "code",
   "execution_count": 16,
   "metadata": {},
   "outputs": [],
   "source": [
    "# get a list of all of the files in hibt_main\n",
    "path = '../podscribe_transcription/hibt_main/'\n",
    "all_trans = os.listdir(path)\n",
    "# place all the unique \"org_filename\n"
   ]
  },
  {
   "cell_type": "code",
   "execution_count": 19,
   "metadata": {},
   "outputs": [
    {
     "data": {
      "text/plain": [
       "257"
      ]
     },
     "execution_count": 19,
     "metadata": {},
     "output_type": "execute_result"
    }
   ],
   "source": [
    "len(all_trans)"
   ]
  },
  {
   "cell_type": "code",
   "execution_count": 20,
   "metadata": {},
   "outputs": [
    {
     "data": {
      "text/plain": [
       "243"
      ]
     },
     "execution_count": 20,
     "metadata": {},
     "output_type": "execute_result"
    }
   ],
   "source": [
    "len(all_files_list)"
   ]
  },
  {
   "cell_type": "code",
   "execution_count": 18,
   "metadata": {},
   "outputs": [
    {
     "data": {
      "text/plain": [
       "['Nov.02 2021, Hear Don Katz on the Amazing Story of Audible’s Founding-transcript.txt',\n",
       " 'Tofurky_ Seth Tibbott (2019)-transcript.txt',\n",
       " 'Remembering Jake Burton Carpenter-transcript.txt',\n",
       " 'Discord_ Jason Citron-transcript.txt',\n",
       " 'Walker & Company_ Tristan Walker-transcript.txt',\n",
       " \"Angie's BOOMCHICKAPOP_ Angie & Dan Bastian (2019)-transcript.txt\",\n",
       " 'Milk Bar_ Christina Tosi-transcript.txt',\n",
       " \"Luke's Lobster_ Luke Holden and Ben Conniff-transcript.txt\",\n",
       " 'OtterBox_ Curt Richardson-transcript.txt',\n",
       " 'McBride Sisters Wine (Part 1 of 2)_ Robin McBride and Andréa McBride John-transcript.txt',\n",
       " 'Spikeball_ Chris Ruder-transcript.txt',\n",
       " \"Raising Cane's_ Todd Graves-transcript.txt\",\n",
       " 'Leatherman Tool Group_ Tim Leatherman-transcript.txt',\n",
       " 'Sierra Nevada Brewing Company_ Ken Grossman-transcript.txt',\n",
       " 'Tapping the heat beneath your feet with Kathy Hannun of Dandelion Energy-transcript.txt',\n",
       " 'DoorDash_ Tony Xu-transcript.txt',\n",
       " 'Twitch_ Emmett Shear-transcript.txt',\n",
       " 'When your dinner is printed with Eshchar Ben-Shitrit of Redefine Meat-transcript.txt',\n",
       " 'Health-Ade Kombucha_ Daina Trout-transcript.txt',\n",
       " 'Logic_ Logic & Chris Zarou (2018)-transcript.txt',\n",
       " 'Robinhood_ Vlad Tenev-transcript.txt']"
      ]
     },
     "execution_count": 18,
     "metadata": {},
     "output_type": "execute_result"
    }
   ],
   "source": [
    "# display all files that are in all_trans but not in all_files_list\n",
    "missing_files = [file for file in all_trans if file not in all_files_list]\n",
    "missing_files"
   ]
  },
  {
   "cell_type": "code",
   "execution_count": 4,
   "metadata": {},
   "outputs": [],
   "source": [
    "#get the list of companies that have the answer \"Question/Answer not found.\"\n",
    "companies_with_no_answer = MONGODB_ANSWER_COLLECTION.find({\"answer\": \"Question/Answer not found.\"})\n",
    "# put them into a list and print them\n",
    "companies_with_no_answer_list = []\n",
    "for company in companies_with_no_answer:\n",
    "    companies_with_no_answer_list.append(company['company'])"
   ]
  },
  {
   "cell_type": "code",
   "execution_count": 10,
   "metadata": {},
   "outputs": [
    {
     "data": {
      "text/plain": [
       "257"
      ]
     },
     "execution_count": 10,
     "metadata": {},
     "output_type": "execute_result"
    }
   ],
   "source": []
  },
  {
   "cell_type": "code",
   "execution_count": 9,
   "metadata": {},
   "outputs": [
    {
     "name": "stdout",
     "output_type": "stream",
     "text": [
      "Literally unearthing a climate solution with Cody Finke of Brimstone-transcript.txt\n",
      "Brimstone\n",
      "A biometric smart gun with Kai Kloepfer of Biofire-transcript.txt\n",
      "Biofire\n",
      "Cultivating a creative community with Tina Roth-Eisenberg of CreativeMornings-transcript.txt\n",
      "CreativeMornings\n",
      "Reclaiming food waste with Jasmine Crowe-Houston of Goodr (2022)-transcript.txt\n",
      "Goodr (2022)\n",
      "Pitchfork_ Ryan Schreiber-transcript.txt\n",
      "Pitchfork\n",
      "Live From HIBT Summit_ Payal Kadakia, Tristan Walker, and Perry Chen on Innovation-transcript.txt\n",
      "Live From HIBT Summit\n",
      "When trucks drive themselves with Chris Urmson of Aurora-transcript.txt\n",
      "Aurora\n",
      "Threading the future of circular fashion with Peter Majeranowski of Circ-transcript.txt\n",
      "Circ\n",
      "Chipotle_ Steve Ells (2017)-transcript.txt\n",
      "Chipotle\n",
      "When a robot cooks your lunch with Steve Ells of Chipotle and Kernel-transcript.txt\n",
      "Chipotle\n",
      "When a robot cooks your lunch with Steve Ells of Chipotle and Kernel-transcript.txt\n",
      "Chipotle and Kernel\n",
      "Shooting for the moon with Steve Altemus of Intuitive Machines-transcript.txt\n",
      "Intuitive Machines\n",
      "PayPal_ Max Levchin (Part 1 of 2)-transcript.txt\n",
      "PayPal\n",
      "Airbnb_ Joe Gebbia-transcript.txt\n",
      "Airbnb\n",
      "When robots recycle with Matanya Horowitz of AMP Robotics-transcript.txt\n",
      "AMP Robotics\n",
      "When our phones are just phones with Kai Tang and Joe Hollier of Light-transcript.txt\n",
      "Light\n",
      "Norma Kamali_ Norma Kamali-transcript.txt\n",
      "Norma Kamali\n",
      "Brewing creativity with Jim Koch of Boston Beer Company-transcript.txt\n",
      "Boston Beer Company\n",
      "Lush Cosmetics_ Mark Constantine-transcript.txt\n",
      "Lush Cosmetics\n",
      "Author and Podcaster_ Tim Ferriss-transcript.txt\n",
      "Author and Podcaster\n",
      "Patagonia_ Yvon Chouinard-transcript.txt\n",
      "Patagonia\n",
      "Unlocking the renewable energy revolution with Ramya Swaminathan of Malta Inc.-transcript.txt\n",
      "Malta Inc.\n",
      "Reinvesting in our cities with renewable energy with Donnel Baird of BlocPower (2022)-transcript.txt\n",
      "BlocPower (2022)\n",
      "Saving the f#$%ing rainforests with Shara Ticku of C16 Biosciences-transcript.txt\n",
      "C16 Biosciences\n",
      "Doing the bees’ work with Thai Sade of BloomX-transcript.txt\n",
      "BloomX\n",
      "When your headphones listen to you with Ramses Alcaide of Neurable-transcript.txt\n",
      "Neurable\n",
      "Electrifying aviation with Kyle Clark of BETA Technologies-transcript.txt\n",
      "BETA Technologies\n",
      "Panera Bread_Au Bon Pain_ Ron Shaich (2018)-transcript.txt\n",
      "Panera Bread_Au Bon Pain\n",
      "MOD Pizza & Seattle Coffee Company_ Scott and Ally Svenson-transcript.txt\n",
      "MOD Pizza & Seattle Coffee Company\n",
      "Powering cars with solar energy with Steve Fambro of Aptera Motors-transcript.txt\n",
      "Aptera Motors\n",
      "ButcherBox_ Mike Salguero-transcript.txt\n",
      "ButcherBox\n",
      "Alienware_ Frank Azor and Nelson Gonzalez-transcript.txt\n",
      "Alienware\n",
      "Everlane_ Michael Preysman-transcript.txt\n",
      "Everlane\n"
     ]
    }
   ],
   "source": [
    "# find all of the files that include the companies in companies_with_no_answer_list\n",
    "files_with_no_answer = []\n",
    "for file in all_files:\n",
    "    for company in companies_with_no_answer_list:\n",
    "        if company in file:\n",
    "            print(file)\n",
    "            print(company)\n",
    "            files_with_no_answer.append(file)"
   ]
  },
  {
   "cell_type": "code",
   "execution_count": 11,
   "metadata": {},
   "outputs": [],
   "source": []
  },
  {
   "cell_type": "code",
   "execution_count": 72,
   "metadata": {},
   "outputs": [
    {
     "data": {
      "text/plain": [
       "DeleteResult({'n': 236, 'electionId': ObjectId('7fffffff0000000000000117'), 'opTime': {'ts': Timestamp(1708139348, 68), 't': 279}, 'ok': 1.0, '$clusterTime': {'clusterTime': Timestamp(1708139348, 68), 'signature': {'hash': b')i#}G\\x8a\\xc9K\\xb9\\xcc$n2\\xc3Z\\x9a\\xf9\\xc3|\\xac', 'keyId': 7297236172768542722}}, 'operationTime': Timestamp(1708139348, 68)}, acknowledged=True)"
      ]
     },
     "execution_count": 72,
     "metadata": {},
     "output_type": "execute_result"
    }
   ],
   "source": [
    "# I need to empty this mongodb collection MONGODB_COLLECTION\n",
    "MONGODB_ANSWER_COLLECTION.delete_many({})"
   ]
  },
  {
   "cell_type": "code",
   "execution_count": 8,
   "metadata": {},
   "outputs": [],
   "source": [
    "client = pymongo.MongoClient(os.getenv('mongodb_uri'))\n",
    "DB_NAME = \"hibt_transcripts\"\n",
    "COLLECTION_NAME = \"hibt_test_collection\"\n",
    "ATLAS_VECTOR_SEARCH_INDEX_NAME = \"hibt_test_index\"\n",
    "MONGODB_COLLECTION = client[DB_NAME][COLLECTION_NAME]"
   ]
  },
  {
   "cell_type": "code",
   "execution_count": 9,
   "metadata": {},
   "outputs": [
    {
     "data": {
      "text/plain": [
       "DeleteResult({'n': 20, 'electionId': ObjectId('7fffffff0000000000000116'), 'opTime': {'ts': Timestamp(1707905272, 26), 't': 278}, 'ok': 1.0, '$clusterTime': {'clusterTime': Timestamp(1707905272, 26), 'signature': {'hash': b'\\x9c\\x92cT\\x081\\xf2\\xc03M\\xa1\\xdc\\xe8\\xdd\\x82\\xf6\\xa7\\x8aX\\t', 'keyId': 7297236172768542722}}, 'operationTime': Timestamp(1707905272, 26)}, acknowledged=True)"
      ]
     },
     "execution_count": 9,
     "metadata": {},
     "output_type": "execute_result"
    }
   ],
   "source": [
    "# MONGODB_COLLECTION.delete_many({\"$expr\": {\"$ne\": [{\"$size\": \"$embedding\"}, 768]}})\n"
   ]
  },
  {
   "cell_type": "code",
   "execution_count": 21,
   "metadata": {},
   "outputs": [
    {
     "name": "stderr",
     "output_type": "stream",
     "text": [
      "[nltk_data] Downloading package punkt to /Users/leowalker/nltk_data...\n",
      "[nltk_data]   Package punkt is already up-to-date!\n"
     ]
    }
   ],
   "source": [
    "import nltk\n",
    "nltk.download('punkt')  # Download the tokenizer model if not already downloaded\n",
    "\n",
    "# Function to count tokens in a text file\n",
    "def count_tokens(filename):\n",
    "    # Open and read the file\n",
    "    with open(filename, 'r', encoding='utf-8') as file:\n",
    "        text = file.read()\n",
    "    \n",
    "    # Tokenize the text\n",
    "    tokens = nltk.word_tokenize(text)\n",
    "    \n",
    "    # Return the number of tokens\n",
    "    return len(tokens)\n",
    "\n"
   ]
  },
  {
   "cell_type": "code",
   "execution_count": 22,
   "metadata": {},
   "outputs": [
    {
     "name": "stdout",
     "output_type": "stream",
     "text": [
      "The text file contains 22102 tokens.\n"
     ]
    }
   ],
   "source": [
    "\n",
    "# Example usage\n",
    "filename = '../podscribe_transcription/hibt_main/Coinbase_ Brian Armstrong-transcript.txt'  # Replace this with your text file's path\n",
    "num_tokens = count_tokens(filename)\n",
    "print(f\"The text file contains {num_tokens} tokens.\")"
   ]
  },
  {
   "cell_type": "code",
   "execution_count": null,
   "metadata": {},
   "outputs": [],
   "source": []
  }
 ],
 "metadata": {
  "kernelspec": {
   "display_name": "interviewEnv",
   "language": "python",
   "name": "python3"
  },
  "language_info": {
   "codemirror_mode": {
    "name": "ipython",
    "version": 3
   },
   "file_extension": ".py",
   "mimetype": "text/x-python",
   "name": "python",
   "nbconvert_exporter": "python",
   "pygments_lexer": "ipython3",
   "version": "3.10.13"
  }
 },
 "nbformat": 4,
 "nbformat_minor": 2
}
